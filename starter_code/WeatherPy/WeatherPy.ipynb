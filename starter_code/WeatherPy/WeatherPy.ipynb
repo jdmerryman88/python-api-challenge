{
 "cells": [
  {
   "cell_type": "markdown",
   "metadata": {},
   "source": [
    "# WeatherPy\n",
    "----\n",
    "\n",
    "#### Note\n",
    "* Instructions have been included for each segment. You do not have to follow them exactly, but they are included to help you think through the steps."
   ]
  },
  {
   "cell_type": "code",
   "execution_count": 1,
   "metadata": {
    "scrolled": true
   },
   "outputs": [],
   "source": [
    "# Dependencies and Setup\n",
    "import matplotlib.pyplot as plt\n",
    "import pandas as pd\n",
    "import numpy as np\n",
    "import requests\n",
    "import time\n",
    "from scipy.stats import linregress\n",
    "\n",
    "# Import API key\n",
    "from api_keys import weather_api_key\n",
    "\n",
    "# Incorporated citipy to determine city based on latitude and longitude\n",
    "from citipy import citipy\n",
    "\n",
    "# Output File (CSV)\n",
    "output_data_file = \"output_data/cities.csv\"\n",
    "\n",
    "# Range of latitudes and longitudes\n",
    "lat_range = (-90, 90)\n",
    "lng_range = (-180, 180)"
   ]
  },
  {
   "cell_type": "markdown",
   "metadata": {},
   "source": [
    "## Generate Cities List"
   ]
  },
  {
   "cell_type": "code",
   "execution_count": 2,
   "metadata": {},
   "outputs": [
    {
     "data": {
      "text/plain": [
       "606"
      ]
     },
     "execution_count": 2,
     "metadata": {},
     "output_type": "execute_result"
    }
   ],
   "source": [
    "# List for holding lat_lngs and cities\n",
    "lat_lngs = []\n",
    "cities = []\n",
    "\n",
    "# Create a set of random lat and lng combinations\n",
    "lats = np.random.uniform(lat_range[0], lat_range[1], size=1500)\n",
    "lngs = np.random.uniform(lng_range[0], lng_range[1], size=1500)\n",
    "lat_lngs = zip(lats, lngs)\n",
    "\n",
    "# Identify nearest city for each lat, lng combination\n",
    "for lat_lng in lat_lngs:\n",
    "    city = citipy.nearest_city(lat_lng[0], lat_lng[1]).city_name\n",
    "    \n",
    "    \n",
    "    # If the city is unique, then add it to a our cities list\n",
    "    if city not in cities:\n",
    "        cities.append(city)\n",
    "\n",
    "# Print the city count to confirm sufficient count\n",
    "len(cities)\n"
   ]
  },
  {
   "cell_type": "markdown",
   "metadata": {},
   "source": [
    "### Perform API Calls\n",
    "* Perform a weather check on each city using a series of successive API calls.\n",
    "* Include a print log of each city as it'sbeing processed (with the city number and city name).\n"
   ]
  },
  {
   "cell_type": "code",
   "execution_count": null,
   "metadata": {
    "scrolled": true
   },
   "outputs": [
    {
     "name": "stdout",
     "output_type": "stream",
     "text": [
      "Processing city number 1 : santa isabel\n",
      "City not found. Next city...\n",
      "Processing city number 2 : santiago del estero\n",
      "Processing city number 3 : lavrentiya\n",
      "Processing city number 4 : bredasdorp\n",
      "Processing city number 5 : tarashcha\n",
      "Processing city number 6 : castro\n",
      "Processing city number 7 : praia da vitoria\n",
      "Processing city number 8 : rikitea\n",
      "Processing city number 9 : jamestown\n",
      "Processing city number 10 : khani\n",
      "Processing city number 11 : ituporanga\n",
      "Processing city number 12 : chokurdakh\n",
      "Processing city number 13 : vaini\n",
      "Processing city number 14 : nikolskoye\n",
      "Processing city number 15 : tura\n",
      "Processing city number 16 : gunnedah\n",
      "Processing city number 17 : cape town\n",
      "Processing city number 18 : georgetown\n",
      "Processing city number 19 : albany\n",
      "Processing city number 20 : dunedin\n",
      "Processing city number 21 : hilo\n",
      "Processing city number 22 : lupiro\n",
      "City not found. Next city...\n",
      "Processing city number 23 : mataura\n",
      "Processing city number 24 : sinazongwe\n",
      "Processing city number 25 : santa cruz\n",
      "City not found. Next city...\n",
      "Processing city number 26 : punta arenas\n",
      "Processing city number 27 : kloulklubed\n",
      "Processing city number 28 : sao miguel do araguaia\n",
      "Processing city number 29 : sao joao da barra\n",
      "Processing city number 30 : port elizabeth\n",
      "Processing city number 31 : port alfred\n",
      "Processing city number 32 : hobart\n",
      "Processing city number 33 : worthington\n",
      "Processing city number 34 : lebu\n",
      "Processing city number 35 : bluff\n",
      "Processing city number 36 : alofi\n",
      "Processing city number 37 : nizhniy odes\n",
      "Processing city number 38 : mar del plata\n",
      "Processing city number 39 : srednekolymsk\n",
      "Processing city number 40 : guarapari\n",
      "Processing city number 41 : torbay\n",
      "Processing city number 42 : barrow\n",
      "Processing city number 43 : alice springs\n",
      "Processing city number 44 : asosa\n",
      "Processing city number 45 : richards bay\n",
      "Processing city number 46 : kozhva\n",
      "City not found. Next city...\n",
      "Processing city number 47 : yellowknife\n",
      "Processing city number 48 : san policarpo\n",
      "Processing city number 49 : atuona\n",
      "Processing city number 50 : tilichiki\n",
      "Processing city number 51 : portland\n",
      "Processing city number 52 : asfi\n",
      "Processing city number 53 : ushuaia\n",
      "City not found. Next city...\n",
      "City not found. Next city...\n",
      "Processing city number 54 : saskylakh\n",
      "Processing city number 55 : airai\n",
      "Processing city number 56 : carnarvon\n",
      "Processing city number 57 : busselton\n",
      "Processing city number 58 : ossora\n",
      "Processing city number 59 : new norfolk\n",
      "Processing city number 60 : raudeberg\n",
      "Processing city number 61 : poum\n",
      "Processing city number 62 : coihaique\n",
      "Processing city number 63 : vila franca do campo\n",
      "Processing city number 64 : phoenix\n",
      "Processing city number 65 : faanui\n",
      "Processing city number 66 : rio grande\n",
      "Processing city number 67 : udala\n",
      "Processing city number 68 : mahebourg\n",
      "Processing city number 69 : goure\n",
      "Processing city number 70 : ahipara\n",
      "Processing city number 71 : flong\n",
      "Processing city number 72 : saint-philippe\n",
      "Processing city number 73 : erzin\n",
      "City not found. Next city...\n",
      "Processing city number 74 : guerrero negro\n",
      "Processing city number 75 : avarua\n",
      "Processing city number 76 : esperance\n",
      "Processing city number 77 : hermanus\n",
      "Processing city number 78 : pitimbu\n",
      "Processing city number 79 : hambantota\n",
      "Processing city number 80 : los llanos de aridane\n",
      "Processing city number 81 : qaanaaq\n",
      "Processing city number 82 : anadyr\n",
      "Processing city number 83 : takoradi\n",
      "Processing city number 84 : swan river\n",
      "Processing city number 85 : fortuna\n",
      "Processing city number 86 : srandakan\n",
      "City not found. Next city...\n",
      "Processing city number 87 : wanaka\n",
      "Processing city number 88 : lesnoye\n",
      "Processing city number 89 : cache creek\n",
      "Processing city number 90 : agirish\n",
      "Processing city number 91 : kiunga\n",
      "Processing city number 92 : deputatskiy\n",
      "Processing city number 93 : ribeira grande\n",
      "Processing city number 94 : basti\n",
      "Processing city number 95 : bandarbeyla\n",
      "Processing city number 96 : cidreira\n",
      "Processing city number 97 : san quintin\n",
      "Processing city number 98 : constitucion\n",
      "Processing city number 99 : huesca\n",
      "Processing city number 100 : mareeba\n",
      "Processing city number 101 : tuktoyaktuk\n",
      "City not found. Next city...\n",
      "Processing city number 102 : saldanha\n",
      "Processing city number 103 : krasnyy chikoy\n",
      "Processing city number 104 : ilulissat\n",
      "Processing city number 105 : khatanga\n",
      "Processing city number 106 : tiksi\n",
      "Processing city number 107 : tezu\n",
      "Processing city number 108 : arraial do cabo\n",
      "Processing city number 109 : east london\n",
      "Processing city number 110 : lundazi\n",
      "Processing city number 111 : hasaki\n",
      "Processing city number 112 : lompoc\n",
      "Processing city number 113 : genhe\n",
      "Processing city number 114 : igarka\n",
      "Processing city number 115 : kemijarvi\n",
      "Processing city number 116 : mundo nuevo\n",
      "Processing city number 117 : upernavik\n",
      "Processing city number 118 : kapaa\n",
      "Processing city number 119 : tasiilaq\n",
      "Processing city number 120 : cockburn town\n",
      "Processing city number 121 : vostok\n",
      "Processing city number 122 : klamath falls\n",
      "Processing city number 123 : syracuse\n",
      "Processing city number 124 : caravelas\n",
      "Processing city number 125 : puerto ayora\n",
      "Processing city number 126 : mackay\n",
      "Processing city number 127 : ponta do sol\n",
      "Processing city number 128 : kodiak\n",
      "Processing city number 129 : shumikha\n",
      "Processing city number 130 : utinga\n",
      "Processing city number 131 : kieta\n",
      "Processing city number 132 : komsomolskiy\n",
      "Processing city number 133 : mahibadhoo\n",
      "Processing city number 134 : natal\n",
      "Processing city number 135 : ancud\n",
      "Processing city number 136 : feicheng\n",
      "Processing city number 137 : prince rupert\n",
      "Processing city number 138 : mandali\n",
      "Processing city number 139 : maragogi\n",
      "Processing city number 140 : kysyl-syr\n",
      "Processing city number 141 : sept-iles\n",
      "Processing city number 142 : klaksvik\n",
      "Processing city number 143 : rio gallegos\n",
      "Processing city number 144 : souillac\n",
      "Processing city number 145 : vestmanna\n",
      "Processing city number 146 : kaitangata\n",
      "Processing city number 147 : kaka\n",
      "Processing city number 148 : hay river\n",
      "City not found. Next city...\n",
      "Processing city number 149 : hithadhoo\n",
      "Processing city number 150 : ilhabela\n",
      "Processing city number 151 : barcarena\n",
      "Processing city number 152 : vila velha\n",
      "Processing city number 153 : kushiro\n",
      "Processing city number 154 : nouadhibou\n",
      "City not found. Next city...\n",
      "Processing city number 155 : osakarovka\n",
      "Processing city number 156 : inverness\n",
      "Processing city number 157 : cayenne\n",
      "Processing city number 158 : muros\n",
      "Processing city number 159 : genc\n",
      "Processing city number 160 : bonavista\n",
      "Processing city number 161 : victoria\n",
      "City not found. Next city...\n",
      "Processing city number 162 : kaeo\n",
      "Processing city number 163 : honiara\n",
      "Processing city number 164 : elko\n",
      "City not found. Next city...\n",
      "Processing city number 165 : betsiamites\n",
      "Processing city number 166 : caucaia\n",
      "Processing city number 167 : saint george\n",
      "Processing city number 168 : iranshahr\n",
      "Processing city number 169 : lima\n",
      "Processing city number 170 : guangyuan\n",
      "City not found. Next city...\n",
      "City not found. Next city...\n",
      "Processing city number 171 : biak\n",
      "Processing city number 172 : poya\n",
      "Processing city number 173 : chifeng\n",
      "City not found. Next city...\n",
      "City not found. Next city...\n",
      "Processing city number 174 : birao\n",
      "Processing city number 175 : nhulunbuy\n",
      "Processing city number 176 : bambous virieux\n",
      "Processing city number 177 : dossor\n",
      "Processing city number 178 : batemans bay\n",
      "Processing city number 179 : clyde river\n",
      "Processing city number 180 : coronado\n",
      "Processing city number 181 : pangody\n",
      "Processing city number 182 : kenai\n",
      "Processing city number 183 : rocha\n",
      "Processing city number 184 : karratha\n",
      "Processing city number 185 : kruisfontein\n",
      "Processing city number 186 : chuy\n",
      "Processing city number 187 : narsaq\n",
      "Processing city number 188 : huarmey\n",
      "Processing city number 189 : sorong\n",
      "Processing city number 190 : san cristobal\n",
      "Processing city number 191 : bara\n",
      "Processing city number 192 : harper\n",
      "Processing city number 193 : kibakwe\n",
      "Processing city number 194 : soller\n",
      "Processing city number 195 : matagami\n",
      "Processing city number 196 : oranjemund\n",
      "City not found. Next city...\n",
      "Processing city number 197 : te anau\n",
      "Processing city number 198 : coquimbo\n",
      "Processing city number 199 : mengcheng\n",
      "Processing city number 200 : beloha\n",
      "Processing city number 201 : korla\n",
      "Processing city number 202 : warri\n",
      "Processing city number 203 : mahon\n",
      "Processing city number 204 : gobabis\n"
     ]
    },
    {
     "name": "stdout",
     "output_type": "stream",
     "text": [
      "Processing city number 205 : qixia\n",
      "Processing city number 206 : morehead\n",
      "Processing city number 207 : ayan\n",
      "Processing city number 208 : semey\n",
      "Processing city number 209 : thinadhoo\n",
      "Processing city number 210 : bethel\n",
      "Processing city number 211 : beringovskiy\n",
      "Processing city number 212 : butaritari\n",
      "Processing city number 213 : monywa\n",
      "Processing city number 214 : hamilton\n",
      "Processing city number 215 : yetkul\n",
      "Processing city number 216 : sobolevo\n",
      "City not found. Next city...\n",
      "Processing city number 217 : olafsvik\n",
      "Processing city number 218 : oistins\n",
      "Processing city number 219 : camacha\n",
      "City not found. Next city...\n",
      "Processing city number 220 : kabinda\n",
      "Processing city number 221 : siddapur\n",
      "Processing city number 222 : bouca\n",
      "Processing city number 223 : aklavik\n",
      "Processing city number 224 : salalah\n",
      "Processing city number 225 : mago\n",
      "Processing city number 226 : maningrida\n",
      "Processing city number 227 : thompson\n",
      "Processing city number 228 : kisesa\n",
      "Processing city number 229 : college\n",
      "Processing city number 230 : shankargarh\n",
      "Processing city number 231 : aras\n",
      "City not found. Next city...\n",
      "Processing city number 232 : sitka\n",
      "Processing city number 233 : sao filipe\n",
      "Processing city number 234 : abnub\n",
      "Processing city number 235 : kumluca\n",
      "Processing city number 236 : boke\n",
      "Processing city number 237 : san ramon de la nueva oran\n",
      "Processing city number 238 : luderitz\n",
      "Processing city number 239 : kungurtug\n",
      "Processing city number 240 : norman wells\n",
      "Processing city number 241 : kiruna\n",
      "Processing city number 242 : brae\n",
      "Processing city number 243 : marrakesh\n",
      "Processing city number 244 : berlevag\n",
      "Processing city number 245 : labuhan\n",
      "Processing city number 246 : roma\n",
      "Processing city number 247 : longyearbyen\n",
      "Processing city number 248 : mackenzie\n",
      "Processing city number 249 : obo\n",
      "Processing city number 250 : san-pedro\n",
      "Processing city number 251 : rumford\n",
      "Processing city number 252 : wadi musa\n",
      "Processing city number 253 : paramonga\n",
      "Processing city number 254 : whitehorse\n",
      "Processing city number 255 : buala\n",
      "Processing city number 256 : boa vista\n",
      "Processing city number 257 : reconquista\n",
      "Processing city number 258 : san patricio\n",
      "Processing city number 259 : chokwe\n",
      "Processing city number 260 : adrar\n",
      "Processing city number 261 : severo-kurilsk\n",
      "Processing city number 262 : gazojak\n",
      "Processing city number 263 : acandi\n",
      "Processing city number 264 : chake chake\n",
      "Processing city number 265 : husavik\n",
      "Processing city number 266 : opuwo\n",
      "Processing city number 267 : mragowo\n",
      "Processing city number 268 : barroso\n",
      "Processing city number 269 : hamada\n",
      "Processing city number 270 : vao\n",
      "Processing city number 271 : victor harbor\n",
      "Processing city number 272 : jidong\n",
      "Processing city number 273 : bathsheba\n",
      "Processing city number 274 : atar\n",
      "Processing city number 275 : cabo san lucas\n",
      "Processing city number 276 : shubarshi\n",
      "Processing city number 277 : iqaluit\n",
      "Processing city number 278 : saint anthony\n",
      "Processing city number 279 : byron bay\n",
      "Processing city number 280 : laje\n",
      "Processing city number 281 : ust-tarka\n",
      "City not found. Next city...\n",
      "Processing city number 282 : kahului\n",
      "Processing city number 283 : tautira\n",
      "Processing city number 284 : hit\n",
      "Processing city number 285 : port hedland\n",
      "Processing city number 286 : port blair\n",
      "Processing city number 287 : sisimiut\n",
      "Processing city number 288 : gunupur\n",
      "Processing city number 289 : kavaratti\n",
      "Processing city number 290 : sao felix do xingu\n",
      "Processing city number 291 : the valley\n",
      "Processing city number 292 : yumen\n",
      "Processing city number 293 : goulburn\n",
      "Processing city number 294 : isangel\n",
      "Processing city number 295 : asmar\n",
      "Processing city number 296 : flensburg\n",
      "Processing city number 297 : broken hill\n",
      "Processing city number 298 : axim\n",
      "Processing city number 299 : havre-saint-pierre\n",
      "Processing city number 300 : mayo\n",
      "Processing city number 301 : madang\n",
      "City not found. Next city...\n",
      "Processing city number 302 : noshiro\n",
      "Processing city number 303 : inta\n",
      "Processing city number 304 : zhanaozen\n",
      "Processing city number 305 : gamba\n",
      "Processing city number 306 : bengkulu\n",
      "Processing city number 307 : hofgeismar\n",
      "Processing city number 308 : geraldton\n",
      "Processing city number 309 : anderson\n",
      "Processing city number 310 : karpogory\n",
      "Processing city number 311 : grand gaube\n",
      "City not found. Next city...\n",
      "Processing city number 312 : hobyo\n",
      "Processing city number 313 : bowen\n",
      "Processing city number 314 : issoire\n",
      "Processing city number 315 : lady lake\n",
      "Processing city number 316 : vagur\n",
      "Processing city number 317 : kashi\n",
      "Processing city number 318 : leh\n",
      "Processing city number 319 : mosquera\n",
      "City not found. Next city...\n",
      "Processing city number 320 : horki\n",
      "City not found. Next city...\n",
      "Processing city number 321 : letnyaya stavka\n",
      "Processing city number 322 : leningradskiy\n",
      "Processing city number 323 : katsuura\n",
      "City not found. Next city...\n",
      "Processing city number 324 : visavadar\n",
      "Processing city number 325 : naryan-mar\n",
      "Processing city number 326 : buseresere\n",
      "Processing city number 327 : vestmannaeyjar\n"
     ]
    }
   ],
   "source": [
    "url = \"http://api.openweathermap.org/data/2.5/weather?\"\n",
    "units = \"imperial\"\n",
    "query_url = f\"{url}appid={weather_api_key}&units={units}&q=\"\n",
    "\n",
    "\n",
    "city_name = []\n",
    "country = []\n",
    "latitude = []\n",
    "longitude = []\n",
    "weather_date = []\n",
    "temp = []\n",
    "humidity = []\n",
    "cloudiness = []\n",
    "wind_speed = []\n",
    "\n",
    "counter = 0\n",
    "# For each cities in cities list, get data\n",
    "for index, city in enumerate(cities, start = 1):\n",
    "    try:\n",
    "        response = requests.get(query_url + city).json()\n",
    "        city_name.append(response[\"name\"])\n",
    "        cloudiness.append(response[\"clouds\"][\"all\"])\n",
    "        country.append(response[\"sys\"][\"country\"])\n",
    "        weather_date.append(response[\"dt\"])\n",
    "        humidity.append(response[\"main\"][\"humidity\"])\n",
    "        latitude.append(response[\"coord\"][\"lat\"])\n",
    "        longitude.append(response[\"coord\"][\"lon\"])\n",
    "        temp.append(response['main']['temp_max'])\n",
    "        wind_speed.append(response[\"wind\"][\"speed\"])\n",
    "        counter = counter + 1\n",
    "    \n",
    "            \n",
    "        print(f\"Processing city number {counter} : {city}\") \n",
    "  \n",
    "    except(KeyError, IndexError):\n",
    "        print(\"City not found. Next city...\")\n",
    "\n",
    "\n",
    "print(\"City Data Complete\")\n"
   ]
  },
  {
   "cell_type": "markdown",
   "metadata": {},
   "source": [
    "### Convert Raw Data to DataFrame\n",
    "* Export the city data into a .csv.\n",
    "* Display the DataFrame"
   ]
  },
  {
   "cell_type": "code",
   "execution_count": 4,
   "metadata": {},
   "outputs": [],
   "source": [
    "weather_df = pd.DataFrame({'City' : city_name,\n",
    "                          'Country' : country ,\n",
    "                          'Lat' : latitude , \n",
    "                          'Lng' : longitude ,\n",
    "                          'Date' : weather_date ,\n",
    "                          'Max Temp' : temp ,\n",
    "                          'Humidity' : humidity ,\n",
    "                          'Cloudiness' : cloudiness ,\n",
    "                          'Wind Speed' : wind_speed })\n",
    "weather_df.to_csv(\"../../output_data/cities.csv\", index = False)"
   ]
  },
  {
   "cell_type": "code",
   "execution_count": 5,
   "metadata": {},
   "outputs": [
    {
     "data": {
      "text/html": [
       "<div>\n",
       "<style scoped>\n",
       "    .dataframe tbody tr th:only-of-type {\n",
       "        vertical-align: middle;\n",
       "    }\n",
       "\n",
       "    .dataframe tbody tr th {\n",
       "        vertical-align: top;\n",
       "    }\n",
       "\n",
       "    .dataframe thead th {\n",
       "        text-align: right;\n",
       "    }\n",
       "</style>\n",
       "<table border=\"1\" class=\"dataframe\">\n",
       "  <thead>\n",
       "    <tr style=\"text-align: right;\">\n",
       "      <th></th>\n",
       "      <th>City</th>\n",
       "      <th>Country</th>\n",
       "      <th>Lat</th>\n",
       "      <th>Lng</th>\n",
       "      <th>Date</th>\n",
       "      <th>Max Temp</th>\n",
       "      <th>Humidity</th>\n",
       "      <th>Cloudiness</th>\n",
       "      <th>Wind Speed</th>\n",
       "    </tr>\n",
       "  </thead>\n",
       "  <tbody>\n",
       "    <tr>\n",
       "      <th>0</th>\n",
       "      <td>Santa Isabel</td>\n",
       "      <td>BR</td>\n",
       "      <td>-23.32</td>\n",
       "      <td>-46.22</td>\n",
       "      <td>1607623292</td>\n",
       "      <td>82.40</td>\n",
       "      <td>51</td>\n",
       "      <td>40</td>\n",
       "      <td>8.05</td>\n",
       "    </tr>\n",
       "    <tr>\n",
       "      <th>1</th>\n",
       "      <td>Santiago del Estero</td>\n",
       "      <td>AR</td>\n",
       "      <td>-27.80</td>\n",
       "      <td>-64.26</td>\n",
       "      <td>1607623313</td>\n",
       "      <td>107.01</td>\n",
       "      <td>21</td>\n",
       "      <td>0</td>\n",
       "      <td>11.01</td>\n",
       "    </tr>\n",
       "    <tr>\n",
       "      <th>2</th>\n",
       "      <td>Lavrentiya</td>\n",
       "      <td>RU</td>\n",
       "      <td>65.58</td>\n",
       "      <td>-171.00</td>\n",
       "      <td>1607623300</td>\n",
       "      <td>7.20</td>\n",
       "      <td>89</td>\n",
       "      <td>0</td>\n",
       "      <td>7.34</td>\n",
       "    </tr>\n",
       "    <tr>\n",
       "      <th>3</th>\n",
       "      <td>Bredasdorp</td>\n",
       "      <td>ZA</td>\n",
       "      <td>-34.53</td>\n",
       "      <td>20.04</td>\n",
       "      <td>1607623274</td>\n",
       "      <td>66.20</td>\n",
       "      <td>72</td>\n",
       "      <td>46</td>\n",
       "      <td>5.82</td>\n",
       "    </tr>\n",
       "    <tr>\n",
       "      <th>4</th>\n",
       "      <td>Tarashcha</td>\n",
       "      <td>UA</td>\n",
       "      <td>49.56</td>\n",
       "      <td>30.49</td>\n",
       "      <td>1607623313</td>\n",
       "      <td>33.78</td>\n",
       "      <td>95</td>\n",
       "      <td>100</td>\n",
       "      <td>17.69</td>\n",
       "    </tr>\n",
       "    <tr>\n",
       "      <th>...</th>\n",
       "      <td>...</td>\n",
       "      <td>...</td>\n",
       "      <td>...</td>\n",
       "      <td>...</td>\n",
       "      <td>...</td>\n",
       "      <td>...</td>\n",
       "      <td>...</td>\n",
       "      <td>...</td>\n",
       "      <td>...</td>\n",
       "    </tr>\n",
       "    <tr>\n",
       "      <th>553</th>\n",
       "      <td>Hvolsvollur</td>\n",
       "      <td>IS</td>\n",
       "      <td>63.75</td>\n",
       "      <td>-20.22</td>\n",
       "      <td>1607623405</td>\n",
       "      <td>44.60</td>\n",
       "      <td>87</td>\n",
       "      <td>90</td>\n",
       "      <td>24.16</td>\n",
       "    </tr>\n",
       "    <tr>\n",
       "      <th>554</th>\n",
       "      <td>Kargat</td>\n",
       "      <td>RU</td>\n",
       "      <td>55.20</td>\n",
       "      <td>80.28</td>\n",
       "      <td>1607623405</td>\n",
       "      <td>12.63</td>\n",
       "      <td>95</td>\n",
       "      <td>100</td>\n",
       "      <td>13.09</td>\n",
       "    </tr>\n",
       "    <tr>\n",
       "      <th>555</th>\n",
       "      <td>Joshīmath</td>\n",
       "      <td>IN</td>\n",
       "      <td>30.57</td>\n",
       "      <td>79.57</td>\n",
       "      <td>1607623406</td>\n",
       "      <td>41.04</td>\n",
       "      <td>53</td>\n",
       "      <td>6</td>\n",
       "      <td>6.69</td>\n",
       "    </tr>\n",
       "    <tr>\n",
       "      <th>556</th>\n",
       "      <td>Viedma</td>\n",
       "      <td>AR</td>\n",
       "      <td>-40.81</td>\n",
       "      <td>-63.00</td>\n",
       "      <td>1607623406</td>\n",
       "      <td>91.00</td>\n",
       "      <td>35</td>\n",
       "      <td>17</td>\n",
       "      <td>5.01</td>\n",
       "    </tr>\n",
       "    <tr>\n",
       "      <th>557</th>\n",
       "      <td>San Carlos</td>\n",
       "      <td>VE</td>\n",
       "      <td>9.66</td>\n",
       "      <td>-68.58</td>\n",
       "      <td>1607623406</td>\n",
       "      <td>86.00</td>\n",
       "      <td>64</td>\n",
       "      <td>67</td>\n",
       "      <td>4.52</td>\n",
       "    </tr>\n",
       "  </tbody>\n",
       "</table>\n",
       "<p>558 rows × 9 columns</p>\n",
       "</div>"
      ],
      "text/plain": [
       "                    City Country    Lat     Lng        Date  Max Temp  \\\n",
       "0           Santa Isabel      BR -23.32  -46.22  1607623292     82.40   \n",
       "1    Santiago del Estero      AR -27.80  -64.26  1607623313    107.01   \n",
       "2             Lavrentiya      RU  65.58 -171.00  1607623300      7.20   \n",
       "3             Bredasdorp      ZA -34.53   20.04  1607623274     66.20   \n",
       "4              Tarashcha      UA  49.56   30.49  1607623313     33.78   \n",
       "..                   ...     ...    ...     ...         ...       ...   \n",
       "553          Hvolsvollur      IS  63.75  -20.22  1607623405     44.60   \n",
       "554               Kargat      RU  55.20   80.28  1607623405     12.63   \n",
       "555            Joshīmath      IN  30.57   79.57  1607623406     41.04   \n",
       "556               Viedma      AR -40.81  -63.00  1607623406     91.00   \n",
       "557           San Carlos      VE   9.66  -68.58  1607623406     86.00   \n",
       "\n",
       "     Humidity  Cloudiness  Wind Speed  \n",
       "0          51          40        8.05  \n",
       "1          21           0       11.01  \n",
       "2          89           0        7.34  \n",
       "3          72          46        5.82  \n",
       "4          95         100       17.69  \n",
       "..        ...         ...         ...  \n",
       "553        87          90       24.16  \n",
       "554        95         100       13.09  \n",
       "555        53           6        6.69  \n",
       "556        35          17        5.01  \n",
       "557        64          67        4.52  \n",
       "\n",
       "[558 rows x 9 columns]"
      ]
     },
     "execution_count": 5,
     "metadata": {},
     "output_type": "execute_result"
    }
   ],
   "source": [
    "weather_df"
   ]
  },
  {
   "cell_type": "markdown",
   "metadata": {},
   "source": [
    "## Inspect the data and remove the cities where the humidity > 100%.\n",
    "----\n",
    "Skip this step if there are no cities that have humidity > 100%. "
   ]
  },
  {
   "cell_type": "code",
   "execution_count": 6,
   "metadata": {},
   "outputs": [
    {
     "data": {
      "text/html": [
       "<div>\n",
       "<style scoped>\n",
       "    .dataframe tbody tr th:only-of-type {\n",
       "        vertical-align: middle;\n",
       "    }\n",
       "\n",
       "    .dataframe tbody tr th {\n",
       "        vertical-align: top;\n",
       "    }\n",
       "\n",
       "    .dataframe thead th {\n",
       "        text-align: right;\n",
       "    }\n",
       "</style>\n",
       "<table border=\"1\" class=\"dataframe\">\n",
       "  <thead>\n",
       "    <tr style=\"text-align: right;\">\n",
       "      <th></th>\n",
       "      <th>City</th>\n",
       "      <th>Country</th>\n",
       "      <th>Lat</th>\n",
       "      <th>Lng</th>\n",
       "      <th>Date</th>\n",
       "      <th>Max Temp</th>\n",
       "      <th>Humidity</th>\n",
       "      <th>Cloudiness</th>\n",
       "      <th>Wind Speed</th>\n",
       "    </tr>\n",
       "  </thead>\n",
       "  <tbody>\n",
       "    <tr>\n",
       "      <th>348</th>\n",
       "      <td>North Bend</td>\n",
       "      <td>US</td>\n",
       "      <td>43.41</td>\n",
       "      <td>-124.22</td>\n",
       "      <td>1607623323</td>\n",
       "      <td>44.01</td>\n",
       "      <td>100</td>\n",
       "      <td>75</td>\n",
       "      <td>8.05</td>\n",
       "    </tr>\n",
       "    <tr>\n",
       "      <th>461</th>\n",
       "      <td>Hérouville-Saint-Clair</td>\n",
       "      <td>FR</td>\n",
       "      <td>49.21</td>\n",
       "      <td>-0.31</td>\n",
       "      <td>1607623390</td>\n",
       "      <td>44.60</td>\n",
       "      <td>100</td>\n",
       "      <td>75</td>\n",
       "      <td>9.17</td>\n",
       "    </tr>\n",
       "    <tr>\n",
       "      <th>55</th>\n",
       "      <td>Carnarvon</td>\n",
       "      <td>AU</td>\n",
       "      <td>-24.87</td>\n",
       "      <td>113.63</td>\n",
       "      <td>1607623322</td>\n",
       "      <td>71.60</td>\n",
       "      <td>100</td>\n",
       "      <td>75</td>\n",
       "      <td>12.75</td>\n",
       "    </tr>\n",
       "    <tr>\n",
       "      <th>266</th>\n",
       "      <td>Mrągowo</td>\n",
       "      <td>PL</td>\n",
       "      <td>53.86</td>\n",
       "      <td>21.31</td>\n",
       "      <td>1607623357</td>\n",
       "      <td>28.40</td>\n",
       "      <td>100</td>\n",
       "      <td>90</td>\n",
       "      <td>8.05</td>\n",
       "    </tr>\n",
       "    <tr>\n",
       "      <th>70</th>\n",
       "      <td>Fløng</td>\n",
       "      <td>DK</td>\n",
       "      <td>55.66</td>\n",
       "      <td>12.19</td>\n",
       "      <td>1607623324</td>\n",
       "      <td>37.00</td>\n",
       "      <td>100</td>\n",
       "      <td>100</td>\n",
       "      <td>10.29</td>\n",
       "    </tr>\n",
       "    <tr>\n",
       "      <th>...</th>\n",
       "      <td>...</td>\n",
       "      <td>...</td>\n",
       "      <td>...</td>\n",
       "      <td>...</td>\n",
       "      <td>...</td>\n",
       "      <td>...</td>\n",
       "      <td>...</td>\n",
       "      <td>...</td>\n",
       "      <td>...</td>\n",
       "    </tr>\n",
       "    <tr>\n",
       "      <th>68</th>\n",
       "      <td>Gouré</td>\n",
       "      <td>NE</td>\n",
       "      <td>13.98</td>\n",
       "      <td>10.27</td>\n",
       "      <td>1607623324</td>\n",
       "      <td>86.00</td>\n",
       "      <td>16</td>\n",
       "      <td>77</td>\n",
       "      <td>1.99</td>\n",
       "    </tr>\n",
       "    <tr>\n",
       "      <th>203</th>\n",
       "      <td>Gobabis</td>\n",
       "      <td>NA</td>\n",
       "      <td>-22.45</td>\n",
       "      <td>18.97</td>\n",
       "      <td>1607623347</td>\n",
       "      <td>87.03</td>\n",
       "      <td>13</td>\n",
       "      <td>0</td>\n",
       "      <td>4.45</td>\n",
       "    </tr>\n",
       "    <tr>\n",
       "      <th>338</th>\n",
       "      <td>Boussé</td>\n",
       "      <td>BF</td>\n",
       "      <td>12.66</td>\n",
       "      <td>-1.89</td>\n",
       "      <td>1607623334</td>\n",
       "      <td>96.80</td>\n",
       "      <td>13</td>\n",
       "      <td>14</td>\n",
       "      <td>5.82</td>\n",
       "    </tr>\n",
       "    <tr>\n",
       "      <th>520</th>\n",
       "      <td>San Juan</td>\n",
       "      <td>AR</td>\n",
       "      <td>-31.54</td>\n",
       "      <td>-68.54</td>\n",
       "      <td>1607623365</td>\n",
       "      <td>105.78</td>\n",
       "      <td>13</td>\n",
       "      <td>1</td>\n",
       "      <td>18.68</td>\n",
       "    </tr>\n",
       "    <tr>\n",
       "      <th>328</th>\n",
       "      <td>Mount Isa</td>\n",
       "      <td>AU</td>\n",
       "      <td>-20.73</td>\n",
       "      <td>139.50</td>\n",
       "      <td>1607623254</td>\n",
       "      <td>86.00</td>\n",
       "      <td>13</td>\n",
       "      <td>97</td>\n",
       "      <td>13.87</td>\n",
       "    </tr>\n",
       "  </tbody>\n",
       "</table>\n",
       "<p>558 rows × 9 columns</p>\n",
       "</div>"
      ],
      "text/plain": [
       "                       City Country    Lat     Lng        Date  Max Temp  \\\n",
       "348              North Bend      US  43.41 -124.22  1607623323     44.01   \n",
       "461  Hérouville-Saint-Clair      FR  49.21   -0.31  1607623390     44.60   \n",
       "55                Carnarvon      AU -24.87  113.63  1607623322     71.60   \n",
       "266                 Mrągowo      PL  53.86   21.31  1607623357     28.40   \n",
       "70                    Fløng      DK  55.66   12.19  1607623324     37.00   \n",
       "..                      ...     ...    ...     ...         ...       ...   \n",
       "68                    Gouré      NE  13.98   10.27  1607623324     86.00   \n",
       "203                 Gobabis      NA -22.45   18.97  1607623347     87.03   \n",
       "338                  Boussé      BF  12.66   -1.89  1607623334     96.80   \n",
       "520                San Juan      AR -31.54  -68.54  1607623365    105.78   \n",
       "328               Mount Isa      AU -20.73  139.50  1607623254     86.00   \n",
       "\n",
       "     Humidity  Cloudiness  Wind Speed  \n",
       "348       100          75        8.05  \n",
       "461       100          75        9.17  \n",
       "55        100          75       12.75  \n",
       "266       100          90        8.05  \n",
       "70        100         100       10.29  \n",
       "..        ...         ...         ...  \n",
       "68         16          77        1.99  \n",
       "203        13           0        4.45  \n",
       "338        13          14        5.82  \n",
       "520        13           1       18.68  \n",
       "328        13          97       13.87  \n",
       "\n",
       "[558 rows x 9 columns]"
      ]
     },
     "execution_count": 6,
     "metadata": {},
     "output_type": "execute_result"
    }
   ],
   "source": [
    "weather_df['Humidity'].astype(float)\n",
    "weather_sorted = weather_df.sort_values(by='Humidity', ascending=False)\n",
    "weather_sorted\n",
    "#Sorted shows none are above 100"
   ]
  },
  {
   "cell_type": "code",
   "execution_count": 7,
   "metadata": {},
   "outputs": [],
   "source": [
    "#  Get the indices of cities that have humidity over 100%.\n"
   ]
  },
  {
   "cell_type": "code",
   "execution_count": 8,
   "metadata": {},
   "outputs": [],
   "source": [
    "# Make a new DataFrame equal to the city data to drop all humidity outliers by index.\n",
    "# Passing \"inplace=False\" will make a copy of the city_data DataFrame, which we call \"clean_city_data\".\n"
   ]
  },
  {
   "cell_type": "code",
   "execution_count": null,
   "metadata": {},
   "outputs": [],
   "source": [
    "\n"
   ]
  },
  {
   "cell_type": "markdown",
   "metadata": {},
   "source": [
    "## Plotting the Data\n",
    "* Use proper labeling of the plots using plot titles (including date of analysis) and axes labels.\n",
    "* Save the plotted figures as .pngs."
   ]
  },
  {
   "cell_type": "markdown",
   "metadata": {},
   "source": [
    "## Latitude vs. Temperature Plot"
   ]
  },
  {
   "cell_type": "code",
   "execution_count": 42,
   "metadata": {
    "scrolled": true
   },
   "outputs": [
    {
     "data": {
      "image/png": "[encoded data removed]",
      "text/plain": [
       "<Figure size 432x288 with 1 Axes>"
      ]
     },
     "metadata": {
      "needs_background": "light"
     },
     "output_type": "display_data"
    }
   ],
   "source": [
    "# Create Latitude vs. Temperature Plot scatter plot\n",
    "plt.scatter(weather_df[\"Lat\"], weather_df[\"Max Temp\"], facecolor = \"green\")\n",
    "\n",
    "# Set title\n",
    "plt.title(\"City Latitude vs. Max Temperature (12/10/20)\")\n",
    "\n",
    "# Set x axis label\n",
    "plt.xlabel(\"Laitude\")\n",
    "\n",
    "# Set y axis label\n",
    "plt.ylabel(\"Max Temperature (F)\")\n",
    "\n",
    "# Set grid line\n",
    "plt.grid(linestyle='-', linewidth=1, alpha = 0.5)\n",
    "\n",
    "# Save the plotted figure as .pngs\n",
    "plt.savefig(\"Images/City Latitude vs Max Temperature.png\")"
   ]
  },
  {
   "cell_type": "markdown",
   "metadata": {},
   "source": [
    "## Latitude vs. Humidity Plot"
   ]
  },
  {
   "cell_type": "code",
   "execution_count": 43,
   "metadata": {},
   "outputs": [
    {
     "data": {
      "image/png": "[encoded data removed]",
      "text/plain": [
       "<Figure size 432x288 with 1 Axes>"
      ]
     },
     "metadata": {
      "needs_background": "light"
     },
     "output_type": "display_data"
    }
   ],
   "source": [
    "# Create Latitude vs. Temperature Plot scatter plot\n",
    "plt.scatter(weather_df[\"Lat\"], weather_df[\"Humidity\"], facecolor = \"blue\")\n",
    "\n",
    "\n",
    "plt.title(\"City Latitude vs. Humidity (12/10/20)\")\n",
    "\n",
    "\n",
    "plt.xlabel(\"Laitude\")\n",
    "\n",
    "\n",
    "plt.ylabel(\"Humidity\")\n",
    "\n",
    "\n",
    "plt.grid(linestyle='-', linewidth=1, alpha = 0.5)\n",
    "\n",
    "\n",
    "plt.savefig(\"Images/City Latitude vs Humidity.png\")"
   ]
  },
  {
   "cell_type": "markdown",
   "metadata": {},
   "source": [
    "## Latitude vs. Cloudiness Plot"
   ]
  },
  {
   "cell_type": "code",
   "execution_count": 44,
   "metadata": {},
   "outputs": [
    {
     "data": {
      "image/png": "[encoded data removed]",
      "text/plain": [
       "<Figure size 432x288 with 1 Axes>"
      ]
     },
     "metadata": {
      "needs_background": "light"
     },
     "output_type": "display_data"
    }
   ],
   "source": [
    "# Create Latitude vs. Temperature Plot scatter plot\n",
    "plt.scatter(weather_df[\"Lat\"], weather_df[\"Cloudiness\"], facecolor = \"grey\")\n",
    "\n",
    "\n",
    "plt.title(\"City Latitude vs. Cloudiness (12/10/20)\")\n",
    "\n",
    "\n",
    "plt.xlabel(\"Laitude\")\n",
    "\n",
    "\n",
    "plt.ylabel(\"Cloudiness\")\n",
    "\n",
    "\n",
    "plt.grid(linestyle='-', linewidth=1, alpha = 0.5)\n",
    "\n",
    "\n",
    "plt.savefig(\"Images/City Latitude vs Cloudiness.png\")"
   ]
  },
  {
   "cell_type": "markdown",
   "metadata": {},
   "source": [
    "## Latitude vs. Wind Speed Plot"
   ]
  },
  {
   "cell_type": "code",
   "execution_count": 45,
   "metadata": {},
   "outputs": [
    {
     "data": {
      "image/png": "[encoded data removed]",
      "text/plain": [
       "<Figure size 432x288 with 1 Axes>"
      ]
     },
     "metadata": {
      "needs_background": "light"
     },
     "output_type": "display_data"
    }
   ],
   "source": [
    "# Create Latitude vs. Temperature Plot scatter plot\n",
    "plt.scatter(weather_df[\"Lat\"], weather_df[\"Wind Speed\"], facecolor = \"yellow\")\n",
    "\n",
    "\n",
    "plt.title(\"City Latitude vs. Wind Speed (12/10/20)\")\n",
    "\n",
    "\n",
    "plt.xlabel(\"Laitude\")\n",
    "\n",
    "\n",
    "plt.ylabel(\"Wind Speed\")\n",
    "\n",
    "\n",
    "plt.grid(linestyle='-', linewidth=1, alpha = 0.5)\n",
    "\n",
    "\n",
    "plt.savefig(\"Images/City Latitude vs Wind Speed.png\")"
   ]
  },
  {
   "cell_type": "markdown",
   "metadata": {},
   "source": [
    "## Linear Regression"
   ]
  },
  {
   "cell_type": "code",
   "execution_count": 13,
   "metadata": {},
   "outputs": [
    {
     "data": {
      "text/html": [
       "<div>\n",
       "<style scoped>\n",
       "    .dataframe tbody tr th:only-of-type {\n",
       "        vertical-align: middle;\n",
       "    }\n",
       "\n",
       "    .dataframe tbody tr th {\n",
       "        vertical-align: top;\n",
       "    }\n",
       "\n",
       "    .dataframe thead th {\n",
       "        text-align: right;\n",
       "    }\n",
       "</style>\n",
       "<table border=\"1\" class=\"dataframe\">\n",
       "  <thead>\n",
       "    <tr style=\"text-align: right;\">\n",
       "      <th></th>\n",
       "      <th>City</th>\n",
       "      <th>Country</th>\n",
       "      <th>Lat</th>\n",
       "      <th>Lng</th>\n",
       "      <th>Date</th>\n",
       "      <th>Max Temp</th>\n",
       "      <th>Humidity</th>\n",
       "      <th>Cloudiness</th>\n",
       "      <th>Wind Speed</th>\n",
       "    </tr>\n",
       "  </thead>\n",
       "  <tbody>\n",
       "    <tr>\n",
       "      <th>2</th>\n",
       "      <td>Lavrentiya</td>\n",
       "      <td>RU</td>\n",
       "      <td>65.58</td>\n",
       "      <td>-171.00</td>\n",
       "      <td>1607623300</td>\n",
       "      <td>7.20</td>\n",
       "      <td>89</td>\n",
       "      <td>0</td>\n",
       "      <td>7.34</td>\n",
       "    </tr>\n",
       "    <tr>\n",
       "      <th>4</th>\n",
       "      <td>Tarashcha</td>\n",
       "      <td>UA</td>\n",
       "      <td>49.56</td>\n",
       "      <td>30.49</td>\n",
       "      <td>1607623313</td>\n",
       "      <td>33.78</td>\n",
       "      <td>95</td>\n",
       "      <td>100</td>\n",
       "      <td>17.69</td>\n",
       "    </tr>\n",
       "    <tr>\n",
       "      <th>6</th>\n",
       "      <td>Praia da Vitória</td>\n",
       "      <td>PT</td>\n",
       "      <td>38.73</td>\n",
       "      <td>-27.07</td>\n",
       "      <td>1607623314</td>\n",
       "      <td>68.00</td>\n",
       "      <td>77</td>\n",
       "      <td>40</td>\n",
       "      <td>10.16</td>\n",
       "    </tr>\n",
       "    <tr>\n",
       "      <th>8</th>\n",
       "      <td>Jamestown</td>\n",
       "      <td>US</td>\n",
       "      <td>42.10</td>\n",
       "      <td>-79.24</td>\n",
       "      <td>1607623118</td>\n",
       "      <td>41.00</td>\n",
       "      <td>74</td>\n",
       "      <td>90</td>\n",
       "      <td>3.36</td>\n",
       "    </tr>\n",
       "    <tr>\n",
       "      <th>9</th>\n",
       "      <td>Khani</td>\n",
       "      <td>GE</td>\n",
       "      <td>41.96</td>\n",
       "      <td>42.96</td>\n",
       "      <td>1607623314</td>\n",
       "      <td>48.20</td>\n",
       "      <td>71</td>\n",
       "      <td>0</td>\n",
       "      <td>31.09</td>\n",
       "    </tr>\n",
       "    <tr>\n",
       "      <th>...</th>\n",
       "      <td>...</td>\n",
       "      <td>...</td>\n",
       "      <td>...</td>\n",
       "      <td>...</td>\n",
       "      <td>...</td>\n",
       "      <td>...</td>\n",
       "      <td>...</td>\n",
       "      <td>...</td>\n",
       "      <td>...</td>\n",
       "    </tr>\n",
       "    <tr>\n",
       "      <th>552</th>\n",
       "      <td>Half Moon Bay</td>\n",
       "      <td>US</td>\n",
       "      <td>37.46</td>\n",
       "      <td>-122.43</td>\n",
       "      <td>1607623342</td>\n",
       "      <td>57.99</td>\n",
       "      <td>76</td>\n",
       "      <td>75</td>\n",
       "      <td>7.76</td>\n",
       "    </tr>\n",
       "    <tr>\n",
       "      <th>553</th>\n",
       "      <td>Hvolsvollur</td>\n",
       "      <td>IS</td>\n",
       "      <td>63.75</td>\n",
       "      <td>-20.22</td>\n",
       "      <td>1607623405</td>\n",
       "      <td>44.60</td>\n",
       "      <td>87</td>\n",
       "      <td>90</td>\n",
       "      <td>24.16</td>\n",
       "    </tr>\n",
       "    <tr>\n",
       "      <th>554</th>\n",
       "      <td>Kargat</td>\n",
       "      <td>RU</td>\n",
       "      <td>55.20</td>\n",
       "      <td>80.28</td>\n",
       "      <td>1607623405</td>\n",
       "      <td>12.63</td>\n",
       "      <td>95</td>\n",
       "      <td>100</td>\n",
       "      <td>13.09</td>\n",
       "    </tr>\n",
       "    <tr>\n",
       "      <th>555</th>\n",
       "      <td>Joshīmath</td>\n",
       "      <td>IN</td>\n",
       "      <td>30.57</td>\n",
       "      <td>79.57</td>\n",
       "      <td>1607623406</td>\n",
       "      <td>41.04</td>\n",
       "      <td>53</td>\n",
       "      <td>6</td>\n",
       "      <td>6.69</td>\n",
       "    </tr>\n",
       "    <tr>\n",
       "      <th>557</th>\n",
       "      <td>San Carlos</td>\n",
       "      <td>VE</td>\n",
       "      <td>9.66</td>\n",
       "      <td>-68.58</td>\n",
       "      <td>1607623406</td>\n",
       "      <td>86.00</td>\n",
       "      <td>64</td>\n",
       "      <td>67</td>\n",
       "      <td>4.52</td>\n",
       "    </tr>\n",
       "  </tbody>\n",
       "</table>\n",
       "<p>376 rows × 9 columns</p>\n",
       "</div>"
      ],
      "text/plain": [
       "                 City Country    Lat     Lng        Date  Max Temp  Humidity  \\\n",
       "2          Lavrentiya      RU  65.58 -171.00  1607623300      7.20        89   \n",
       "4           Tarashcha      UA  49.56   30.49  1607623313     33.78        95   \n",
       "6    Praia da Vitória      PT  38.73  -27.07  1607623314     68.00        77   \n",
       "8           Jamestown      US  42.10  -79.24  1607623118     41.00        74   \n",
       "9               Khani      GE  41.96   42.96  1607623314     48.20        71   \n",
       "..                ...     ...    ...     ...         ...       ...       ...   \n",
       "552     Half Moon Bay      US  37.46 -122.43  1607623342     57.99        76   \n",
       "553       Hvolsvollur      IS  63.75  -20.22  1607623405     44.60        87   \n",
       "554            Kargat      RU  55.20   80.28  1607623405     12.63        95   \n",
       "555         Joshīmath      IN  30.57   79.57  1607623406     41.04        53   \n",
       "557        San Carlos      VE   9.66  -68.58  1607623406     86.00        64   \n",
       "\n",
       "     Cloudiness  Wind Speed  \n",
       "2             0        7.34  \n",
       "4           100       17.69  \n",
       "6            40       10.16  \n",
       "8            90        3.36  \n",
       "9             0       31.09  \n",
       "..          ...         ...  \n",
       "552          75        7.76  \n",
       "553          90       24.16  \n",
       "554         100       13.09  \n",
       "555           6        6.69  \n",
       "557          67        4.52  \n",
       "\n",
       "[376 rows x 9 columns]"
      ]
     },
     "execution_count": 13,
     "metadata": {},
     "output_type": "execute_result"
    }
   ],
   "source": [
    "northern_hemi = weather_df.loc[weather_df['Lat'] > 0]\n",
    "southern_hemi = weather_df.loc[weather_df['Lat'] <= 0]"
   ]
  },
  {
   "cell_type": "markdown",
   "metadata": {},
   "source": [
    "####  Northern Hemisphere - Max Temp vs. Latitude Linear Regression"
   ]
  },
  {
   "cell_type": "code",
   "execution_count": 46,
   "metadata": {},
   "outputs": [
    {
     "name": "stdout",
     "output_type": "stream",
     "text": [
      "The r-squared is: 0.7075056739327792\n"
     ]
    },
    {
     "data": {
      "image/png": "[encoded data removed]",
      "text/plain": [
       "<Figure size 432x288 with 1 Axes>"
      ]
     },
     "metadata": {
      "needs_background": "light"
     },
     "output_type": "display_data"
    },
    {
     "data": {
      "text/plain": [
       "<Figure size 432x288 with 0 Axes>"
      ]
     },
     "metadata": {},
     "output_type": "display_data"
    }
   ],
   "source": [
    "x_values = northern_hemi['Max Temp']\n",
    "y_values = northern_hemi['Lat']\n",
    "(slope, intercept, rvalue, pvalue, stderr) = linregress(x_values, y_values)\n",
    "regress_values = x_values * slope + intercept\n",
    "line_eq = \"y = \" + str(round(slope,2)) + \"x + \" + str(round(intercept,2))\n",
    "plt.scatter(x_values,y_values)\n",
    "plt.plot(x_values,regress_values,\"r-\")\n",
    "plt.grid()\n",
    "plt.title('Northern Hemisphere - Max Temp vs. Latitude Linear Regression')\n",
    "plt.annotate(line_eq,(-20,10),fontsize=15,color=\"red\")\n",
    "plt.xlabel('Maximum Temperature (F)')\n",
    "plt.ylabel('Latitude')\n",
    "print(f\"The r-squared is: {rvalue**2}\")\n",
    "plt.show()\n",
    "plt.savefig(\"Images/Northern Hemisphere vs Max Temp LR.png\")"
   ]
  },
  {
   "cell_type": "markdown",
   "metadata": {},
   "source": [
    "####  Southern Hemisphere - Max Temp vs. Latitude Linear Regression"
   ]
  },
  {
   "cell_type": "code",
   "execution_count": 48,
   "metadata": {},
   "outputs": [
    {
     "name": "stdout",
     "output_type": "stream",
     "text": [
      "The r-squared is: 0.25282372003085335\n"
     ]
    },
    {
     "data": {
      "image/png": "[encoded data removed]",
      "text/plain": [
       "<Figure size 432x288 with 1 Axes>"
      ]
     },
     "metadata": {
      "needs_background": "light"
     },
     "output_type": "display_data"
    },
    {
     "data": {
      "text/plain": [
       "<Figure size 432x288 with 0 Axes>"
      ]
     },
     "metadata": {},
     "output_type": "display_data"
    }
   ],
   "source": [
    "x_values = southern_hemi['Max Temp']\n",
    "y_values = southern_hemi['Lat']\n",
    "(slope, intercept, rvalue, pvalue, stderr) = linregress(x_values, y_values)\n",
    "regress_values = x_values * slope + intercept\n",
    "line_eq = \"y = \" + str(round(slope,2)) + \"x + \" + str(round(intercept,2))\n",
    "plt.scatter(x_values,y_values)\n",
    "plt.plot(x_values,regress_values,\"r-\")\n",
    "plt.grid()\n",
    "plt.title('Southern Hemisphere - Max Temp vs. Latitude Linear Regression')\n",
    "plt.annotate(line_eq,(-20,10),fontsize=15,color=\"red\")\n",
    "plt.xlabel('Maximum Temperature (F)')\n",
    "plt.ylabel('Latitude')\n",
    "print(f\"The r-squared is: {rvalue**2}\")\n",
    "plt.show()\n",
    "plt.savefig(\"Images/Southern Hemisphere vs Max Temp LR.png\")"
   ]
  },
  {
   "cell_type": "markdown",
   "metadata": {},
   "source": [
    "####  Northern Hemisphere - Humidity (%) vs. Latitude Linear Regression"
   ]
  },
  {
   "cell_type": "code",
   "execution_count": 49,
   "metadata": {},
   "outputs": [
    {
     "name": "stdout",
     "output_type": "stream",
     "text": [
      "The r-squared is: 0.18398971285495733\n"
     ]
    },
    {
     "data": {
      "image/png": "[encoded data removed]",
      "text/plain": [
       "<Figure size 432x288 with 1 Axes>"
      ]
     },
     "metadata": {
      "needs_background": "light"
     },
     "output_type": "display_data"
    },
    {
     "data": {
      "text/plain": [
       "<Figure size 432x288 with 0 Axes>"
      ]
     },
     "metadata": {},
     "output_type": "display_data"
    }
   ],
   "source": [
    "x_values = northern_hemi['Humidity']\n",
    "y_values = northern_hemi['Lat']\n",
    "(slope, intercept, rvalue, pvalue, stderr) = linregress(x_values, y_values)\n",
    "regress_values = x_values * slope + intercept\n",
    "line_eq = \"y = \" + str(round(slope,2)) + \"x + \" + str(round(intercept,2))\n",
    "plt.scatter(x_values,y_values)\n",
    "plt.plot(x_values,regress_values,\"r-\")\n",
    "plt.grid()\n",
    "plt.title('Northern Hemisphere - Humidity (%) vs. Latitude Linear Regression')\n",
    "plt.annotate(line_eq,(-20,10),fontsize=15,color=\"red\")\n",
    "plt.xlabel('Humidity (%)')\n",
    "plt.ylabel('Latitude')\n",
    "print(f\"The r-squared is: {rvalue**2}\")\n",
    "plt.show()\n",
    "plt.savefig(\"Images/Northern Hemisphere vs Humidity LR.png\")"
   ]
  },
  {
   "cell_type": "markdown",
   "metadata": {},
   "source": [
    "####  Southern Hemisphere - Humidity (%) vs. Latitude Linear Regression"
   ]
  },
  {
   "cell_type": "code",
   "execution_count": 50,
   "metadata": {},
   "outputs": [
    {
     "name": "stdout",
     "output_type": "stream",
     "text": [
      "The r-squared is: 0.028976454334766505\n"
     ]
    },
    {
     "data": {
      "image/png": "[encoded data removed]",
      "text/plain": [
       "<Figure size 432x288 with 1 Axes>"
      ]
     },
     "metadata": {
      "needs_background": "light"
     },
     "output_type": "display_data"
    },
    {
     "data": {
      "text/plain": [
       "<Figure size 432x288 with 0 Axes>"
      ]
     },
     "metadata": {},
     "output_type": "display_data"
    }
   ],
   "source": [
    "x_values = southern_hemi['Humidity']\n",
    "y_values = southern_hemi['Lat']\n",
    "(slope, intercept, rvalue, pvalue, stderr) = linregress(x_values, y_values)\n",
    "regress_values = x_values * slope + intercept\n",
    "line_eq = \"y = \" + str(round(slope,2)) + \"x + \" + str(round(intercept,2))\n",
    "plt.scatter(x_values,y_values)\n",
    "plt.plot(x_values,regress_values,\"r-\")\n",
    "plt.grid()\n",
    "plt.title('Southern Hemisphere - Humidity (%) vs. Latitude Linear Regression')\n",
    "plt.annotate(line_eq,(-20,10),fontsize=15,color=\"red\")\n",
    "plt.xlabel('Humidity (%)')\n",
    "plt.ylabel('Latitude')\n",
    "print(f\"The r-squared is: {rvalue**2}\")\n",
    "plt.show()\n",
    "plt.savefig(\"Images/Southern Hemisphere vs Humidity LR.png\")"
   ]
  },
  {
   "cell_type": "markdown",
   "metadata": {},
   "source": [
    "####  Northern Hemisphere - Cloudiness (%) vs. Latitude Linear Regression"
   ]
  },
  {
   "cell_type": "code",
   "execution_count": 37,
   "metadata": {},
   "outputs": [
    {
     "name": "stdout",
     "output_type": "stream",
     "text": [
      "The r-squared is: 0.05444532682283794\n"
     ]
    },
    {
     "data": {
      "image/png": "[encoded data removed]",
      "text/plain": [
       "<Figure size 432x288 with 1 Axes>"
      ]
     },
     "metadata": {
      "needs_background": "light"
     },
     "output_type": "display_data"
    }
   ],
   "source": [
    "x_values = northern_hemi['Cloudiness']\n",
    "y_values = northern_hemi['Lat']\n",
    "(slope, intercept, rvalue, pvalue, stderr) = linregress(x_values, y_values)\n",
    "regress_values = x_values * slope + intercept\n",
    "line_eq = \"y = \" + str(round(slope,2)) + \"x + \" + str(round(intercept,2))\n",
    "plt.scatter(x_values,y_values)\n",
    "plt.plot(x_values,regress_values,\"r-\")\n",
    "plt.grid()\n",
    "plt.title('Northern Hemisphere - Cloudiness (%) vs. Latitude Linear Regression')\n",
    "plt.annotate(line_eq,(-20,10),fontsize=15,color=\"red\")\n",
    "plt.xlabel('Cloudiness (%)')\n",
    "plt.ylabel('Latitude')\n",
    "print(f\"The r-squared is: {rvalue**2}\")\n",
    "plt.show()\n",
    "plt.savefig(\"Images/Northern Hemisphere vs Cloudiness LR.png\")"
   ]
  },
  {
   "cell_type": "markdown",
   "metadata": {},
   "source": [
    "####  Southern Hemisphere - Cloudiness (%) vs. Latitude Linear Regression"
   ]
  },
  {
   "cell_type": "code",
   "execution_count": 51,
   "metadata": {},
   "outputs": [
    {
     "name": "stdout",
     "output_type": "stream",
     "text": [
      "The r-squared is: 0.044453677564286004\n"
     ]
    },
    {
     "data": {
      "image/png": "[encoded data removed]",
      "text/plain": [
       "<Figure size 432x288 with 1 Axes>"
      ]
     },
     "metadata": {
      "needs_background": "light"
     },
     "output_type": "display_data"
    },
    {
     "data": {
      "text/plain": [
       "<Figure size 432x288 with 0 Axes>"
      ]
     },
     "metadata": {},
     "output_type": "display_data"
    }
   ],
   "source": [
    "x_values = southern_hemi['Cloudiness']\n",
    "y_values = southern_hemi['Lat']\n",
    "(slope, intercept, rvalue, pvalue, stderr) = linregress(x_values, y_values)\n",
    "regress_values = x_values * slope + intercept\n",
    "line_eq = \"y = \" + str(round(slope,2)) + \"x + \" + str(round(intercept,2))\n",
    "plt.scatter(x_values,y_values)\n",
    "plt.plot(x_values,regress_values,\"r-\")\n",
    "plt.grid()\n",
    "plt.title('Southern Hemisphere - Cloudiness (%) vs. Latitude Linear Regression')\n",
    "plt.annotate(line_eq,(-20,10),fontsize=15,color=\"red\")\n",
    "plt.xlabel('Cloudiness (%)')\n",
    "plt.ylabel('Latitude')\n",
    "print(f\"The r-squared is: {rvalue**2}\")\n",
    "plt.show()\n",
    "plt.savefig(\"Images/Southern Hemisphere vs Cloudiness LR.png\")"
   ]
  },
  {
   "cell_type": "markdown",
   "metadata": {},
   "source": [
    "####  Northern Hemisphere - Wind Speed (mph) vs. Latitude Linear Regression"
   ]
  },
  {
   "cell_type": "code",
   "execution_count": 39,
   "metadata": {},
   "outputs": [
    {
     "name": "stdout",
     "output_type": "stream",
     "text": [
      "The r-squared is: 0.0069765187829731005\n"
     ]
    },
    {
     "data": {
      "image/png": "[encoded data removed]",
      "text/plain": [
       "<Figure size 432x288 with 1 Axes>"
      ]
     },
     "metadata": {
      "needs_background": "light"
     },
     "output_type": "display_data"
    }
   ],
   "source": [
    "x_values = northern_hemi['Wind Speed']\n",
    "y_values = northern_hemi['Lat']\n",
    "(slope, intercept, rvalue, pvalue, stderr) = linregress(x_values, y_values)\n",
    "regress_values = x_values * slope + intercept\n",
    "line_eq = \"y = \" + str(round(slope,2)) + \"x + \" + str(round(intercept,2))\n",
    "plt.scatter(x_values,y_values)\n",
    "plt.plot(x_values,regress_values,\"r-\")\n",
    "plt.grid()\n",
    "plt.title('Northern Hemisphere - Wind Speed (mph) vs. Latitude Linear Regression')\n",
    "plt.annotate(line_eq,(-20,10),fontsize=15,color=\"red\")\n",
    "plt.xlabel('Wind Speed')\n",
    "plt.ylabel('Latitude')\n",
    "print(f\"The r-squared is: {rvalue**2}\")\n",
    "plt.show()\n",
    "plt.savefig(\"Images/Northern Hemisphere vs Wind Speed LR.png\")"
   ]
  },
  {
   "cell_type": "markdown",
   "metadata": {},
   "source": [
    "####  Southern Hemisphere - Wind Speed (mph) vs. Latitude Linear Regression"
   ]
  },
  {
   "cell_type": "code",
   "execution_count": 52,
   "metadata": {},
   "outputs": [
    {
     "name": "stdout",
     "output_type": "stream",
     "text": [
      "The r-squared is: 0.008341921790698648\n"
     ]
    },
    {
     "data": {
      "image/png": "[encoded data removed]",
      "text/plain": [
       "<Figure size 432x288 with 1 Axes>"
      ]
     },
     "metadata": {
      "needs_background": "light"
     },
     "output_type": "display_data"
    },
    {
     "data": {
      "text/plain": [
       "<Figure size 432x288 with 0 Axes>"
      ]
     },
     "metadata": {},
     "output_type": "display_data"
    }
   ],
   "source": [
    "x_values = southern_hemi['Wind Speed']\n",
    "y_values = southern_hemi['Lat']\n",
    "(slope, intercept, rvalue, pvalue, stderr) = linregress(x_values, y_values)\n",
    "regress_values = x_values * slope + intercept\n",
    "line_eq = \"y = \" + str(round(slope,2)) + \"x + \" + str(round(intercept,2))\n",
    "plt.scatter(x_values,y_values)\n",
    "plt.plot(x_values,regress_values,\"r-\")\n",
    "plt.grid()\n",
    "plt.title('Southern Hemisphere - Wind Speed (mph) vs. Latitude Linear Regression')\n",
    "plt.annotate(line_eq,(-20,10),fontsize=15,color=\"red\")\n",
    "plt.xlabel('Wind Speed')\n",
    "plt.ylabel('Latitude')\n",
    "print(f\"The r-squared is: {rvalue**2}\")\n",
    "plt.show()\n",
    "plt.savefig(\"Images/Southern Hemisphere vs Wind Speed LR.png\")"
   ]
  },
  {
   "cell_type": "code",
   "execution_count": null,
   "metadata": {},
   "outputs": [],
   "source": []
  },
  {
   "cell_type": "code",
   "execution_count": null,
   "metadata": {},
   "outputs": [],
   "source": []
  }
 ],
 "metadata": {
  "anaconda-cloud": {},
  "kernel_info": {
   "name": "python3"
  },
  "kernelspec": {
   "display_name": "Python 3",
   "language": "python",
   "name": "python3"
  },
  "language_info": {
   "codemirror_mode": {
    "name": "ipython",
    "version": 3
   },
   "file_extension": ".py",
   "mimetype": "text/x-python",
   "name": "python",
   "nbconvert_exporter": "python",
   "pygments_lexer": "ipython3",
   "version": "3.8.3"
  },
  "latex_envs": {
   "LaTeX_envs_menu_present": true,
   "autoclose": false,
   "autocomplete": true,
   "bibliofile": "biblio.bib",
   "cite_by": "apalike",
   "current_citInitial": 1,
   "eqLabelWithNumbers": true,
   "eqNumInitial": 1,
   "hotkeys": {
    "equation": "Ctrl-E",
    "itemize": "Ctrl-I"
   },
   "labels_anchors": false,
   "latex_user_defs": false,
   "report_style_numbering": false,
   "user_envs_cfg": false
  },
  "nteract": {
   "version": "0.12.3"
  }
 },
 "nbformat": 4,
 "nbformat_minor": 2
}
