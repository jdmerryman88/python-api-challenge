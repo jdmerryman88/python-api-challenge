{
 "cells": [
  {
   "cell_type": "markdown",
   "metadata": {},
   "source": [
    "# WeatherPy\n",
    "----\n",
    "\n",
    "#### Note\n",
    "* Instructions have been included for each segment. You do not have to follow them exactly, but they are included to help you think through the steps."
   ]
  },
  {
   "cell_type": "code",
   "execution_count": 1,
   "metadata": {
    "scrolled": true
   },
   "outputs": [],
   "source": [
    "# Dependencies and Setup\n",
    "import matplotlib.pyplot as plt\n",
    "import pandas as pd\n",
    "import numpy as np\n",
    "import requests\n",
    "import time\n",
    "from scipy.stats import linregress\n",
    "\n",
    "# Import API key\n",
    "from api_keys import weather_api_key\n",
    "\n",
    "# Incorporated citipy to determine city based on latitude and longitude\n",
    "from citipy import citipy\n",
    "\n",
    "# Output File (CSV)\n",
    "output_data_file = \"output_data/cities.csv\"\n",
    "\n",
    "# Range of latitudes and longitudes\n",
    "lat_range = (-90, 90)\n",
    "lng_range = (-180, 180)"
   ]
  },
  {
   "cell_type": "markdown",
   "metadata": {},
   "source": [
    "## Generate Cities List"
   ]
  },
  {
   "cell_type": "code",
   "execution_count": 2,
   "metadata": {},
   "outputs": [
    {
     "data": {
      "text/plain": [
       "594"
      ]
     },
     "execution_count": 2,
     "metadata": {},
     "output_type": "execute_result"
    }
   ],
   "source": [
    "# List for holding lat_lngs and cities\n",
    "lat_lngs = []\n",
    "cities = []\n",
    "\n",
    "# Create a set of random lat and lng combinations\n",
    "lats = np.random.uniform(lat_range[0], lat_range[1], size=1500)\n",
    "lngs = np.random.uniform(lng_range[0], lng_range[1], size=1500)\n",
    "lat_lngs = zip(lats, lngs)\n",
    "\n",
    "# Identify nearest city for each lat, lng combination\n",
    "for lat_lng in lat_lngs:\n",
    "    city = citipy.nearest_city(lat_lng[0], lat_lng[1]).city_name\n",
    "    \n",
    "    \n",
    "    # If the city is unique, then add it to a our cities list\n",
    "    if city not in cities:\n",
    "        cities.append(city)\n",
    "\n",
    "# Print the city count to confirm sufficient count\n",
    "len(cities)\n"
   ]
  },
  {
   "cell_type": "markdown",
   "metadata": {},
   "source": [
    "### Perform API Calls\n",
    "* Perform a weather check on each city using a series of successive API calls.\n",
    "* Include a print log of each city as it'sbeing processed (with the city number and city name).\n"
   ]
  },
  {
   "cell_type": "code",
   "execution_count": 48,
   "metadata": {
    "scrolled": true
   },
   "outputs": [
    {
     "name": "stdout",
     "output_type": "stream",
     "text": [
      "Processing city number 0 : fortuna\n",
      "Processing city number 1 : bluff\n",
      "Processing city number 2 : dunedin\n",
      "Processing city number 3 : pochutla\n",
      "Processing city number 4 : majene\n",
      "Processing city number 5 : atuona\n",
      "Processing city number 6 : hilo\n",
      "Processing city number 7 : cape town\n",
      "Processing city number 8 : hasaki\n",
      "Processing city number 9 : butaritari\n",
      "City not found. Next city...\n",
      "Processing city number 11 : eureka\n",
      "Processing city number 12 : ancud\n",
      "Processing city number 13 : luderitz\n",
      "Processing city number 14 : carnarvon\n",
      "Processing city number 15 : arraial do cabo\n",
      "Processing city number 16 : kiruna\n",
      "Processing city number 17 : yellowknife\n",
      "Processing city number 18 : sulangan\n",
      "Processing city number 19 : rikitea\n",
      "Processing city number 20 : falam\n",
      "Processing city number 21 : buenos aires\n",
      "Processing city number 22 : ushuaia\n",
      "Processing city number 23 : san cristobal\n",
      "Processing city number 24 : hobart\n",
      "Processing city number 25 : tantoyuca\n",
      "Processing city number 26 : ribeira grande\n",
      "Processing city number 27 : lompoc\n",
      "Processing city number 28 : aksay\n",
      "Processing city number 29 : dikson\n",
      "Processing city number 30 : aksu\n",
      "Processing city number 31 : esperance\n",
      "City not found. Next city...\n",
      "Processing city number 33 : mecca\n",
      "Processing city number 34 : clyde river\n",
      "Processing city number 35 : aykhal\n",
      "City not found. Next city...\n",
      "Processing city number 37 : new norfolk\n",
      "Processing city number 38 : camacha\n",
      "Processing city number 39 : honiara\n",
      "Processing city number 40 : kurilsk\n",
      "Processing city number 41 : carutapera\n",
      "Processing city number 42 : gravdal\n",
      "Processing city number 43 : kitimat\n",
      "Processing city number 44 : orange\n",
      "Processing city number 45 : monrovia\n",
      "Processing city number 46 : mataura\n",
      "Processing city number 47 : bambous virieux\n",
      "Processing city number 48 : barrow\n",
      "Processing city number 49 : mar del plata\n",
      "Processing city number 50 : hermanus\n",
      "Processing city number 51 : punta arenas\n",
      "Processing city number 52 : upernavik\n",
      "Processing city number 53 : busselton\n",
      "Processing city number 54 : albany\n",
      "Processing city number 55 : severo-kurilsk\n",
      "Processing city number 56 : nikolskoye\n",
      "Processing city number 57 : saint-philippe\n",
      "Processing city number 58 : raudeberg\n",
      "Processing city number 59 : cananeia\n",
      "Processing city number 60 : kitgum\n",
      "Processing city number 61 : jamestown\n",
      "Processing city number 62 : vaini\n",
      "Processing city number 63 : cherskiy\n",
      "Processing city number 64 : saskylakh\n",
      "Processing city number 65 : tasiilaq\n",
      "Processing city number 66 : homberg\n",
      "Processing city number 67 : tuktoyaktuk\n",
      "Processing city number 68 : nabire\n",
      "City not found. Next city...\n",
      "City not found. Next city...\n",
      "Processing city number 71 : huarmey\n",
      "Processing city number 72 : serafimovich\n",
      "Processing city number 73 : badiraguato\n",
      "Processing city number 74 : sakakah\n",
      "Processing city number 75 : bijawar\n",
      "Processing city number 76 : ouesso\n",
      "Processing city number 77 : lebu\n",
      "Processing city number 78 : kapaa\n",
      "Processing city number 79 : lipin bor\n",
      "Processing city number 80 : azanka\n",
      "Processing city number 81 : bethel\n",
      "Processing city number 82 : coquimbo\n",
      "Processing city number 83 : lorengau\n",
      "Processing city number 84 : dicabisagan\n",
      "Processing city number 85 : te anau\n",
      "Processing city number 86 : sinnamary\n",
      "Processing city number 87 : chernyshevskiy\n",
      "Processing city number 88 : bengkulu\n",
      "Processing city number 89 : rovaniemi\n",
      "Processing city number 90 : ponta delgada\n",
      "Processing city number 91 : chabahar\n",
      "Processing city number 92 : nouadhibou\n",
      "Processing city number 93 : north las vegas\n",
      "Processing city number 94 : castro\n",
      "Processing city number 95 : kirakira\n",
      "Processing city number 96 : mayumba\n",
      "Processing city number 97 : lingao\n",
      "Processing city number 98 : tilichiki\n",
      "Processing city number 99 : broken hill\n",
      "Processing city number 100 : gigmoto\n",
      "Processing city number 101 : faanui\n",
      "Processing city number 102 : casper\n",
      "Processing city number 103 : mildura\n",
      "Processing city number 104 : kaeo\n",
      "Processing city number 105 : kuroishi\n",
      "Processing city number 106 : kodiak\n",
      "Processing city number 107 : acari\n",
      "Processing city number 108 : lagoa\n",
      "Processing city number 109 : chazuta\n",
      "Processing city number 110 : alofi\n",
      "Processing city number 111 : dolores\n",
      "Processing city number 112 : cayenne\n",
      "Processing city number 113 : zaoyang\n",
      "Processing city number 114 : puerto ayora\n",
      "Processing city number 115 : hami\n",
      "Processing city number 116 : mount gambier\n",
      "Processing city number 117 : cabo san lucas\n",
      "Processing city number 118 : salalah\n",
      "Processing city number 119 : kompaniyivka\n",
      "Processing city number 120 : samarai\n",
      "Processing city number 121 : san fernando\n",
      "Processing city number 122 : aktau\n",
      "City not found. Next city...\n",
      "Processing city number 124 : flinders\n",
      "Processing city number 125 : chokurdakh\n",
      "Processing city number 126 : chuy\n",
      "Processing city number 127 : ilulissat\n",
      "Processing city number 128 : patnos\n",
      "Processing city number 129 : beringovskiy\n",
      "Processing city number 130 : saint george\n",
      "Processing city number 131 : norman wells\n",
      "Processing city number 132 : shimoda\n",
      "Processing city number 133 : ormara\n",
      "Processing city number 134 : buta\n",
      "Processing city number 135 : opuwo\n",
      "Processing city number 136 : mahebourg\n",
      "Processing city number 137 : mattru\n",
      "Processing city number 138 : sao joao da barra\n",
      "Processing city number 139 : cleethorpes\n",
      "Processing city number 140 : qaanaaq\n",
      "Processing city number 141 : mumford\n",
      "Processing city number 142 : barra do bugres\n",
      "Processing city number 143 : cidreira\n",
      "Processing city number 144 : manjeri\n",
      "City not found. Next city...\n",
      "Processing city number 146 : avera\n",
      "City not found. Next city...\n",
      "Processing city number 148 : vardo\n",
      "Processing city number 149 : hithadhoo\n",
      "Processing city number 150 : havre\n",
      "Processing city number 151 : jucurutu\n",
      "Processing city number 152 : lata\n",
      "Processing city number 153 : warmbad\n",
      "Processing city number 154 : mastic beach\n",
      "Processing city number 155 : hovd\n",
      "Processing city number 156 : longyearbyen\n",
      "Processing city number 157 : circleville\n",
      "Processing city number 158 : ula\n",
      "Processing city number 159 : sherpur\n",
      "Processing city number 160 : narsaq\n",
      "Processing city number 161 : olkhovka\n",
      "Processing city number 162 : antigonish\n",
      "Processing city number 163 : auki\n",
      "Processing city number 164 : chadiza\n",
      "Processing city number 165 : port alfred\n",
      "Processing city number 166 : hamilton\n",
      "City not found. Next city...\n",
      "City not found. Next city...\n",
      "Processing city number 169 : raychikhinsk\n",
      "Processing city number 170 : rawson\n",
      "Processing city number 171 : lavrentiya\n",
      "Processing city number 172 : east london\n",
      "Processing city number 173 : matozinhos\n",
      "City not found. Next city...\n",
      "Processing city number 175 : zhigansk\n",
      "Processing city number 176 : thompson\n",
      "Processing city number 177 : sheopur\n",
      "Processing city number 178 : gumdag\n",
      "Processing city number 179 : alice springs\n",
      "City not found. Next city...\n",
      "Processing city number 181 : gladstone\n",
      "Processing city number 182 : necochea\n",
      "Processing city number 183 : york\n",
      "Processing city number 184 : west wendover\n",
      "Processing city number 185 : ust-ilimsk\n",
      "Processing city number 186 : svay rieng\n",
      "Processing city number 187 : tiksi\n",
      "Processing city number 188 : san ramon\n",
      "Processing city number 189 : volkhov\n",
      "Processing city number 190 : gazli\n",
      "City not found. Next city...\n",
      "Processing city number 192 : nanortalik\n",
      "Processing city number 193 : vao\n",
      "Processing city number 194 : kenora\n",
      "Processing city number 195 : pisco\n",
      "Processing city number 196 : ola\n",
      "Processing city number 197 : saldanha\n",
      "Processing city number 198 : faya\n",
      "Processing city number 199 : sept-iles\n",
      "Processing city number 200 : praia da vitoria\n",
      "Processing city number 201 : pasni\n",
      "Processing city number 202 : iqaluit\n",
      "Processing city number 203 : miles city\n",
      "Processing city number 204 : camaqua\n",
      "Processing city number 205 : ishikari\n",
      "Processing city number 206 : avarua\n",
      "Processing city number 207 : bartica\n",
      "Processing city number 208 : ponta do sol\n",
      "Processing city number 209 : beatrice\n",
      "Processing city number 210 : katsuura\n",
      "Processing city number 211 : bogorodskoye\n",
      "Processing city number 212 : pokhara\n",
      "Processing city number 213 : colares\n",
      "Processing city number 214 : abu dhabi\n",
      "Processing city number 215 : margate\n",
      "Processing city number 216 : georgetown\n",
      "Processing city number 217 : payo\n",
      "Processing city number 218 : dickinson\n",
      "Processing city number 219 : matagami\n",
      "Processing city number 220 : rantepao\n"
     ]
    },
    {
     "name": "stdout",
     "output_type": "stream",
     "text": [
      "Processing city number 221 : bangui\n",
      "Processing city number 222 : otavi\n",
      "Processing city number 223 : souillac\n",
      "Processing city number 224 : akureyri\n",
      "Processing city number 225 : kamenka\n",
      "Processing city number 226 : acarau\n",
      "Processing city number 227 : sobolevo\n",
      "Processing city number 228 : dungarpur\n",
      "Processing city number 229 : cockburn town\n",
      "Processing city number 230 : trois-rivieres\n",
      "Processing city number 231 : talnakh\n",
      "Processing city number 232 : roma\n",
      "Processing city number 233 : port-cartier\n",
      "Processing city number 234 : atambua\n",
      "Processing city number 235 : torbay\n",
      "Processing city number 236 : teahupoo\n",
      "Processing city number 237 : lasa\n",
      "Processing city number 238 : sistranda\n",
      "Processing city number 239 : vitim\n",
      "Processing city number 240 : turki\n",
      "Processing city number 241 : akyab\n",
      "Processing city number 242 : vestmannaeyjar\n",
      "Processing city number 243 : qandala\n",
      "Processing city number 244 : yongchang\n",
      "Processing city number 245 : balabac\n",
      "Processing city number 246 : ginir\n",
      "Processing city number 247 : straumen\n",
      "Processing city number 248 : sernur\n",
      "Processing city number 249 : bubaque\n",
      "Processing city number 250 : union\n",
      "Processing city number 251 : atar\n",
      "Processing city number 252 : chukhloma\n",
      "Processing city number 253 : arvi\n",
      "Processing city number 254 : wajima\n",
      "Processing city number 255 : bredasdorp\n",
      "Processing city number 256 : egvekinot\n",
      "Processing city number 257 : vostok\n",
      "Processing city number 258 : vale da amoreira\n",
      "Processing city number 259 : bonthe\n",
      "Processing city number 260 : dudinka\n",
      "Processing city number 261 : kadipaten\n",
      "Processing city number 262 : lillesand\n",
      "Processing city number 263 : seymchan\n",
      "Processing city number 264 : bud\n",
      "Processing city number 265 : provideniya\n",
      "City not found. Next city...\n",
      "Processing city number 267 : adrar\n",
      "Processing city number 268 : nelson bay\n",
      "Processing city number 269 : barmer\n",
      "Processing city number 270 : mozarlandia\n",
      "City not found. Next city...\n",
      "Processing city number 272 : khatanga\n",
      "Processing city number 273 : kahului\n",
      "Processing city number 274 : ordubad\n",
      "Processing city number 275 : kawalu\n",
      "Processing city number 276 : kavieng\n",
      "Processing city number 277 : roblin\n",
      "City not found. Next city...\n",
      "Processing city number 279 : sorland\n",
      "City not found. Next city...\n",
      "Processing city number 281 : aswan\n",
      "Processing city number 282 : gimli\n",
      "Processing city number 283 : bakchar\n",
      "Processing city number 284 : itarema\n",
      "Processing city number 285 : klyuchi\n",
      "City not found. Next city...\n",
      "Processing city number 287 : pringsewu\n",
      "Processing city number 288 : dingle\n",
      "Processing city number 289 : muros\n",
      "Processing city number 290 : groton\n",
      "Processing city number 291 : andenes\n",
      "Processing city number 292 : mayo\n",
      "Processing city number 293 : half moon bay\n",
      "Processing city number 294 : yar-sale\n",
      "Processing city number 295 : athabasca\n",
      "Processing city number 296 : acapulco\n",
      "Processing city number 297 : juba\n",
      "Processing city number 298 : kilindoni\n",
      "Processing city number 299 : aracuai\n",
      "Processing city number 300 : lamu\n",
      "Processing city number 301 : port elizabeth\n",
      "Processing city number 302 : saint-augustin\n",
      "Processing city number 303 : fort nelson\n",
      "Processing city number 304 : aginskoye\n",
      "Processing city number 305 : monticello\n",
      "Processing city number 306 : karasuk\n",
      "City not found. Next city...\n",
      "Processing city number 308 : taoudenni\n",
      "Processing city number 309 : codrington\n",
      "Processing city number 310 : sabha\n",
      "Processing city number 311 : chakia\n",
      "Processing city number 312 : ndago\n",
      "Processing city number 313 : hambantota\n",
      "Processing city number 314 : gamba\n",
      "Processing city number 315 : oeiras do para\n",
      "Processing city number 316 : gharo\n",
      "Processing city number 317 : port blair\n",
      "Processing city number 318 : slyudyanka\n",
      "Processing city number 319 : syamzha\n",
      "Processing city number 320 : westport\n",
      "City not found. Next city...\n",
      "Processing city number 322 : iisalmi\n",
      "Processing city number 323 : kysyl-syr\n",
      "Processing city number 324 : ahipara\n",
      "Processing city number 325 : talca\n",
      "Processing city number 326 : porbandar\n",
      "Processing city number 327 : pucallpa\n",
      "City not found. Next city...\n",
      "Processing city number 329 : dingzhou\n",
      "Processing city number 330 : jaroslaw\n",
      "City not found. Next city...\n",
      "Processing city number 332 : peniche\n",
      "Processing city number 333 : fallon\n",
      "City not found. Next city...\n",
      "Processing city number 335 : sedro-woolley\n",
      "Processing city number 336 : emba\n",
      "Processing city number 337 : roald\n",
      "Processing city number 338 : tommot\n",
      "Processing city number 339 : sao filipe\n",
      "Processing city number 340 : nemuro\n",
      "Processing city number 341 : pevek\n",
      "Processing city number 342 : lufilufi\n",
      "Processing city number 343 : port-gentil\n",
      "Processing city number 344 : khandbari\n",
      "Processing city number 345 : sitka\n",
      "City not found. Next city...\n",
      "Processing city number 347 : ganzhou\n",
      "Processing city number 348 : lisakovsk\n",
      "Processing city number 349 : caluquembe\n",
      "City not found. Next city...\n",
      "Processing city number 351 : kavaratti\n",
      "Processing city number 352 : olivenza\n",
      "Processing city number 353 : havre-saint-pierre\n",
      "Processing city number 354 : rocha\n",
      "Processing city number 355 : san quintin\n",
      "Processing city number 356 : hauterive\n",
      "Processing city number 357 : borba\n",
      "Processing city number 358 : mahibadhoo\n",
      "Processing city number 359 : homer\n",
      "Processing city number 360 : lokosovo\n",
      "Processing city number 361 : houma\n",
      "Processing city number 362 : bathsheba\n",
      "Processing city number 363 : minab\n",
      "Processing city number 364 : yingcheng\n",
      "City not found. Next city...\n",
      "Processing city number 366 : havoysund\n",
      "City not found. Next city...\n",
      "Processing city number 368 : ankang\n",
      "Processing city number 369 : poum\n",
      "Processing city number 370 : cangzhou\n",
      "Processing city number 371 : buraydah\n",
      "Processing city number 372 : high prairie\n",
      "Processing city number 373 : griffith\n",
      "Processing city number 374 : tanggu\n",
      "Processing city number 375 : guerrero negro\n",
      "Processing city number 376 : jaromerice nad rokytnou\n",
      "Processing city number 377 : recco\n",
      "Processing city number 378 : kuytun\n",
      "Processing city number 379 : millington\n",
      "Processing city number 380 : shingu\n",
      "Processing city number 381 : srednekolymsk\n",
      "Processing city number 382 : marzuq\n",
      "Processing city number 383 : kurumkan\n",
      "Processing city number 384 : garden city\n",
      "City not found. Next city...\n",
      "Processing city number 386 : hun\n",
      "Processing city number 387 : atkinson\n",
      "Processing city number 388 : tieli\n",
      "Processing city number 389 : saint-pierre\n",
      "Processing city number 390 : naze\n",
      "Processing city number 391 : plakhtiyivka\n",
      "Processing city number 392 : port augusta\n",
      "Processing city number 393 : karpogory\n",
      "City not found. Next city...\n",
      "Processing city number 395 : dzhebariki-khaya\n",
      "City not found. Next city...\n",
      "City not found. Next city...\n",
      "Processing city number 398 : ulaangom\n",
      "Processing city number 399 : hirado\n",
      "Processing city number 400 : champerico\n",
      "City not found. Next city...\n",
      "Processing city number 402 : esso\n",
      "Processing city number 403 : perigueux\n",
      "Processing city number 404 : madimba\n",
      "Processing city number 405 : novo aripuana\n",
      "Processing city number 406 : pemangkat\n",
      "Processing city number 407 : grenfell\n",
      "Processing city number 408 : cortez\n",
      "Processing city number 409 : evensk\n",
      "Processing city number 410 : waingapu\n",
      "City not found. Next city...\n",
      "Processing city number 412 : comodoro rivadavia\n",
      "Processing city number 413 : leningradskiy\n",
      "City not found. Next city...\n",
      "Processing city number 415 : diplo\n",
      "Processing city number 416 : luganville\n",
      "Processing city number 417 : bela vista\n",
      "Processing city number 418 : vila franca do campo\n",
      "Processing city number 419 : broome\n",
      "Processing city number 420 : gizo\n",
      "Processing city number 421 : victoria\n",
      "Processing city number 422 : aygavan\n",
      "Processing city number 423 : tessalit\n",
      "Processing city number 424 : stonewall\n",
      "Processing city number 425 : bilma\n",
      "Processing city number 426 : blyth\n",
      "Processing city number 427 : sussex\n",
      "Processing city number 428 : berlevag\n",
      "Processing city number 429 : oktyabrskoye\n",
      "Processing city number 430 : puerto escondido\n",
      "Processing city number 431 : parana\n",
      "Processing city number 432 : yei\n",
      "Processing city number 433 : los llanos de aridane\n",
      "Processing city number 434 : santo tomas\n",
      "Processing city number 435 : mujiayingzi\n",
      "Processing city number 436 : nishihara\n",
      "Processing city number 437 : isla vista\n",
      "Processing city number 438 : longyan\n",
      "Processing city number 439 : najran\n",
      "Processing city number 440 : wichian buri\n"
     ]
    },
    {
     "name": "stdout",
     "output_type": "stream",
     "text": [
      "City not found. Next city...\n",
      "Processing city number 442 : hue\n",
      "Processing city number 443 : novyy urengoy\n",
      "Processing city number 444 : vanavara\n",
      "Processing city number 445 : pangnirtung\n",
      "Processing city number 446 : kovur\n",
      "Processing city number 447 : panjakent\n",
      "Processing city number 448 : flin flon\n",
      "Processing city number 449 : tautira\n",
      "Processing city number 450 : tura\n",
      "Processing city number 451 : sao geraldo do araguaia\n",
      "Processing city number 452 : husavik\n",
      "Processing city number 453 : grindavik\n",
      "Processing city number 454 : dawei\n",
      "Processing city number 455 : mugumu\n",
      "Processing city number 456 : maldonado\n",
      "Processing city number 457 : manaus\n",
      "Processing city number 458 : college\n",
      "Processing city number 459 : waddan\n",
      "Processing city number 460 : ouallam\n",
      "Processing city number 461 : suntar\n",
      "Processing city number 462 : san carlos de bariloche\n",
      "Processing city number 463 : brigantine\n",
      "Processing city number 464 : olinda\n",
      "Processing city number 465 : castanos\n",
      "Processing city number 466 : qiongshan\n",
      "Processing city number 467 : montmagny\n",
      "Processing city number 468 : livingston\n",
      "Processing city number 469 : todos santos\n",
      "Processing city number 470 : manaure\n",
      "Processing city number 471 : saint anthony\n",
      "Processing city number 472 : chateaubelair\n",
      "Processing city number 473 : douentza\n",
      "Processing city number 474 : tiznit\n",
      "Processing city number 475 : mahina\n",
      "Processing city number 476 : chapada dos guimaraes\n",
      "Processing city number 477 : moose factory\n",
      "Processing city number 478 : atocha\n",
      "Processing city number 479 : laguna\n",
      "Processing city number 480 : sola\n",
      "Processing city number 481 : ostrovnoy\n",
      "Processing city number 482 : soria\n",
      "Processing city number 483 : tzucacab\n",
      "Processing city number 484 : rochegda\n",
      "Processing city number 485 : trelew\n",
      "Processing city number 486 : puerto madryn\n",
      "Processing city number 487 : christchurch\n",
      "Processing city number 488 : la ronge\n",
      "Processing city number 489 : santa cruz\n",
      "Processing city number 490 : liberal\n",
      "Processing city number 491 : hervey bay\n",
      "Processing city number 492 : sao joao de pirabas\n",
      "City not found. Next city...\n",
      "Processing city number 494 : srandakan\n",
      "Processing city number 495 : coihaique\n",
      "Processing city number 496 : viedma\n",
      "Processing city number 497 : norwich\n",
      "Processing city number 498 : cangucu\n",
      "Processing city number 499 : rondonopolis\n",
      "Processing city number 500 : artvin\n",
      "Processing city number 501 : lyubashivka\n",
      "Processing city number 502 : lujan\n",
      "Processing city number 503 : guarapari\n",
      "Processing city number 504 : duminichi\n",
      "Processing city number 505 : isangel\n",
      "Processing city number 506 : gambiran\n",
      "Processing city number 507 : lucapa\n",
      "Processing city number 508 : jimani\n",
      "Processing city number 509 : neyshabur\n",
      "Processing city number 510 : usinsk\n",
      "Processing city number 511 : san bartolome de tirajana\n",
      "Processing city number 512 : lazurne\n",
      "City not found. Next city...\n",
      "Processing city number 514 : aklavik\n",
      "Processing city number 515 : pokrovsk\n",
      "Processing city number 516 : san patricio\n",
      "Processing city number 517 : strelka\n",
      "Processing city number 518 : villa carlos paz\n",
      "Processing city number 519 : tanabe\n",
      "Processing city number 520 : berdigestyakh\n",
      "Processing city number 521 : rosarito\n",
      "Processing city number 522 : mehamn\n",
      "Processing city number 523 : kishorganj\n",
      "Processing city number 524 : ashland\n",
      "Processing city number 525 : cabedelo\n",
      "Processing city number 526 : port lincoln\n",
      "Processing city number 527 : nanchong\n",
      "Processing city number 528 : petropavlovsk-kamchatskiy\n",
      "Processing city number 529 : maroantsetra\n",
      "Processing city number 530 : kruisfontein\n",
      "Processing city number 531 : meulaboh\n",
      "Processing city number 532 : el rosario\n",
      "Processing city number 533 : kaputa\n",
      "City not found. Next city...\n",
      "Processing city number 535 : matara\n",
      "Processing city number 536 : saint-francois\n",
      "Processing city number 537 : barcelos\n",
      "Processing city number 538 : san vicente\n",
      "Processing city number 539 : trapani\n",
      "Processing city number 540 : rodrigues alves\n",
      "Processing city number 541 : paamiut\n",
      "Processing city number 542 : kaitangata\n",
      "Processing city number 543 : presidente franco\n",
      "City not found. Next city...\n",
      "Processing city number 545 : nome\n",
      "Processing city number 546 : bratsk\n",
      "Processing city number 547 : ugoofaaru\n",
      "Processing city number 548 : tuatapere\n",
      "Processing city number 549 : rassvet\n",
      "Processing city number 550 : marsh harbour\n",
      "City not found. Next city...\n",
      "Processing city number 552 : port hardy\n",
      "Processing city number 553 : cartagena del chaira\n",
      "Processing city number 554 : fairbanks\n",
      "Processing city number 555 : malakal\n",
      "Processing city number 556 : luena\n",
      "Processing city number 557 : pathein\n",
      "Processing city number 558 : san policarpo\n",
      "Processing city number 559 : swellendam\n",
      "Processing city number 560 : hay river\n",
      "City not found. Next city...\n",
      "Processing city number 562 : kosh-agach\n",
      "Processing city number 563 : elko\n",
      "Processing city number 564 : el tigre\n",
      "Processing city number 565 : maneadero\n",
      "Processing city number 566 : kirovskiy\n",
      "Processing city number 567 : duliagaon\n",
      "Processing city number 568 : jieshi\n",
      "Processing city number 569 : tucuman\n",
      "Processing city number 570 : hirara\n",
      "Processing city number 571 : pacific grove\n",
      "Processing city number 572 : coos bay\n",
      "Processing city number 573 : rudozem\n",
      "Processing city number 574 : nikolayevsk-na-amure\n",
      "Processing city number 575 : capao da canoa\n",
      "Processing city number 576 : ixtapa\n",
      "Processing city number 577 : constitucion\n",
      "Processing city number 578 : hanyang\n",
      "Processing city number 579 : sovetskiy\n",
      "Processing city number 580 : whitecourt\n",
      "Processing city number 581 : kirksville\n",
      "Processing city number 582 : belmonte\n",
      "Processing city number 583 : likhoslavl\n",
      "Processing city number 584 : jutiapa\n",
      "Processing city number 585 : benidorm\n",
      "Processing city number 586 : pangody\n",
      "Processing city number 587 : mezen\n",
      "Processing city number 588 : komsomolskiy\n",
      "Processing city number 589 : wasilla\n",
      "Processing city number 590 : geraldton\n",
      "Processing city number 591 : saravena\n",
      "Processing city number 592 : airai\n",
      "Processing city number 593 : jumla\n",
      "City Data Complete\n"
     ]
    }
   ],
   "source": [
    "url = \"http://api.openweathermap.org/data/2.5/weather?\"\n",
    "units = \"imperial\"\n",
    "query_url = f\"{url}appid={weather_api_key}&units={units}&q=\"\n",
    "\n",
    "city_name = []\n",
    "country = []\n",
    "latitude = []\n",
    "longitude = []\n",
    "weather_date = []\n",
    "temp = []\n",
    "humidity = []\n",
    "cloudiness = []\n",
    "wind_speed = []\n",
    "\n",
    "\n",
    "# For each cities in cities list, get data\n",
    "for city in range(len(cities)):\n",
    "    try:\n",
    "        response = requests.get(query_url + cities[city]).json()\n",
    "        city_name.append(response[\"name\"])\n",
    "        cloudiness.append(response[\"clouds\"][\"all\"])\n",
    "        country.append(response[\"sys\"][\"country\"])\n",
    "        weather_date.append(response[\"dt\"])\n",
    "        humidity.append(response[\"main\"][\"humidity\"])\n",
    "        latitude.append(response[\"coord\"][\"lat\"])\n",
    "        longitude.append(response[\"coord\"][\"lon\"])\n",
    "        temp.append(response['main']['temp_max'])\n",
    "        wind_speed.append(response[\"wind\"][\"speed\"])\n",
    "        counter = counter + 1\n",
    "    \n",
    "            \n",
    "        print(f\"Processing city number {city} : {cities[city]}\") \n",
    "  \n",
    "    except(KeyError, IndexError):\n",
    "        print(\"City not found. Next city...\")\n",
    "\n",
    "\n",
    "print(\"City Data Complete\")\n"
   ]
  },
  {
   "cell_type": "markdown",
   "metadata": {},
   "source": [
    "### Convert Raw Data to DataFrame\n",
    "* Export the city data into a .csv.\n",
    "* Display the DataFrame"
   ]
  },
  {
   "cell_type": "code",
   "execution_count": 49,
   "metadata": {},
   "outputs": [],
   "source": [
    "weather_df = pd.DataFrame({'City' : city_name,\n",
    "                          'Country' : country ,\n",
    "                          'Lat' : latitude , \n",
    "                          'Lng' : longitude ,\n",
    "                          'Date' : weather_date ,\n",
    "                          'Max Temp' : temp ,\n",
    "                          'Humidity' : humidity ,\n",
    "                          'Cloudiness' : cloudiness ,\n",
    "                          'Wind Speed' : wind_speed })\n",
    "weather_df.to_csv(\"../output_data/cities.csv\", index = False)"
   ]
  },
  {
   "cell_type": "code",
   "execution_count": 50,
   "metadata": {},
   "outputs": [
    {
     "data": {
      "text/html": [
       "<div>\n",
       "<style scoped>\n",
       "    .dataframe tbody tr th:only-of-type {\n",
       "        vertical-align: middle;\n",
       "    }\n",
       "\n",
       "    .dataframe tbody tr th {\n",
       "        vertical-align: top;\n",
       "    }\n",
       "\n",
       "    .dataframe thead th {\n",
       "        text-align: right;\n",
       "    }\n",
       "</style>\n",
       "<table border=\"1\" class=\"dataframe\">\n",
       "  <thead>\n",
       "    <tr style=\"text-align: right;\">\n",
       "      <th></th>\n",
       "      <th>City</th>\n",
       "      <th>Country</th>\n",
       "      <th>Lat</th>\n",
       "      <th>Lng</th>\n",
       "      <th>Date</th>\n",
       "      <th>Max Temp</th>\n",
       "      <th>Humidity</th>\n",
       "      <th>Cloudiness</th>\n",
       "      <th>Wind Speed</th>\n",
       "    </tr>\n",
       "  </thead>\n",
       "  <tbody>\n",
       "    <tr>\n",
       "      <th>0</th>\n",
       "      <td>Fortuna</td>\n",
       "      <td>US</td>\n",
       "      <td>40.60</td>\n",
       "      <td>-124.16</td>\n",
       "      <td>1607636329</td>\n",
       "      <td>55.99</td>\n",
       "      <td>73</td>\n",
       "      <td>14</td>\n",
       "      <td>1.99</td>\n",
       "    </tr>\n",
       "    <tr>\n",
       "      <th>1</th>\n",
       "      <td>Bluff</td>\n",
       "      <td>NZ</td>\n",
       "      <td>-46.60</td>\n",
       "      <td>168.33</td>\n",
       "      <td>1607636329</td>\n",
       "      <td>50.00</td>\n",
       "      <td>77</td>\n",
       "      <td>93</td>\n",
       "      <td>11.99</td>\n",
       "    </tr>\n",
       "    <tr>\n",
       "      <th>2</th>\n",
       "      <td>Dunedin</td>\n",
       "      <td>NZ</td>\n",
       "      <td>-45.87</td>\n",
       "      <td>170.50</td>\n",
       "      <td>1607636287</td>\n",
       "      <td>44.01</td>\n",
       "      <td>87</td>\n",
       "      <td>100</td>\n",
       "      <td>28.99</td>\n",
       "    </tr>\n",
       "    <tr>\n",
       "      <th>3</th>\n",
       "      <td>Pochutla</td>\n",
       "      <td>MX</td>\n",
       "      <td>15.74</td>\n",
       "      <td>-96.47</td>\n",
       "      <td>1607636329</td>\n",
       "      <td>84.20</td>\n",
       "      <td>51</td>\n",
       "      <td>5</td>\n",
       "      <td>11.41</td>\n",
       "    </tr>\n",
       "    <tr>\n",
       "      <th>4</th>\n",
       "      <td>Majene</td>\n",
       "      <td>ID</td>\n",
       "      <td>-3.54</td>\n",
       "      <td>118.97</td>\n",
       "      <td>1607636329</td>\n",
       "      <td>78.53</td>\n",
       "      <td>83</td>\n",
       "      <td>100</td>\n",
       "      <td>5.03</td>\n",
       "    </tr>\n",
       "    <tr>\n",
       "      <th>...</th>\n",
       "      <td>...</td>\n",
       "      <td>...</td>\n",
       "      <td>...</td>\n",
       "      <td>...</td>\n",
       "      <td>...</td>\n",
       "      <td>...</td>\n",
       "      <td>...</td>\n",
       "      <td>...</td>\n",
       "      <td>...</td>\n",
       "    </tr>\n",
       "    <tr>\n",
       "      <th>548</th>\n",
       "      <td>Wasilla</td>\n",
       "      <td>US</td>\n",
       "      <td>61.58</td>\n",
       "      <td>-149.44</td>\n",
       "      <td>1607636424</td>\n",
       "      <td>21.99</td>\n",
       "      <td>73</td>\n",
       "      <td>90</td>\n",
       "      <td>1.28</td>\n",
       "    </tr>\n",
       "    <tr>\n",
       "      <th>549</th>\n",
       "      <td>Geraldton</td>\n",
       "      <td>AU</td>\n",
       "      <td>-28.77</td>\n",
       "      <td>114.60</td>\n",
       "      <td>1607636424</td>\n",
       "      <td>62.60</td>\n",
       "      <td>93</td>\n",
       "      <td>75</td>\n",
       "      <td>3.36</td>\n",
       "    </tr>\n",
       "    <tr>\n",
       "      <th>550</th>\n",
       "      <td>Saravena</td>\n",
       "      <td>CO</td>\n",
       "      <td>6.95</td>\n",
       "      <td>-71.88</td>\n",
       "      <td>1607636425</td>\n",
       "      <td>79.07</td>\n",
       "      <td>80</td>\n",
       "      <td>62</td>\n",
       "      <td>0.31</td>\n",
       "    </tr>\n",
       "    <tr>\n",
       "      <th>551</th>\n",
       "      <td>Airai</td>\n",
       "      <td>TL</td>\n",
       "      <td>-8.93</td>\n",
       "      <td>125.41</td>\n",
       "      <td>1607636425</td>\n",
       "      <td>64.26</td>\n",
       "      <td>95</td>\n",
       "      <td>95</td>\n",
       "      <td>1.30</td>\n",
       "    </tr>\n",
       "    <tr>\n",
       "      <th>552</th>\n",
       "      <td>Jumla</td>\n",
       "      <td>NP</td>\n",
       "      <td>29.27</td>\n",
       "      <td>82.18</td>\n",
       "      <td>1607636425</td>\n",
       "      <td>38.32</td>\n",
       "      <td>56</td>\n",
       "      <td>0</td>\n",
       "      <td>5.75</td>\n",
       "    </tr>\n",
       "  </tbody>\n",
       "</table>\n",
       "<p>553 rows × 9 columns</p>\n",
       "</div>"
      ],
      "text/plain": [
       "          City Country    Lat     Lng        Date  Max Temp  Humidity  \\\n",
       "0      Fortuna      US  40.60 -124.16  1607636329     55.99        73   \n",
       "1        Bluff      NZ -46.60  168.33  1607636329     50.00        77   \n",
       "2      Dunedin      NZ -45.87  170.50  1607636287     44.01        87   \n",
       "3     Pochutla      MX  15.74  -96.47  1607636329     84.20        51   \n",
       "4       Majene      ID  -3.54  118.97  1607636329     78.53        83   \n",
       "..         ...     ...    ...     ...         ...       ...       ...   \n",
       "548    Wasilla      US  61.58 -149.44  1607636424     21.99        73   \n",
       "549  Geraldton      AU -28.77  114.60  1607636424     62.60        93   \n",
       "550   Saravena      CO   6.95  -71.88  1607636425     79.07        80   \n",
       "551      Airai      TL  -8.93  125.41  1607636425     64.26        95   \n",
       "552      Jumla      NP  29.27   82.18  1607636425     38.32        56   \n",
       "\n",
       "     Cloudiness  Wind Speed  \n",
       "0            14        1.99  \n",
       "1            93       11.99  \n",
       "2           100       28.99  \n",
       "3             5       11.41  \n",
       "4           100        5.03  \n",
       "..          ...         ...  \n",
       "548          90        1.28  \n",
       "549          75        3.36  \n",
       "550          62        0.31  \n",
       "551          95        1.30  \n",
       "552           0        5.75  \n",
       "\n",
       "[553 rows x 9 columns]"
      ]
     },
     "execution_count": 50,
     "metadata": {},
     "output_type": "execute_result"
    }
   ],
   "source": [
    "weather_df"
   ]
  },
  {
   "cell_type": "markdown",
   "metadata": {},
   "source": [
    "## Inspect the data and remove the cities where the humidity > 100%.\n",
    "----\n",
    "Skip this step if there are no cities that have humidity > 100%. "
   ]
  },
  {
   "cell_type": "code",
   "execution_count": 51,
   "metadata": {},
   "outputs": [
    {
     "data": {
      "text/html": [
       "<div>\n",
       "<style scoped>\n",
       "    .dataframe tbody tr th:only-of-type {\n",
       "        vertical-align: middle;\n",
       "    }\n",
       "\n",
       "    .dataframe tbody tr th {\n",
       "        vertical-align: top;\n",
       "    }\n",
       "\n",
       "    .dataframe thead th {\n",
       "        text-align: right;\n",
       "    }\n",
       "</style>\n",
       "<table border=\"1\" class=\"dataframe\">\n",
       "  <thead>\n",
       "    <tr style=\"text-align: right;\">\n",
       "      <th></th>\n",
       "      <th>City</th>\n",
       "      <th>Country</th>\n",
       "      <th>Lat</th>\n",
       "      <th>Lng</th>\n",
       "      <th>Date</th>\n",
       "      <th>Max Temp</th>\n",
       "      <th>Humidity</th>\n",
       "      <th>Cloudiness</th>\n",
       "      <th>Wind Speed</th>\n",
       "    </tr>\n",
       "  </thead>\n",
       "  <tbody>\n",
       "    <tr>\n",
       "      <th>531</th>\n",
       "      <td>Coos Bay</td>\n",
       "      <td>US</td>\n",
       "      <td>43.37</td>\n",
       "      <td>-124.22</td>\n",
       "      <td>1607636422</td>\n",
       "      <td>48.99</td>\n",
       "      <td>100</td>\n",
       "      <td>90</td>\n",
       "      <td>3.53</td>\n",
       "    </tr>\n",
       "    <tr>\n",
       "      <th>328</th>\n",
       "      <td>Havre-St-Pierre</td>\n",
       "      <td>CA</td>\n",
       "      <td>50.23</td>\n",
       "      <td>-63.60</td>\n",
       "      <td>1607636387</td>\n",
       "      <td>30.20</td>\n",
       "      <td>100</td>\n",
       "      <td>90</td>\n",
       "      <td>4.70</td>\n",
       "    </tr>\n",
       "    <tr>\n",
       "      <th>206</th>\n",
       "      <td>Matagami</td>\n",
       "      <td>CA</td>\n",
       "      <td>49.75</td>\n",
       "      <td>-77.63</td>\n",
       "      <td>1607636363</td>\n",
       "      <td>28.40</td>\n",
       "      <td>100</td>\n",
       "      <td>90</td>\n",
       "      <td>5.82</td>\n",
       "    </tr>\n",
       "    <tr>\n",
       "      <th>499</th>\n",
       "      <td>Barcelos</td>\n",
       "      <td>PT</td>\n",
       "      <td>41.54</td>\n",
       "      <td>-8.62</td>\n",
       "      <td>1607636416</td>\n",
       "      <td>59.00</td>\n",
       "      <td>100</td>\n",
       "      <td>75</td>\n",
       "      <td>5.82</td>\n",
       "    </tr>\n",
       "    <tr>\n",
       "      <th>390</th>\n",
       "      <td>Stonewall</td>\n",
       "      <td>CA</td>\n",
       "      <td>50.13</td>\n",
       "      <td>-97.33</td>\n",
       "      <td>1607636398</td>\n",
       "      <td>28.40</td>\n",
       "      <td>100</td>\n",
       "      <td>90</td>\n",
       "      <td>11.41</td>\n",
       "    </tr>\n",
       "    <tr>\n",
       "      <th>...</th>\n",
       "      <td>...</td>\n",
       "      <td>...</td>\n",
       "      <td>...</td>\n",
       "      <td>...</td>\n",
       "      <td>...</td>\n",
       "      <td>...</td>\n",
       "      <td>...</td>\n",
       "      <td>...</td>\n",
       "      <td>...</td>\n",
       "    </tr>\n",
       "    <tr>\n",
       "      <th>209</th>\n",
       "      <td>Otavi</td>\n",
       "      <td>NA</td>\n",
       "      <td>-19.65</td>\n",
       "      <td>17.33</td>\n",
       "      <td>1607636364</td>\n",
       "      <td>73.67</td>\n",
       "      <td>17</td>\n",
       "      <td>0</td>\n",
       "      <td>7.14</td>\n",
       "    </tr>\n",
       "    <tr>\n",
       "      <th>176</th>\n",
       "      <td>San Ramon</td>\n",
       "      <td>US</td>\n",
       "      <td>37.78</td>\n",
       "      <td>-121.98</td>\n",
       "      <td>1607636242</td>\n",
       "      <td>66.99</td>\n",
       "      <td>16</td>\n",
       "      <td>1</td>\n",
       "      <td>3.36</td>\n",
       "    </tr>\n",
       "    <tr>\n",
       "      <th>425</th>\n",
       "      <td>Ouallam</td>\n",
       "      <td>NE</td>\n",
       "      <td>14.32</td>\n",
       "      <td>2.09</td>\n",
       "      <td>1607636404</td>\n",
       "      <td>81.25</td>\n",
       "      <td>15</td>\n",
       "      <td>0</td>\n",
       "      <td>8.05</td>\n",
       "    </tr>\n",
       "    <tr>\n",
       "      <th>88</th>\n",
       "      <td>North Las Vegas</td>\n",
       "      <td>US</td>\n",
       "      <td>36.20</td>\n",
       "      <td>-115.12</td>\n",
       "      <td>1607636342</td>\n",
       "      <td>64.00</td>\n",
       "      <td>13</td>\n",
       "      <td>1</td>\n",
       "      <td>3.36</td>\n",
       "    </tr>\n",
       "    <tr>\n",
       "      <th>430</th>\n",
       "      <td>Castaños</td>\n",
       "      <td>MX</td>\n",
       "      <td>26.78</td>\n",
       "      <td>-101.42</td>\n",
       "      <td>1607636405</td>\n",
       "      <td>88.00</td>\n",
       "      <td>10</td>\n",
       "      <td>11</td>\n",
       "      <td>1.99</td>\n",
       "    </tr>\n",
       "  </tbody>\n",
       "</table>\n",
       "<p>553 rows × 9 columns</p>\n",
       "</div>"
      ],
      "text/plain": [
       "                City Country    Lat     Lng        Date  Max Temp  Humidity  \\\n",
       "531         Coos Bay      US  43.37 -124.22  1607636422     48.99       100   \n",
       "328  Havre-St-Pierre      CA  50.23  -63.60  1607636387     30.20       100   \n",
       "206         Matagami      CA  49.75  -77.63  1607636363     28.40       100   \n",
       "499         Barcelos      PT  41.54   -8.62  1607636416     59.00       100   \n",
       "390        Stonewall      CA  50.13  -97.33  1607636398     28.40       100   \n",
       "..               ...     ...    ...     ...         ...       ...       ...   \n",
       "209            Otavi      NA -19.65   17.33  1607636364     73.67        17   \n",
       "176        San Ramon      US  37.78 -121.98  1607636242     66.99        16   \n",
       "425          Ouallam      NE  14.32    2.09  1607636404     81.25        15   \n",
       "88   North Las Vegas      US  36.20 -115.12  1607636342     64.00        13   \n",
       "430         Castaños      MX  26.78 -101.42  1607636405     88.00        10   \n",
       "\n",
       "     Cloudiness  Wind Speed  \n",
       "531          90        3.53  \n",
       "328          90        4.70  \n",
       "206          90        5.82  \n",
       "499          75        5.82  \n",
       "390          90       11.41  \n",
       "..          ...         ...  \n",
       "209           0        7.14  \n",
       "176           1        3.36  \n",
       "425           0        8.05  \n",
       "88            1        3.36  \n",
       "430          11        1.99  \n",
       "\n",
       "[553 rows x 9 columns]"
      ]
     },
     "execution_count": 51,
     "metadata": {},
     "output_type": "execute_result"
    }
   ],
   "source": [
    "weather_df['Humidity'].astype(float)\n",
    "weather_sorted = weather_df.sort_values(by='Humidity', ascending=False)\n",
    "weather_sorted\n",
    "#Sorted shows none are above 100 in this example. However, function added if data is remeasured and increases above 100%"
   ]
  },
  {
   "cell_type": "code",
   "execution_count": 52,
   "metadata": {},
   "outputs": [],
   "source": [
    "#  Get the indices of cities that have humidity over 100%.\n"
   ]
  },
  {
   "cell_type": "code",
   "execution_count": 53,
   "metadata": {},
   "outputs": [
    {
     "data": {
      "text/html": [
       "<div>\n",
       "<style scoped>\n",
       "    .dataframe tbody tr th:only-of-type {\n",
       "        vertical-align: middle;\n",
       "    }\n",
       "\n",
       "    .dataframe tbody tr th {\n",
       "        vertical-align: top;\n",
       "    }\n",
       "\n",
       "    .dataframe thead th {\n",
       "        text-align: right;\n",
       "    }\n",
       "</style>\n",
       "<table border=\"1\" class=\"dataframe\">\n",
       "  <thead>\n",
       "    <tr style=\"text-align: right;\">\n",
       "      <th></th>\n",
       "      <th>City</th>\n",
       "      <th>Country</th>\n",
       "      <th>Lat</th>\n",
       "      <th>Lng</th>\n",
       "      <th>Date</th>\n",
       "      <th>Max Temp</th>\n",
       "      <th>Humidity</th>\n",
       "      <th>Cloudiness</th>\n",
       "      <th>Wind Speed</th>\n",
       "    </tr>\n",
       "  </thead>\n",
       "  <tbody>\n",
       "    <tr>\n",
       "      <th>0</th>\n",
       "      <td>Fortuna</td>\n",
       "      <td>US</td>\n",
       "      <td>40.60</td>\n",
       "      <td>-124.16</td>\n",
       "      <td>1607636329</td>\n",
       "      <td>55.99</td>\n",
       "      <td>73</td>\n",
       "      <td>14</td>\n",
       "      <td>1.99</td>\n",
       "    </tr>\n",
       "    <tr>\n",
       "      <th>1</th>\n",
       "      <td>Bluff</td>\n",
       "      <td>NZ</td>\n",
       "      <td>-46.60</td>\n",
       "      <td>168.33</td>\n",
       "      <td>1607636329</td>\n",
       "      <td>50.00</td>\n",
       "      <td>77</td>\n",
       "      <td>93</td>\n",
       "      <td>11.99</td>\n",
       "    </tr>\n",
       "    <tr>\n",
       "      <th>2</th>\n",
       "      <td>Dunedin</td>\n",
       "      <td>NZ</td>\n",
       "      <td>-45.87</td>\n",
       "      <td>170.50</td>\n",
       "      <td>1607636287</td>\n",
       "      <td>44.01</td>\n",
       "      <td>87</td>\n",
       "      <td>100</td>\n",
       "      <td>28.99</td>\n",
       "    </tr>\n",
       "    <tr>\n",
       "      <th>3</th>\n",
       "      <td>Pochutla</td>\n",
       "      <td>MX</td>\n",
       "      <td>15.74</td>\n",
       "      <td>-96.47</td>\n",
       "      <td>1607636329</td>\n",
       "      <td>84.20</td>\n",
       "      <td>51</td>\n",
       "      <td>5</td>\n",
       "      <td>11.41</td>\n",
       "    </tr>\n",
       "    <tr>\n",
       "      <th>4</th>\n",
       "      <td>Majene</td>\n",
       "      <td>ID</td>\n",
       "      <td>-3.54</td>\n",
       "      <td>118.97</td>\n",
       "      <td>1607636329</td>\n",
       "      <td>78.53</td>\n",
       "      <td>83</td>\n",
       "      <td>100</td>\n",
       "      <td>5.03</td>\n",
       "    </tr>\n",
       "    <tr>\n",
       "      <th>...</th>\n",
       "      <td>...</td>\n",
       "      <td>...</td>\n",
       "      <td>...</td>\n",
       "      <td>...</td>\n",
       "      <td>...</td>\n",
       "      <td>...</td>\n",
       "      <td>...</td>\n",
       "      <td>...</td>\n",
       "      <td>...</td>\n",
       "    </tr>\n",
       "    <tr>\n",
       "      <th>548</th>\n",
       "      <td>Wasilla</td>\n",
       "      <td>US</td>\n",
       "      <td>61.58</td>\n",
       "      <td>-149.44</td>\n",
       "      <td>1607636424</td>\n",
       "      <td>21.99</td>\n",
       "      <td>73</td>\n",
       "      <td>90</td>\n",
       "      <td>1.28</td>\n",
       "    </tr>\n",
       "    <tr>\n",
       "      <th>549</th>\n",
       "      <td>Geraldton</td>\n",
       "      <td>AU</td>\n",
       "      <td>-28.77</td>\n",
       "      <td>114.60</td>\n",
       "      <td>1607636424</td>\n",
       "      <td>62.60</td>\n",
       "      <td>93</td>\n",
       "      <td>75</td>\n",
       "      <td>3.36</td>\n",
       "    </tr>\n",
       "    <tr>\n",
       "      <th>550</th>\n",
       "      <td>Saravena</td>\n",
       "      <td>CO</td>\n",
       "      <td>6.95</td>\n",
       "      <td>-71.88</td>\n",
       "      <td>1607636425</td>\n",
       "      <td>79.07</td>\n",
       "      <td>80</td>\n",
       "      <td>62</td>\n",
       "      <td>0.31</td>\n",
       "    </tr>\n",
       "    <tr>\n",
       "      <th>551</th>\n",
       "      <td>Airai</td>\n",
       "      <td>TL</td>\n",
       "      <td>-8.93</td>\n",
       "      <td>125.41</td>\n",
       "      <td>1607636425</td>\n",
       "      <td>64.26</td>\n",
       "      <td>95</td>\n",
       "      <td>95</td>\n",
       "      <td>1.30</td>\n",
       "    </tr>\n",
       "    <tr>\n",
       "      <th>552</th>\n",
       "      <td>Jumla</td>\n",
       "      <td>NP</td>\n",
       "      <td>29.27</td>\n",
       "      <td>82.18</td>\n",
       "      <td>1607636425</td>\n",
       "      <td>38.32</td>\n",
       "      <td>56</td>\n",
       "      <td>0</td>\n",
       "      <td>5.75</td>\n",
       "    </tr>\n",
       "  </tbody>\n",
       "</table>\n",
       "<p>553 rows × 9 columns</p>\n",
       "</div>"
      ],
      "text/plain": [
       "          City Country    Lat     Lng        Date  Max Temp  Humidity  \\\n",
       "0      Fortuna      US  40.60 -124.16  1607636329     55.99        73   \n",
       "1        Bluff      NZ -46.60  168.33  1607636329     50.00        77   \n",
       "2      Dunedin      NZ -45.87  170.50  1607636287     44.01        87   \n",
       "3     Pochutla      MX  15.74  -96.47  1607636329     84.20        51   \n",
       "4       Majene      ID  -3.54  118.97  1607636329     78.53        83   \n",
       "..         ...     ...    ...     ...         ...       ...       ...   \n",
       "548    Wasilla      US  61.58 -149.44  1607636424     21.99        73   \n",
       "549  Geraldton      AU -28.77  114.60  1607636424     62.60        93   \n",
       "550   Saravena      CO   6.95  -71.88  1607636425     79.07        80   \n",
       "551      Airai      TL  -8.93  125.41  1607636425     64.26        95   \n",
       "552      Jumla      NP  29.27   82.18  1607636425     38.32        56   \n",
       "\n",
       "     Cloudiness  Wind Speed  \n",
       "0            14        1.99  \n",
       "1            93       11.99  \n",
       "2           100       28.99  \n",
       "3             5       11.41  \n",
       "4           100        5.03  \n",
       "..          ...         ...  \n",
       "548          90        1.28  \n",
       "549          75        3.36  \n",
       "550          62        0.31  \n",
       "551          95        1.30  \n",
       "552           0        5.75  \n",
       "\n",
       "[553 rows x 9 columns]"
      ]
     },
     "execution_count": 53,
     "metadata": {},
     "output_type": "execute_result"
    }
   ],
   "source": [
    "# Make a new DataFrame equal to the city data to drop all humidity outliers by index.\n",
    "# Passing \"inplace=False\" will make a copy of the city_data DataFrame, which we call \"clean_city_data\".\n",
    "clean_city_data = weather_df[weather_df.Humidity <= 100]\n",
    "clean_city_data"
   ]
  },
  {
   "cell_type": "code",
   "execution_count": 54,
   "metadata": {},
   "outputs": [],
   "source": [
    "#Renames clean_city_data to weather_df to be passed into plots below\n",
    "weather_df = clean_city_data\n"
   ]
  },
  {
   "cell_type": "markdown",
   "metadata": {},
   "source": [
    "## Plotting the Data\n",
    "* Use proper labeling of the plots using plot titles (including date of analysis) and axes labels.\n",
    "* Save the plotted figures as .pngs."
   ]
  },
  {
   "cell_type": "markdown",
   "metadata": {},
   "source": [
    "## Latitude vs. Temperature Plot"
   ]
  },
  {
   "cell_type": "code",
   "execution_count": 55,
   "metadata": {
    "scrolled": true
   },
   "outputs": [
    {
     "data": {
      "image/png": "[encoded data removed]",
      "text/plain": [
       "<Figure size 432x288 with 1 Axes>"
      ]
     },
     "metadata": {
      "needs_background": "light"
     },
     "output_type": "display_data"
    },
    {
     "name": "stdout",
     "output_type": "stream",
     "text": [
      "This plot shows the comparison of temperature and latitude. As the latitude moves further away from 0 the temperature decrease, because you are also moving further away from the equator\n"
     ]
    }
   ],
   "source": [
    "# Create Latitude vs. Temperature Plot scatter plot\n",
    "plt.scatter(weather_df[\"Lat\"], weather_df[\"Max Temp\"], facecolor = \"green\")\n",
    "\n",
    "# Set title\n",
    "plt.title(\"City Latitude vs. Max Temperature (12/10/20)\")\n",
    "\n",
    "# Set x axis label\n",
    "plt.xlabel(\"Latitude\")\n",
    "\n",
    "# Set y axis label\n",
    "plt.ylabel(\"Max Temperature (F)\")\n",
    "\n",
    "# Set grid line\n",
    "plt.grid(linestyle='-', linewidth=1, alpha = 0.5)\n",
    "\n",
    "# Save the plotted figure as .pngs\n",
    "plt.savefig(\"Images/City Latitude vs Max Temperature.png\")\n",
    "\n",
    "plt.show()\n",
    "print ('This plot shows the comparison of temperature and latitude. As the latitude moves further away from 0 the temperature decrease, because you are also moving further away from the equator')"
   ]
  },
  {
   "cell_type": "markdown",
   "metadata": {},
   "source": [
    "## Latitude vs. Humidity Plot"
   ]
  },
  {
   "cell_type": "code",
   "execution_count": 56,
   "metadata": {},
   "outputs": [
    {
     "data": {
      "image/png": "[encoded data removed]",
      "text/plain": [
       "<Figure size 432x288 with 1 Axes>"
      ]
     },
     "metadata": {
      "needs_background": "light"
     },
     "output_type": "display_data"
    },
    {
     "name": "stdout",
     "output_type": "stream",
     "text": [
      "The comparison of humidity and latitude does not show a trend in data. Although humidity tends to be focused higher around latitude 0 (the equator)\n"
     ]
    }
   ],
   "source": [
    "# Create Latitude vs. Temperature Plot scatter plot\n",
    "plt.scatter(weather_df[\"Lat\"], weather_df[\"Humidity\"], facecolor = \"blue\")\n",
    "\n",
    "\n",
    "plt.title(\"City Latitude vs. Humidity (12/10/20)\")\n",
    "\n",
    "\n",
    "plt.xlabel(\"Latitude\")\n",
    "\n",
    "\n",
    "plt.ylabel(\"Humidity\")\n",
    "\n",
    "\n",
    "plt.grid(linestyle='-', linewidth=1, alpha = 0.5)\n",
    "\n",
    "\n",
    "plt.savefig(\"Images/City Latitude vs Humidity.png\")\n",
    "\n",
    "plt.show()\n",
    "\n",
    "print(\"The comparison of humidity and latitude does not show a trend in data. Although humidity tends to be focused higher around latitude 0 (the equator)\")"
   ]
  },
  {
   "cell_type": "markdown",
   "metadata": {},
   "source": [
    "## Latitude vs. Cloudiness Plot"
   ]
  },
  {
   "cell_type": "code",
   "execution_count": 57,
   "metadata": {},
   "outputs": [
    {
     "data": {
      "image/png": "[encoded data removed]",
      "text/plain": [
       "<Figure size 432x288 with 1 Axes>"
      ]
     },
     "metadata": {
      "needs_background": "light"
     },
     "output_type": "display_data"
    },
    {
     "name": "stdout",
     "output_type": "stream",
     "text": [
      "Cloudiness shows no correllation with latitude and seems to be evenly dispersed over all latitudes\n"
     ]
    }
   ],
   "source": [
    "# Create Latitude vs. Temperature Plot scatter plot\n",
    "plt.scatter(weather_df[\"Lat\"], weather_df[\"Cloudiness\"], facecolor = \"grey\")\n",
    "\n",
    "\n",
    "plt.title(\"City Latitude vs. Cloudiness (12/10/20)\")\n",
    "\n",
    "\n",
    "plt.xlabel(\"Latitude\")\n",
    "\n",
    "\n",
    "plt.ylabel(\"Cloudiness\")\n",
    "\n",
    "\n",
    "plt.grid(linestyle='-', linewidth=1, alpha = 0.5)\n",
    "\n",
    "\n",
    "plt.savefig(\"Images/City Latitude vs Cloudiness.png\")\n",
    "\n",
    "plt.show()\n",
    "\n",
    "print('Cloudiness shows no correllation with latitude and seems to be evenly dispersed over all latitudes')"
   ]
  },
  {
   "cell_type": "markdown",
   "metadata": {},
   "source": [
    "## Latitude vs. Wind Speed Plot"
   ]
  },
  {
   "cell_type": "code",
   "execution_count": 58,
   "metadata": {},
   "outputs": [
    {
     "data": {
      "image/png": "[encoded data removed]",
      "text/plain": [
       "<Figure size 432x288 with 1 Axes>"
      ]
     },
     "metadata": {
      "needs_background": "light"
     },
     "output_type": "display_data"
    },
    {
     "name": "stdout",
     "output_type": "stream",
     "text": [
      "When comparing wind speed with latitude it can be seen that wind spends generally increases as latitude moves away from 0 (the equatore)\n"
     ]
    }
   ],
   "source": [
    "# Create Latitude vs. Temperature Plot scatter plot\n",
    "plt.scatter(weather_df[\"Lat\"], weather_df[\"Wind Speed\"], facecolor = \"yellow\")\n",
    "\n",
    "\n",
    "plt.title(\"City Latitude vs. Wind Speed (12/10/20)\")\n",
    "\n",
    "\n",
    "plt.xlabel(\"Latitude\")\n",
    "\n",
    "\n",
    "plt.ylabel(\"Wind Speed\")\n",
    "\n",
    "\n",
    "plt.grid(linestyle='-', linewidth=1, alpha = 0.5)\n",
    "\n",
    "\n",
    "plt.savefig(\"Images/City Latitude vs Wind Speed.png\")\n",
    "\n",
    "plt.show()\n",
    "\n",
    "print('When comparing wind speed with latitude it can be seen that wind spends generally increases as latitude moves away from 0 (the equatore)')"
   ]
  },
  {
   "cell_type": "markdown",
   "metadata": {},
   "source": [
    "## Linear Regression"
   ]
  },
  {
   "cell_type": "code",
   "execution_count": 59,
   "metadata": {},
   "outputs": [],
   "source": [
    "northern_hemi = weather_df.loc[weather_df['Lat'] >= 0]\n",
    "southern_hemi = weather_df.loc[weather_df['Lat'] < 0]"
   ]
  },
  {
   "cell_type": "markdown",
   "metadata": {},
   "source": [
    "####  Northern Hemisphere - Max Temp vs. Latitude Linear Regression"
   ]
  },
  {
   "cell_type": "code",
   "execution_count": 60,
   "metadata": {},
   "outputs": [
    {
     "name": "stdout",
     "output_type": "stream",
     "text": [
      "The r-squared is: 0.7070129917109079\n"
     ]
    },
    {
     "data": {
      "image/png": "[encoded data removed]",
      "text/plain": [
       "<Figure size 432x288 with 1 Axes>"
      ]
     },
     "metadata": {
      "needs_background": "light"
     },
     "output_type": "display_data"
    },
    {
     "name": "stdout",
     "output_type": "stream",
     "text": [
      "In the Northern Hemisphere as latitude increases the maximum temperature decreases. The r value is close to 1 for this data shows there is good correlation between latitude and maximum temperature.\n"
     ]
    },
    {
     "data": {
      "text/plain": [
       "<Figure size 432x288 with 0 Axes>"
      ]
     },
     "metadata": {},
     "output_type": "display_data"
    }
   ],
   "source": [
    "x_values = northern_hemi['Max Temp']\n",
    "y_values = northern_hemi['Lat']\n",
    "(slope, intercept, rvalue, pvalue, stderr) = linregress(x_values, y_values)\n",
    "regress_values = x_values * slope + intercept\n",
    "line_eq = \"y = \" + str(round(slope,2)) + \"x + \" + str(round(intercept,2))\n",
    "plt.scatter(x_values,y_values)\n",
    "plt.plot(x_values,regress_values,\"r-\")\n",
    "plt.grid()\n",
    "plt.title('Northern Hemisphere - Max Temp vs. Latitude Linear Regression')\n",
    "plt.annotate(line_eq,(-20,10),fontsize=15,color=\"red\")\n",
    "plt.xlabel('Maximum Temperature (F)')\n",
    "plt.ylabel('Latitude')\n",
    "print(f\"The r-squared is: {rvalue**2}\")\n",
    "plt.show()\n",
    "plt.savefig(\"Images/Northern Hemisphere vs Max Temp LR.png\")\n",
    "\n",
    "print('In the Northern Hemisphere as latitude increases the maximum temperature decreases. The r value is close to 1 for this data shows there is good correlation between latitude and maximum temperature.')\n"
   ]
  },
  {
   "cell_type": "markdown",
   "metadata": {},
   "source": [
    "####  Southern Hemisphere - Max Temp vs. Latitude Linear Regression"
   ]
  },
  {
   "cell_type": "code",
   "execution_count": 61,
   "metadata": {},
   "outputs": [
    {
     "name": "stdout",
     "output_type": "stream",
     "text": [
      "The r-squared is: 0.2391046212564467\n"
     ]
    },
    {
     "data": {
      "image/png": "[encoded data removed]",
      "text/plain": [
       "<Figure size 432x288 with 1 Axes>"
      ]
     },
     "metadata": {
      "needs_background": "light"
     },
     "output_type": "display_data"
    },
    {
     "name": "stdout",
     "output_type": "stream",
     "text": [
      "In the southern hemisphere the opposite relationship is true and as latitude decreases the temperature also decreases. However, the r value for this data is not as close to 1 indicating the correlation between latitude and temperature is not as great in the southern hemisphere.\n"
     ]
    },
    {
     "data": {
      "text/plain": [
       "<Figure size 432x288 with 0 Axes>"
      ]
     },
     "metadata": {},
     "output_type": "display_data"
    }
   ],
   "source": [
    "x_values = southern_hemi['Max Temp']\n",
    "y_values = southern_hemi['Lat']\n",
    "(slope, intercept, rvalue, pvalue, stderr) = linregress(x_values, y_values)\n",
    "regress_values = x_values * slope + intercept\n",
    "line_eq = \"y = \" + str(round(slope,2)) + \"x + \" + str(round(intercept,2))\n",
    "plt.scatter(x_values,y_values)\n",
    "plt.plot(x_values,regress_values,\"r-\")\n",
    "plt.grid()\n",
    "plt.title('Southern Hemisphere - Max Temp vs. Latitude Linear Regression')\n",
    "plt.annotate(line_eq,(40,-10),fontsize=15,color=\"red\")\n",
    "plt.xlabel('Maximum Temperature (F)')\n",
    "plt.ylabel('Latitude')\n",
    "print(f\"The r-squared is: {rvalue**2}\")\n",
    "plt.show()\n",
    "plt.savefig(\"Images/Southern Hemisphere vs Max Temp LR.png\")\n",
    "\n",
    "print('In the southern hemisphere the opposite relationship is true and as latitude decreases the temperature also decreases. However, the r value for this data is not as close to 1 indicating the correlation between latitude and temperature is not as great in the southern hemisphere.')"
   ]
  },
  {
   "cell_type": "markdown",
   "metadata": {},
   "source": [
    "####  Northern Hemisphere - Humidity (%) vs. Latitude Linear Regression"
   ]
  },
  {
   "cell_type": "code",
   "execution_count": 62,
   "metadata": {},
   "outputs": [
    {
     "name": "stdout",
     "output_type": "stream",
     "text": [
      "The r-squared is: 0.11845383031986065\n"
     ]
    },
    {
     "data": {
      "image/png": "[encoded data removed]",
      "text/plain": [
       "<Figure size 432x288 with 1 Axes>"
      ]
     },
     "metadata": {
      "needs_background": "light"
     },
     "output_type": "display_data"
    },
    {
     "name": "stdout",
     "output_type": "stream",
     "text": [
      "For humidity compared to latitude the r value is almost 0 meaning there is little correlation between latitude and humidity.\n"
     ]
    },
    {
     "data": {
      "text/plain": [
       "<Figure size 432x288 with 0 Axes>"
      ]
     },
     "metadata": {},
     "output_type": "display_data"
    }
   ],
   "source": [
    "x_values = northern_hemi['Humidity']\n",
    "y_values = northern_hemi['Lat']\n",
    "(slope, intercept, rvalue, pvalue, stderr) = linregress(x_values, y_values)\n",
    "regress_values = x_values * slope + intercept\n",
    "line_eq = \"y = \" + str(round(slope,2)) + \"x + \" + str(round(intercept,2))\n",
    "plt.scatter(x_values,y_values)\n",
    "plt.plot(x_values,regress_values,\"r-\")\n",
    "plt.grid()\n",
    "plt.title('Northern Hemisphere - Humidity (%) vs. Latitude Linear Regression')\n",
    "plt.annotate(line_eq,(40,50),fontsize=15,color=\"red\")\n",
    "plt.xlabel('Humidity (%)')\n",
    "plt.ylabel('Latitude')\n",
    "print(f\"The r-squared is: {rvalue**2}\")\n",
    "plt.show()\n",
    "plt.savefig(\"Images/Northern Hemisphere vs Humidity LR.png\")\n",
    "\n",
    "print('For humidity compared to latitude the r value is almost 0 meaning there is little correlation between latitude and humidity.')"
   ]
  },
  {
   "cell_type": "markdown",
   "metadata": {},
   "source": [
    "####  Southern Hemisphere - Humidity (%) vs. Latitude Linear Regression"
   ]
  },
  {
   "cell_type": "code",
   "execution_count": 63,
   "metadata": {},
   "outputs": [
    {
     "name": "stdout",
     "output_type": "stream",
     "text": [
      "The r-squared is: 0.16561453709207402\n"
     ]
    },
    {
     "data": {
      "image/png": "[encoded data removed]",
      "text/plain": [
       "<Figure size 432x288 with 1 Axes>"
      ]
     },
     "metadata": {
      "needs_background": "light"
     },
     "output_type": "display_data"
    },
    {
     "name": "stdout",
     "output_type": "stream",
     "text": [
      "For humidity compared to latitude the r value is almost 0 meaning there is little correlation between latitude and humidity. This observation is true in the southern hemipshere as well.\n"
     ]
    },
    {
     "data": {
      "text/plain": [
       "<Figure size 432x288 with 0 Axes>"
      ]
     },
     "metadata": {},
     "output_type": "display_data"
    }
   ],
   "source": [
    "x_values = southern_hemi['Humidity']\n",
    "y_values = southern_hemi['Lat']\n",
    "(slope, intercept, rvalue, pvalue, stderr) = linregress(x_values, y_values)\n",
    "regress_values = x_values * slope + intercept\n",
    "line_eq = \"y = \" + str(round(slope,2)) + \"x + \" + str(round(intercept,2))\n",
    "plt.scatter(x_values,y_values)\n",
    "plt.plot(x_values,regress_values,\"r-\")\n",
    "plt.grid()\n",
    "plt.title('Southern Hemisphere - Humidity (%) vs. Latitude Linear Regression')\n",
    "plt.annotate(line_eq,(20,-50),fontsize=15,color=\"red\")\n",
    "plt.xlabel('Humidity (%)')\n",
    "plt.ylabel('Latitude')\n",
    "print(f\"The r-squared is: {rvalue**2}\")\n",
    "plt.show()\n",
    "plt.savefig(\"Images/Southern Hemisphere vs Humidity LR.png\")\n",
    "\n",
    "print('For humidity compared to latitude the r value is almost 0 meaning there is little correlation between latitude and humidity. This observation is true in the southern hemipshere as well.')"
   ]
  },
  {
   "cell_type": "markdown",
   "metadata": {},
   "source": [
    "####  Northern Hemisphere - Cloudiness (%) vs. Latitude Linear Regression"
   ]
  },
  {
   "cell_type": "code",
   "execution_count": 64,
   "metadata": {},
   "outputs": [
    {
     "name": "stdout",
     "output_type": "stream",
     "text": [
      "The r-squared is: 0.03816676079936701\n"
     ]
    },
    {
     "data": {
      "image/png": "[encoded data removed]",
      "text/plain": [
       "<Figure size 432x288 with 1 Axes>"
      ]
     },
     "metadata": {
      "needs_background": "light"
     },
     "output_type": "display_data"
    },
    {
     "name": "stdout",
     "output_type": "stream",
     "text": [
      "The r value for cloudiness vs latitude in the nothern hemisphere is almost 0. Indicating there is no correllation in this data.\n"
     ]
    },
    {
     "data": {
      "text/plain": [
       "<Figure size 432x288 with 0 Axes>"
      ]
     },
     "metadata": {},
     "output_type": "display_data"
    }
   ],
   "source": [
    "x_values = northern_hemi['Cloudiness']\n",
    "y_values = northern_hemi['Lat']\n",
    "(slope, intercept, rvalue, pvalue, stderr) = linregress(x_values, y_values)\n",
    "regress_values = x_values * slope + intercept\n",
    "line_eq = \"y = \" + str(round(slope,2)) + \"x + \" + str(round(intercept,2))\n",
    "plt.scatter(x_values,y_values)\n",
    "plt.plot(x_values,regress_values,\"r-\")\n",
    "plt.grid()\n",
    "plt.title('Northern Hemisphere - Cloudiness (%) vs. Latitude Linear Regression')\n",
    "plt.annotate(line_eq,(20,30),fontsize=15,color=\"red\")\n",
    "plt.xlabel('Cloudiness (%)')\n",
    "plt.ylabel('Latitude')\n",
    "print(f\"The r-squared is: {rvalue**2}\")\n",
    "plt.show()\n",
    "plt.savefig(\"Images/Northern Hemisphere vs Cloudiness LR.png\")\n",
    "\n",
    "print('The r value for cloudiness vs latitude in the nothern hemisphere is almost 0. Indicating there is no correllation in this data.')"
   ]
  },
  {
   "cell_type": "markdown",
   "metadata": {},
   "source": [
    "####  Southern Hemisphere - Cloudiness (%) vs. Latitude Linear Regression"
   ]
  },
  {
   "cell_type": "code",
   "execution_count": 65,
   "metadata": {},
   "outputs": [
    {
     "name": "stdout",
     "output_type": "stream",
     "text": [
      "The r-squared is: 0.019817602913912446\n"
     ]
    },
    {
     "data": {
      "image/png": "[encoded data removed]",
      "text/plain": [
       "<Figure size 432x288 with 1 Axes>"
      ]
     },
     "metadata": {
      "needs_background": "light"
     },
     "output_type": "display_data"
    },
    {
     "name": "stdout",
     "output_type": "stream",
     "text": [
      "The r value for cloudiness vs latitude in the southern hemisphere is almost 0. Indicating there is no correllation in this data.\n"
     ]
    },
    {
     "data": {
      "text/plain": [
       "<Figure size 432x288 with 0 Axes>"
      ]
     },
     "metadata": {},
     "output_type": "display_data"
    }
   ],
   "source": [
    "x_values = southern_hemi['Cloudiness']\n",
    "y_values = southern_hemi['Lat']\n",
    "(slope, intercept, rvalue, pvalue, stderr) = linregress(x_values, y_values)\n",
    "regress_values = x_values * slope + intercept\n",
    "line_eq = \"y = \" + str(round(slope,2)) + \"x + \" + str(round(intercept,2))\n",
    "plt.scatter(x_values,y_values)\n",
    "plt.plot(x_values,regress_values,\"r-\")\n",
    "plt.grid()\n",
    "plt.title('Southern Hemisphere - Cloudiness (%) vs. Latitude Linear Regression')\n",
    "plt.annotate(line_eq,(20,-30),fontsize=15,color=\"red\")\n",
    "plt.xlabel('Cloudiness (%)')\n",
    "plt.ylabel('Latitude')\n",
    "print(f\"The r-squared is: {rvalue**2}\")\n",
    "plt.show()\n",
    "plt.savefig(\"Images/Southern Hemisphere vs Cloudiness LR.png\")\n",
    "\n",
    "print('The r value for cloudiness vs latitude in the southern hemisphere is almost 0. Indicating there is no correllation in this data.')"
   ]
  },
  {
   "cell_type": "markdown",
   "metadata": {},
   "source": [
    "####  Northern Hemisphere - Wind Speed (mph) vs. Latitude Linear Regression"
   ]
  },
  {
   "cell_type": "code",
   "execution_count": 66,
   "metadata": {},
   "outputs": [
    {
     "name": "stdout",
     "output_type": "stream",
     "text": [
      "The r-squared is: 0.013682403234855384\n"
     ]
    },
    {
     "data": {
      "image/png": "[encoded data removed]",
      "text/plain": [
       "<Figure size 432x288 with 1 Axes>"
      ]
     },
     "metadata": {
      "needs_background": "light"
     },
     "output_type": "display_data"
    },
    {
     "name": "stdout",
     "output_type": "stream",
     "text": [
      "The r value for wind speed vs latitude in the northern hemisphere is almost 0. Indicating there is no correllation in this data.\n"
     ]
    },
    {
     "data": {
      "text/plain": [
       "<Figure size 432x288 with 0 Axes>"
      ]
     },
     "metadata": {},
     "output_type": "display_data"
    }
   ],
   "source": [
    "x_values = northern_hemi['Wind Speed']\n",
    "y_values = northern_hemi['Lat']\n",
    "(slope, intercept, rvalue, pvalue, stderr) = linregress(x_values, y_values)\n",
    "regress_values = x_values * slope + intercept\n",
    "line_eq = \"y = \" + str(round(slope,2)) + \"x + \" + str(round(intercept,2))\n",
    "plt.scatter(x_values,y_values)\n",
    "plt.plot(x_values,regress_values,\"r-\")\n",
    "plt.grid()\n",
    "plt.title('Northern Hemisphere - Wind Speed (mph) vs. Latitude Linear Regression')\n",
    "plt.annotate(line_eq,(20,40),fontsize=15,color=\"red\")\n",
    "plt.xlabel('Wind Speed')\n",
    "plt.ylabel('Latitude')\n",
    "print(f\"The r-squared is: {rvalue**2}\")\n",
    "plt.show()\n",
    "plt.savefig(\"Images/Northern Hemisphere vs Wind Speed LR.png\")\n",
    "\n",
    "print('The r value for wind speed vs latitude in the northern hemisphere is almost 0. Indicating there is no correllation in this data.')"
   ]
  },
  {
   "cell_type": "markdown",
   "metadata": {},
   "source": [
    "####  Southern Hemisphere - Wind Speed (mph) vs. Latitude Linear Regression"
   ]
  },
  {
   "cell_type": "code",
   "execution_count": 67,
   "metadata": {},
   "outputs": [
    {
     "name": "stdout",
     "output_type": "stream",
     "text": [
      "The r-squared is: 0.1432910695146858\n"
     ]
    },
    {
     "data": {
      "image/png": "[encoded data removed]",
      "text/plain": [
       "<Figure size 432x288 with 1 Axes>"
      ]
     },
     "metadata": {
      "needs_background": "light"
     },
     "output_type": "display_data"
    },
    {
     "name": "stdout",
     "output_type": "stream",
     "text": [
      "The r value for wind speed vs latitude in the southern hemisphere is almost 0. Indicating there is no correllation in this data.\n"
     ]
    },
    {
     "data": {
      "text/plain": [
       "<Figure size 432x288 with 0 Axes>"
      ]
     },
     "metadata": {},
     "output_type": "display_data"
    }
   ],
   "source": [
    "x_values = southern_hemi['Wind Speed']\n",
    "y_values = southern_hemi['Lat']\n",
    "(slope, intercept, rvalue, pvalue, stderr) = linregress(x_values, y_values)\n",
    "regress_values = x_values * slope + intercept\n",
    "line_eq = \"y = \" + str(round(slope,2)) + \"x + \" + str(round(intercept,2))\n",
    "plt.scatter(x_values,y_values)\n",
    "plt.plot(x_values,regress_values,\"r-\")\n",
    "plt.grid()\n",
    "plt.title('Southern Hemisphere - Wind Speed (mph) vs. Latitude Linear Regression')\n",
    "plt.annotate(line_eq,(20,-30),fontsize=15,color=\"red\")\n",
    "plt.xlabel('Wind Speed')\n",
    "plt.ylabel('Latitude')\n",
    "print(f\"The r-squared is: {rvalue**2}\")\n",
    "plt.show()\n",
    "plt.savefig(\"Images/Southern Hemisphere vs Wind Speed LR.png\")\n",
    "\n",
    "print('The r value for wind speed vs latitude in the southern hemisphere is almost 0. Indicating there is no correllation in this data.')"
   ]
  },
  {
   "cell_type": "code",
   "execution_count": 68,
   "metadata": {},
   "outputs": [],
   "source": [
    "# Observations\n",
    "# 1. Maximum temperature will increase as you move further away from 0 Latitude (the equator)\n",
    "# 2. Humidity is highest and most concentrated at higher values closer to 0 latitude.\n",
    "# 3. Wind speeds tend to increase as you move further away from 0 latitude. However, there is not a strong correlation between latitude and wind speed."
   ]
  },
  {
   "cell_type": "code",
   "execution_count": null,
   "metadata": {},
   "outputs": [],
   "source": []
  },
  {
   "cell_type": "code",
   "execution_count": null,
   "metadata": {},
   "outputs": [],
   "source": []
  }
 ],
 "metadata": {
  "anaconda-cloud": {},
  "kernel_info": {
   "name": "python3"
  },
  "kernelspec": {
   "display_name": "Python 3",
   "language": "python",
   "name": "python3"
  },
  "language_info": {
   "codemirror_mode": {
    "name": "ipython",
    "version": 3
   },
   "file_extension": ".py",
   "mimetype": "text/x-python",
   "name": "python",
   "nbconvert_exporter": "python",
   "pygments_lexer": "ipython3",
   "version": "3.8.3"
  },
  "latex_envs": {
   "LaTeX_envs_menu_present": true,
   "autoclose": false,
   "autocomplete": true,
   "bibliofile": "biblio.bib",
   "cite_by": "apalike",
   "current_citInitial": 1,
   "eqLabelWithNumbers": true,
   "eqNumInitial": 1,
   "hotkeys": {
    "equation": "Ctrl-E",
    "itemize": "Ctrl-I"
   },
   "labels_anchors": false,
   "latex_user_defs": false,
   "report_style_numbering": false,
   "user_envs_cfg": false
  },
  "nteract": {
   "version": "0.12.3"
  }
 },
 "nbformat": 4,
 "nbformat_minor": 2
}
