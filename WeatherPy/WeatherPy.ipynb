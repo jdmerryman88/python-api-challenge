{
 "cells": [
  {
   "cell_type": "markdown",
   "metadata": {},
   "source": [
    "# WeatherPy\n",
    "----\n",
    "\n",
    "#### Note\n",
    "* Instructions have been included for each segment. You do not have to follow them exactly, but they are included to help you think through the steps."
   ]
  },
  {
   "cell_type": "code",
   "execution_count": 1,
   "metadata": {
    "scrolled": true
   },
   "outputs": [],
   "source": [
    "# Dependencies and Setup\n",
    "import matplotlib.pyplot as plt\n",
    "import pandas as pd\n",
    "import numpy as np\n",
    "import requests\n",
    "import time\n",
    "from scipy.stats import linregress\n",
    "\n",
    "# Import API key\n",
    "from api_keys import weather_api_key\n",
    "\n",
    "# Incorporated citipy to determine city based on latitude and longitude\n",
    "from citipy import citipy\n",
    "\n",
    "# Output File (CSV)\n",
    "output_data_file = \"output_data/cities.csv\"\n",
    "\n",
    "# Range of latitudes and longitudes\n",
    "lat_range = (-90, 90)\n",
    "lng_range = (-180, 180)"
   ]
  },
  {
   "cell_type": "markdown",
   "metadata": {},
   "source": [
    "## Generate Cities List"
   ]
  },
  {
   "cell_type": "code",
   "execution_count": 2,
   "metadata": {},
   "outputs": [
    {
     "data": {
      "text/plain": [
       "609"
      ]
     },
     "execution_count": 2,
     "metadata": {},
     "output_type": "execute_result"
    }
   ],
   "source": [
    "# List for holding lat_lngs and cities\n",
    "lat_lngs = []\n",
    "cities = []\n",
    "\n",
    "# Create a set of random lat and lng combinations\n",
    "lats = np.random.uniform(lat_range[0], lat_range[1], size=1500)\n",
    "lngs = np.random.uniform(lng_range[0], lng_range[1], size=1500)\n",
    "lat_lngs = zip(lats, lngs)\n",
    "\n",
    "# Identify nearest city for each lat, lng combination\n",
    "for lat_lng in lat_lngs:\n",
    "    city = citipy.nearest_city(lat_lng[0], lat_lng[1]).city_name\n",
    "    \n",
    "    \n",
    "    # If the city is unique, then add it to a our cities list\n",
    "    if city not in cities:\n",
    "        cities.append(city)\n",
    "\n",
    "# Print the city count to confirm sufficient count\n",
    "len(cities)\n"
   ]
  },
  {
   "cell_type": "markdown",
   "metadata": {},
   "source": [
    "### Perform API Calls\n",
    "* Perform a weather check on each city using a series of successive API calls.\n",
    "* Include a print log of each city as it'sbeing processed (with the city number and city name).\n"
   ]
  },
  {
   "cell_type": "code",
   "execution_count": 3,
   "metadata": {
    "scrolled": true
   },
   "outputs": [
    {
     "name": "stdout",
     "output_type": "stream",
     "text": [
      "Processing city number 1 : severo-kurilsk\n",
      "City not found. Next city...\n",
      "City not found. Next city...\n",
      "Processing city number 2 : barrow\n",
      "Processing city number 3 : kamaishi\n",
      "Processing city number 4 : bluff\n",
      "Processing city number 5 : upernavik\n",
      "Processing city number 6 : saskylakh\n",
      "Processing city number 7 : kirakira\n",
      "Processing city number 8 : rikitea\n",
      "Processing city number 9 : toamasina\n",
      "Processing city number 10 : jamestown\n",
      "Processing city number 11 : ponta do sol\n",
      "Processing city number 12 : uige\n",
      "City not found. Next city...\n",
      "Processing city number 13 : ushuaia\n",
      "Processing city number 14 : santa maria\n",
      "Processing city number 15 : mahebourg\n",
      "Processing city number 16 : baneh\n",
      "Processing city number 17 : chokurdakh\n",
      "Processing city number 18 : shirokiy\n",
      "Processing city number 19 : inta\n",
      "Processing city number 20 : punta arenas\n",
      "Processing city number 21 : kristiansund\n",
      "Processing city number 22 : plakhtiyivka\n",
      "Processing city number 23 : coahuayana\n",
      "Processing city number 24 : tuktoyaktuk\n",
      "Processing city number 25 : hofn\n",
      "Processing city number 26 : mataura\n",
      "Processing city number 27 : atuona\n",
      "Processing city number 28 : kaitangata\n",
      "Processing city number 29 : busselton\n",
      "Processing city number 30 : namatanai\n",
      "Processing city number 31 : jumla\n",
      "Processing city number 32 : bira\n",
      "Processing city number 33 : ilulissat\n",
      "Processing city number 34 : tiksi\n",
      "Processing city number 35 : chuy\n",
      "Processing city number 36 : puerto ayora\n",
      "Processing city number 37 : tura\n",
      "Processing city number 38 : provideniya\n",
      "Processing city number 39 : hasaki\n",
      "Processing city number 40 : qaanaaq\n",
      "Processing city number 41 : lebu\n",
      "Processing city number 42 : arraial do cabo\n",
      "Processing city number 43 : new norfolk\n",
      "Processing city number 44 : butaritari\n",
      "Processing city number 45 : kodiak\n",
      "Processing city number 46 : hithadhoo\n",
      "Processing city number 47 : turka\n",
      "Processing city number 48 : airai\n",
      "Processing city number 49 : villepinte\n",
      "City not found. Next city...\n",
      "Processing city number 50 : yeppoon\n",
      "Processing city number 51 : asfi\n",
      "Processing city number 52 : ribeira grande\n",
      "Processing city number 53 : alice springs\n",
      "Processing city number 54 : nikolskoye\n",
      "Processing city number 55 : mandalgovi\n",
      "Processing city number 56 : sorland\n",
      "Processing city number 57 : lilongwe\n",
      "City not found. Next city...\n",
      "Processing city number 58 : komsomolets\n",
      "Processing city number 59 : churu\n",
      "Processing city number 60 : bathsheba\n",
      "Processing city number 61 : bredasdorp\n",
      "Processing city number 62 : saint-philippe\n",
      "Processing city number 63 : yar-sale\n",
      "Processing city number 64 : yellowknife\n",
      "City not found. Next city...\n",
      "Processing city number 65 : bandarbeyla\n",
      "Processing city number 66 : mattru\n",
      "Processing city number 67 : tuatapere\n",
      "Processing city number 68 : port-cartier\n",
      "Processing city number 69 : victoria\n",
      "Processing city number 70 : ishigaki\n",
      "Processing city number 71 : leningradskiy\n",
      "Processing city number 72 : kavieng\n",
      "Processing city number 73 : kapaa\n",
      "Processing city number 74 : georgetown\n",
      "Processing city number 75 : limoges\n",
      "Processing city number 76 : vostok\n",
      "Processing city number 77 : saint-georges\n",
      "Processing city number 78 : tecpan\n",
      "Processing city number 79 : pangai\n",
      "Processing city number 80 : bethal\n",
      "Processing city number 81 : hermanus\n",
      "Processing city number 82 : klaksvik\n",
      "Processing city number 83 : luganville\n",
      "Processing city number 84 : aberdeen\n",
      "Processing city number 85 : isangel\n",
      "Processing city number 86 : komsomolskiy\n",
      "Processing city number 87 : conde\n",
      "Processing city number 88 : komatipoort\n",
      "Processing city number 89 : clyde river\n",
      "Processing city number 90 : kharan\n",
      "Processing city number 91 : shubarkuduk\n",
      "Processing city number 92 : port elizabeth\n",
      "Processing city number 93 : srednekolymsk\n",
      "Processing city number 94 : bambous virieux\n",
      "Processing city number 95 : dikson\n",
      "Processing city number 96 : myitkyina\n",
      "Processing city number 97 : saldanha\n",
      "Processing city number 98 : omboue\n",
      "Processing city number 99 : castro\n",
      "Processing city number 100 : manitouwadge\n",
      "Processing city number 101 : albany\n",
      "Processing city number 102 : ancud\n",
      "Processing city number 103 : itarema\n",
      "Processing city number 104 : podor\n",
      "Processing city number 105 : awbari\n",
      "Processing city number 106 : angoche\n",
      "Processing city number 107 : codrington\n",
      "Processing city number 108 : iquitos\n",
      "Processing city number 109 : tezu\n",
      "Processing city number 110 : port alfred\n",
      "Processing city number 111 : nuuk\n",
      "Processing city number 112 : evensk\n",
      "Processing city number 113 : port hedland\n",
      "Processing city number 114 : mokhotlong\n",
      "Processing city number 115 : bubaque\n",
      "City not found. Next city...\n",
      "Processing city number 116 : halifax\n",
      "Processing city number 117 : quatre cocos\n",
      "Processing city number 118 : souillac\n",
      "Processing city number 119 : cape town\n",
      "Processing city number 120 : grenville\n",
      "Processing city number 121 : bosaso\n",
      "Processing city number 122 : porto walter\n",
      "Processing city number 123 : san quintin\n",
      "Processing city number 124 : roswell\n",
      "Processing city number 125 : hilo\n",
      "Processing city number 126 : waingapu\n",
      "Processing city number 127 : yenagoa\n",
      "Processing city number 128 : ormara\n",
      "Processing city number 129 : mizan teferi\n",
      "Processing city number 130 : iqaluit\n",
      "Processing city number 131 : florence\n",
      "Processing city number 132 : hobart\n",
      "Processing city number 133 : hof\n",
      "Processing city number 134 : vicencia\n",
      "Processing city number 135 : pathein\n",
      "City not found. Next city...\n",
      "Processing city number 136 : balkanabat\n",
      "Processing city number 137 : kruisfontein\n",
      "Processing city number 138 : bantou\n",
      "Processing city number 139 : akcakoca\n",
      "Processing city number 140 : suclayin\n",
      "Processing city number 141 : khamgaon\n",
      "Processing city number 142 : the valley\n",
      "Processing city number 143 : plettenberg bay\n",
      "Processing city number 144 : mar del plata\n",
      "Processing city number 145 : saint george\n",
      "Processing city number 146 : galle\n",
      "Processing city number 147 : joao pinheiro\n",
      "Processing city number 148 : norman wells\n",
      "Processing city number 149 : mgandu\n",
      "City not found. Next city...\n",
      "Processing city number 150 : fortuna\n",
      "Processing city number 151 : san patricio\n",
      "Processing city number 152 : sinjar\n",
      "Processing city number 153 : hearst\n",
      "Processing city number 154 : inongo\n",
      "Processing city number 155 : bengkulu\n",
      "Processing city number 156 : plouzane\n",
      "Processing city number 157 : bodden town\n",
      "Processing city number 158 : cravo norte\n",
      "Processing city number 159 : bethel\n",
      "Processing city number 160 : manado\n",
      "Processing city number 161 : urucara\n",
      "Processing city number 162 : bara\n",
      "City not found. Next city...\n",
      "Processing city number 163 : varca\n",
      "Processing city number 164 : pevek\n",
      "Processing city number 165 : palmer\n",
      "City not found. Next city...\n",
      "Processing city number 166 : tasiilaq\n",
      "Processing city number 167 : thompson\n",
      "Processing city number 168 : merauke\n",
      "Processing city number 169 : sibolga\n",
      "Processing city number 170 : lagoa\n",
      "Processing city number 171 : portland\n",
      "Processing city number 172 : avarua\n",
      "Processing city number 173 : aykhal\n",
      "Processing city number 174 : northam\n",
      "Processing city number 175 : flinders\n",
      "Processing city number 176 : tawau\n",
      "Processing city number 177 : lorengau\n",
      "Processing city number 178 : zhigansk\n",
      "Processing city number 179 : batavia\n",
      "Processing city number 180 : turukhansk\n",
      "Processing city number 181 : harper\n",
      "Processing city number 182 : port lincoln\n",
      "Processing city number 183 : laguna\n",
      "Processing city number 184 : lavrentiya\n",
      "Processing city number 185 : moissac\n",
      "Processing city number 186 : gao\n",
      "Processing city number 187 : qax\n",
      "Processing city number 188 : vaini\n",
      "Processing city number 189 : longyearbyen\n",
      "Processing city number 190 : barra\n",
      "Processing city number 191 : sao paulo de olivenca\n",
      "Processing city number 192 : biltine\n",
      "Processing city number 193 : ferme-neuve\n",
      "Processing city number 194 : fredericton\n",
      "City not found. Next city...\n",
      "Processing city number 195 : crestview\n",
      "Processing city number 196 : narsaq\n",
      "Processing city number 197 : axim\n",
      "Processing city number 198 : autun\n",
      "Processing city number 199 : catuday\n",
      "Processing city number 200 : sterling\n",
      "City not found. Next city...\n",
      "Processing city number 201 : swan hill\n",
      "Processing city number 202 : yangjiang\n",
      "Processing city number 203 : olafsvik\n",
      "Processing city number 204 : yulara\n",
      "Processing city number 205 : la tuque\n",
      "Processing city number 206 : hachinohe\n",
      "Processing city number 207 : faanui\n",
      "Processing city number 208 : kahului\n"
     ]
    },
    {
     "name": "stdout",
     "output_type": "stream",
     "text": [
      "Processing city number 209 : san rafael\n",
      "City not found. Next city...\n",
      "Processing city number 210 : geraldton\n",
      "Processing city number 211 : college\n",
      "Processing city number 212 : boyolali\n",
      "Processing city number 213 : ostrovnoy\n",
      "Processing city number 214 : kedrovyy\n",
      "Processing city number 215 : santa cruz\n",
      "Processing city number 216 : poum\n",
      "Processing city number 217 : cururupu\n",
      "Processing city number 218 : christchurch\n",
      "Processing city number 219 : cherskiy\n",
      "Processing city number 220 : hays\n",
      "Processing city number 221 : caravelas\n",
      "Processing city number 222 : man\n",
      "Processing city number 223 : beringovskiy\n",
      "Processing city number 224 : redlands\n",
      "Processing city number 225 : cabo san lucas\n",
      "Processing city number 226 : dingle\n",
      "Processing city number 227 : mahanoro\n",
      "Processing city number 228 : port blair\n",
      "Processing city number 229 : shache\n",
      "Processing city number 230 : pittsfield\n",
      "Processing city number 231 : esperance\n",
      "Processing city number 232 : sitka\n",
      "Processing city number 233 : shabrovskiy\n",
      "City not found. Next city...\n",
      "Processing city number 234 : saint-joseph\n",
      "Processing city number 235 : dali\n",
      "Processing city number 236 : richards bay\n",
      "Processing city number 237 : bahia honda\n",
      "Processing city number 238 : kenai\n",
      "Processing city number 239 : abu samrah\n",
      "City not found. Next city...\n",
      "Processing city number 240 : mae hong son\n",
      "Processing city number 241 : acapulco\n",
      "Processing city number 242 : antofagasta\n",
      "Processing city number 243 : lasa\n",
      "Processing city number 244 : biak\n",
      "Processing city number 245 : yafran\n",
      "Processing city number 246 : daru\n",
      "Processing city number 247 : high level\n",
      "Processing city number 248 : provost\n",
      "Processing city number 249 : namibe\n",
      "Processing city number 250 : nioki\n",
      "Processing city number 251 : seaford\n",
      "Processing city number 252 : san cristobal\n",
      "Processing city number 253 : kloulklubed\n",
      "Processing city number 254 : cidreira\n",
      "Processing city number 255 : santa vitoria do palmar\n",
      "Processing city number 256 : fairbanks\n",
      "Processing city number 257 : berga\n",
      "Processing city number 258 : obidos\n",
      "Processing city number 259 : coquimbo\n",
      "Processing city number 260 : hobyo\n",
      "Processing city number 261 : lyudinovo\n",
      "Processing city number 262 : nizhnevartovsk\n",
      "Processing city number 263 : baykit\n",
      "Processing city number 264 : vavoua\n",
      "Processing city number 265 : casper\n",
      "Processing city number 266 : banda aceh\n",
      "Processing city number 267 : barra do pirai\n",
      "Processing city number 268 : upington\n",
      "Processing city number 269 : sao filipe\n",
      "Processing city number 270 : bentiu\n",
      "Processing city number 271 : sao felix do xingu\n",
      "Processing city number 272 : aksarka\n",
      "Processing city number 273 : east london\n",
      "Processing city number 274 : salalah\n",
      "Processing city number 275 : roma\n",
      "City not found. Next city...\n",
      "Processing city number 276 : lompoc\n",
      "Processing city number 277 : praia da vitoria\n",
      "City not found. Next city...\n",
      "Processing city number 278 : sri aman\n",
      "Processing city number 279 : black river\n",
      "Processing city number 280 : valer\n",
      "City not found. Next city...\n",
      "Processing city number 281 : paamiut\n",
      "Processing city number 282 : ekhabi\n",
      "Processing city number 283 : baoying\n",
      "Processing city number 284 : kendari\n",
      "Processing city number 285 : lucea\n",
      "Processing city number 286 : ha giang\n",
      "Processing city number 287 : khatanga\n",
      "Processing city number 288 : kupang\n",
      "Processing city number 289 : saint joseph\n",
      "Processing city number 290 : mangai\n",
      "Processing city number 291 : jalu\n",
      "Processing city number 292 : urucui\n",
      "Processing city number 293 : tilichiki\n",
      "Processing city number 294 : naze\n",
      "Processing city number 295 : kangaatsiaq\n",
      "Processing city number 296 : talnakh\n",
      "Processing city number 297 : bud\n",
      "Processing city number 298 : okha\n",
      "City not found. Next city...\n",
      "Processing city number 299 : nanortalik\n",
      "Processing city number 300 : bambanglipuro\n",
      "Processing city number 301 : adrar\n",
      "City not found. Next city...\n",
      "Processing city number 302 : bontang\n",
      "Processing city number 303 : caririacu\n",
      "City not found. Next city...\n",
      "Processing city number 304 : buala\n",
      "Processing city number 305 : asau\n",
      "Processing city number 306 : samarai\n",
      "Processing city number 307 : coos bay\n",
      "Processing city number 308 : roros\n",
      "Processing city number 309 : esna\n",
      "City not found. Next city...\n",
      "City not found. Next city...\n",
      "Processing city number 310 : miramar\n",
      "City not found. Next city...\n",
      "Processing city number 311 : berlevag\n",
      "Processing city number 312 : yablonovo\n",
      "Processing city number 313 : jasper\n",
      "Processing city number 314 : punta alta\n",
      "Processing city number 315 : pozoblanco\n",
      "Processing city number 316 : mochudi\n",
      "Processing city number 317 : egvekinot\n",
      "City not found. Next city...\n",
      "Processing city number 318 : burns lake\n",
      "Processing city number 319 : kolosovka\n",
      "Processing city number 320 : mzimba\n",
      "Processing city number 321 : bethanien\n",
      "Processing city number 322 : salina\n",
      "Processing city number 323 : kieta\n",
      "Processing city number 324 : guerrero negro\n",
      "Processing city number 325 : acarau\n",
      "Processing city number 326 : rio grande\n",
      "Processing city number 327 : ibate\n",
      "Processing city number 328 : atar\n",
      "Processing city number 329 : alofi\n",
      "Processing city number 330 : hammerfest\n",
      "Processing city number 331 : mazagao\n",
      "Processing city number 332 : gat\n",
      "Processing city number 333 : valparaiso\n",
      "Processing city number 334 : haradok\n",
      "Processing city number 335 : tual\n",
      "City not found. Next city...\n",
      "Processing city number 336 : anori\n",
      "Processing city number 337 : hambantota\n",
      "Processing city number 338 : saint-augustin\n",
      "Processing city number 339 : placido de castro\n",
      "Processing city number 340 : sa kaeo\n",
      "Processing city number 341 : liku\n",
      "Processing city number 342 : meulaboh\n",
      "Processing city number 343 : mmabatho\n",
      "City not found. Next city...\n",
      "Processing city number 344 : mayya\n",
      "City not found. Next city...\n",
      "Processing city number 345 : port pirie\n",
      "Processing city number 346 : afua\n",
      "Processing city number 347 : kamenka\n",
      "Processing city number 348 : kudahuvadhoo\n",
      "Processing city number 349 : dongzhen\n",
      "Processing city number 350 : torbay\n",
      "City not found. Next city...\n",
      "Processing city number 351 : zlobin\n",
      "Processing city number 352 : innisfail\n",
      "City not found. Next city...\n",
      "Processing city number 353 : taoudenni\n",
      "Processing city number 354 : bilibino\n",
      "City not found. Next city...\n",
      "Processing city number 355 : portlethen\n",
      "Processing city number 356 : chifeng\n",
      "Processing city number 357 : santa isabel\n",
      "Processing city number 358 : nam som\n",
      "Processing city number 359 : veracruz\n",
      "Processing city number 360 : port said\n",
      "Processing city number 361 : broken hill\n",
      "Processing city number 362 : pampa\n",
      "City not found. Next city...\n",
      "Processing city number 363 : iwamizawa\n",
      "Processing city number 364 : talcahuano\n",
      "Processing city number 365 : pangnirtung\n",
      "Processing city number 366 : constitucion\n",
      "Processing city number 367 : penzance\n",
      "Processing city number 368 : westport\n",
      "City not found. Next city...\n",
      "Processing city number 369 : pacific grove\n",
      "Processing city number 370 : nantucket\n",
      "Processing city number 371 : rio cuarto\n",
      "Processing city number 372 : manakara\n",
      "Processing city number 373 : soroti\n",
      "Processing city number 374 : pisco\n",
      "Processing city number 375 : kaihua\n",
      "City not found. Next city...\n",
      "Processing city number 376 : neiafu\n",
      "Processing city number 377 : marzuq\n",
      "Processing city number 378 : acajutla\n",
      "Processing city number 379 : lethem\n",
      "Processing city number 380 : maldonado\n",
      "Processing city number 381 : tubigan\n",
      "Processing city number 382 : ashcroft\n",
      "Processing city number 383 : likasi\n",
      "Processing city number 384 : pilikwe\n",
      "Processing city number 385 : balakhta\n",
      "Processing city number 386 : angicos\n",
      "Processing city number 387 : sao jose da coroa grande\n",
      "Processing city number 388 : marawi\n",
      "Processing city number 389 : yaan\n",
      "Processing city number 390 : karratha\n",
      "Processing city number 391 : singaraja\n",
      "Processing city number 392 : araouane\n",
      "Processing city number 393 : luderitz\n",
      "Processing city number 394 : otane\n",
      "Processing city number 395 : karpathos\n",
      "Processing city number 396 : coracora\n",
      "Processing city number 397 : freeport\n",
      "Processing city number 398 : shakawe\n",
      "Processing city number 399 : yumen\n",
      "Processing city number 400 : tanete\n",
      "Processing city number 401 : denia\n",
      "City not found. Next city...\n",
      "Processing city number 402 : baijiantan\n",
      "Processing city number 403 : nueve de julio\n",
      "Processing city number 404 : broome\n",
      "Processing city number 405 : maun\n",
      "Processing city number 406 : fria\n"
     ]
    },
    {
     "name": "stdout",
     "output_type": "stream",
     "text": [
      "Processing city number 407 : petukhovo\n",
      "Processing city number 408 : bonthe\n",
      "Processing city number 409 : malm\n",
      "Processing city number 410 : monrovia\n",
      "Processing city number 411 : las vegas\n",
      "Processing city number 412 : catbalogan\n",
      "Processing city number 413 : hay river\n",
      "Processing city number 414 : raudeberg\n",
      "Processing city number 415 : portales\n",
      "Processing city number 416 : saint-pierre\n",
      "Processing city number 417 : concarneau\n",
      "Processing city number 418 : skibbereen\n",
      "Processing city number 419 : goure\n",
      "Processing city number 420 : bibiani\n",
      "Processing city number 421 : augustow\n",
      "Processing city number 422 : destin\n",
      "Processing city number 423 : carnarvon\n",
      "Processing city number 424 : bilma\n",
      "Processing city number 425 : melita\n",
      "Processing city number 426 : sinnamary\n",
      "Processing city number 427 : hirara\n",
      "City not found. Next city...\n",
      "Processing city number 428 : zaysan\n",
      "Processing city number 429 : hamina\n",
      "Processing city number 430 : mount isa\n",
      "City not found. Next city...\n",
      "Processing city number 431 : beloha\n",
      "Processing city number 432 : sopotnica\n",
      "Processing city number 433 : pontes e lacerda\n",
      "City not found. Next city...\n",
      "Processing city number 434 : belmonte\n",
      "Processing city number 435 : puerto escondido\n",
      "Processing city number 436 : tselinnoye\n",
      "Processing city number 437 : oranjestad\n",
      "Processing city number 438 : vestmannaeyjar\n",
      "Processing city number 439 : lakes entrance\n",
      "Processing city number 440 : umm lajj\n",
      "Processing city number 441 : juneau\n",
      "Processing city number 442 : altay\n",
      "City not found. Next city...\n",
      "Processing city number 443 : springdale\n",
      "Processing city number 444 : xuddur\n",
      "Processing city number 445 : hovd\n",
      "Processing city number 446 : ambon\n",
      "Processing city number 447 : hailar\n",
      "Processing city number 448 : maniitsoq\n",
      "Processing city number 449 : almunecar\n",
      "Processing city number 450 : sistranda\n",
      "Processing city number 451 : san severino marche\n",
      "Processing city number 452 : vynohradove\n",
      "Processing city number 453 : osmena\n",
      "Processing city number 454 : kontagora\n",
      "Processing city number 455 : zhangjiakou\n",
      "Processing city number 456 : matara\n",
      "Processing city number 457 : moengo\n",
      "Processing city number 458 : husavik\n",
      "Processing city number 459 : vao\n",
      "Processing city number 460 : verkhnevilyuysk\n",
      "Processing city number 461 : meadow lake\n",
      "Processing city number 462 : englewood\n",
      "Processing city number 463 : timra\n",
      "Processing city number 464 : udachnyy\n",
      "Processing city number 465 : truro\n",
      "Processing city number 466 : mamakan\n",
      "Processing city number 467 : erzin\n",
      "Processing city number 468 : casablanca\n",
      "City not found. Next city...\n",
      "Processing city number 469 : saint pete beach\n",
      "Processing city number 470 : brae\n",
      "Processing city number 471 : chapais\n",
      "Processing city number 472 : camana\n",
      "Processing city number 473 : mae sai\n",
      "Processing city number 474 : mastic beach\n",
      "Processing city number 475 : hami\n",
      "Processing city number 476 : chernelytsya\n",
      "Processing city number 477 : katsuura\n",
      "Processing city number 478 : sungaipenuh\n",
      "Processing city number 479 : makakilo city\n",
      "Processing city number 480 : vardo\n",
      "Processing city number 481 : mayor pablo lagerenza\n",
      "Processing city number 482 : comodoro rivadavia\n",
      "Processing city number 483 : mataro\n",
      "Processing city number 484 : tiznit\n",
      "Processing city number 485 : viedma\n",
      "Processing city number 486 : carahue\n",
      "Processing city number 487 : nome\n",
      "Processing city number 488 : la ronge\n",
      "Processing city number 489 : lata\n",
      "Processing city number 490 : thanh hoa\n",
      "Processing city number 491 : barreirinhas\n",
      "Processing city number 492 : knoxville\n",
      "Processing city number 493 : diego de almagro\n",
      "City not found. Next city...\n",
      "Processing city number 494 : dunmore town\n",
      "Processing city number 495 : brigg\n",
      "Processing city number 496 : kabwe\n",
      "Processing city number 497 : kita\n",
      "Processing city number 498 : wasilla\n",
      "Processing city number 499 : roald\n",
      "Processing city number 500 : wundanyi\n",
      "Processing city number 501 : silale\n",
      "Processing city number 502 : emerald\n",
      "Processing city number 503 : kapit\n",
      "Processing city number 504 : kidal\n",
      "Processing city number 505 : okato\n",
      "Processing city number 506 : wald-michelbach\n",
      "Processing city number 507 : istisu\n",
      "Processing city number 508 : autazes\n",
      "Processing city number 509 : auki\n",
      "Processing city number 510 : beaverlodge\n",
      "Processing city number 511 : kampot\n",
      "Processing city number 512 : sibu\n",
      "Processing city number 513 : bafra\n",
      "Processing city number 514 : tautira\n",
      "Processing city number 515 : marsa matruh\n",
      "Processing city number 516 : camrose\n",
      "Processing city number 517 : half moon bay\n",
      "City not found. Next city...\n",
      "Processing city number 518 : cartagena del chaira\n",
      "Processing city number 519 : joinville-le-pont\n",
      "Processing city number 520 : mongoumba\n",
      "Processing city number 521 : yamada\n",
      "City not found. Next city...\n",
      "Processing city number 522 : mapiri\n",
      "Processing city number 523 : jieshi\n",
      "Processing city number 524 : gunjur\n",
      "Processing city number 525 : otorohanga\n",
      "Processing city number 526 : avera\n",
      "City not found. Next city...\n",
      "Processing city number 527 : jiayuguan\n",
      "Processing city number 528 : mul\n",
      "City not found. Next city...\n",
      "Processing city number 529 : waipawa\n",
      "Processing city number 530 : camopi\n",
      "Processing city number 531 : mlimba\n",
      "Processing city number 532 : botwood\n",
      "Processing city number 533 : udayagiri\n",
      "Processing city number 534 : kaeo\n",
      "Processing city number 535 : pangkalanbuun\n",
      "Processing city number 536 : lebedinyy\n",
      "Processing city number 537 : rieti\n",
      "Processing city number 538 : boromlya\n",
      "Processing city number 539 : ajdabiya\n",
      "Processing city number 540 : berbera\n",
      "Processing city number 541 : coracao de jesus\n",
      "Processing city number 542 : bastia\n",
      "Processing city number 543 : gunnedah\n",
      "City not found. Next city...\n",
      "Processing city number 544 : sheopur\n",
      "Processing city number 545 : flagstaff\n",
      "Processing city number 546 : north bend\n",
      "City not found. Next city...\n",
      "Processing city number 547 : nabire\n",
      "Processing city number 548 : dawei\n",
      "Processing city number 549 : zhizdra\n",
      "Processing city number 550 : te anau\n",
      "Processing city number 551 : cadillac\n",
      "Processing city number 552 : los andes\n",
      "Processing city number 553 : gerash\n",
      "Processing city number 554 : xudat\n",
      "Processing city number 555 : sioux lookout\n",
      "Processing city number 556 : abu dhabi\n",
      "Processing city number 557 : kautokeino\n",
      "Processing city number 558 : nikel\n",
      "Processing city number 559 : road town\n",
      "Processing city number 560 : timberlake\n",
      "Processing city number 561 : sangueya\n",
      "City Data Complete\n"
     ]
    }
   ],
   "source": [
    "url = \"http://api.openweathermap.org/data/2.5/weather?\"\n",
    "units = \"imperial\"\n",
    "query_url = f\"{url}appid={weather_api_key}&units={units}&q=\"\n",
    "\n",
    "\n",
    "city_name = []\n",
    "country = []\n",
    "latitude = []\n",
    "longitude = []\n",
    "weather_date = []\n",
    "temp = []\n",
    "humidity = []\n",
    "cloudiness = []\n",
    "wind_speed = []\n",
    "\n",
    "counter = 0\n",
    "# For each cities in cities list, get data\n",
    "for index, city in enumerate(cities, start = 1):\n",
    "    try:\n",
    "        response = requests.get(query_url + city).json()\n",
    "        city_name.append(response[\"name\"])\n",
    "        cloudiness.append(response[\"clouds\"][\"all\"])\n",
    "        country.append(response[\"sys\"][\"country\"])\n",
    "        weather_date.append(response[\"dt\"])\n",
    "        humidity.append(response[\"main\"][\"humidity\"])\n",
    "        latitude.append(response[\"coord\"][\"lat\"])\n",
    "        longitude.append(response[\"coord\"][\"lon\"])\n",
    "        temp.append(response['main']['temp_max'])\n",
    "        wind_speed.append(response[\"wind\"][\"speed\"])\n",
    "        counter = counter + 1\n",
    "    \n",
    "            \n",
    "        print(f\"Processing city number {counter} : {city}\") \n",
    "  \n",
    "    except(KeyError, IndexError):\n",
    "        print(\"City not found. Next city...\")\n",
    "\n",
    "\n",
    "print(\"City Data Complete\")\n"
   ]
  },
  {
   "cell_type": "markdown",
   "metadata": {},
   "source": [
    "### Convert Raw Data to DataFrame\n",
    "* Export the city data into a .csv.\n",
    "* Display the DataFrame"
   ]
  },
  {
   "cell_type": "code",
   "execution_count": 4,
   "metadata": {},
   "outputs": [],
   "source": [
    "weather_df = pd.DataFrame({'City' : city_name,\n",
    "                          'Country' : country ,\n",
    "                          'Lat' : latitude , \n",
    "                          'Lng' : longitude ,\n",
    "                          'Date' : weather_date ,\n",
    "                          'Max Temp' : temp ,\n",
    "                          'Humidity' : humidity ,\n",
    "                          'Cloudiness' : cloudiness ,\n",
    "                          'Wind Speed' : wind_speed })\n",
    "weather_df.to_csv(\"../output_data/cities.csv\", index = False)"
   ]
  },
  {
   "cell_type": "code",
   "execution_count": 5,
   "metadata": {},
   "outputs": [
    {
     "data": {
      "text/html": [
       "<div>\n",
       "<style scoped>\n",
       "    .dataframe tbody tr th:only-of-type {\n",
       "        vertical-align: middle;\n",
       "    }\n",
       "\n",
       "    .dataframe tbody tr th {\n",
       "        vertical-align: top;\n",
       "    }\n",
       "\n",
       "    .dataframe thead th {\n",
       "        text-align: right;\n",
       "    }\n",
       "</style>\n",
       "<table border=\"1\" class=\"dataframe\">\n",
       "  <thead>\n",
       "    <tr style=\"text-align: right;\">\n",
       "      <th></th>\n",
       "      <th>City</th>\n",
       "      <th>Country</th>\n",
       "      <th>Lat</th>\n",
       "      <th>Lng</th>\n",
       "      <th>Date</th>\n",
       "      <th>Max Temp</th>\n",
       "      <th>Humidity</th>\n",
       "      <th>Cloudiness</th>\n",
       "      <th>Wind Speed</th>\n",
       "    </tr>\n",
       "  </thead>\n",
       "  <tbody>\n",
       "    <tr>\n",
       "      <th>0</th>\n",
       "      <td>Severo-Kuril'sk</td>\n",
       "      <td>RU</td>\n",
       "      <td>50.68</td>\n",
       "      <td>156.12</td>\n",
       "      <td>1607626190</td>\n",
       "      <td>25.81</td>\n",
       "      <td>90</td>\n",
       "      <td>88</td>\n",
       "      <td>16.51</td>\n",
       "    </tr>\n",
       "    <tr>\n",
       "      <th>1</th>\n",
       "      <td>Barrow</td>\n",
       "      <td>US</td>\n",
       "      <td>71.29</td>\n",
       "      <td>-156.79</td>\n",
       "      <td>1607626191</td>\n",
       "      <td>-5.57</td>\n",
       "      <td>90</td>\n",
       "      <td>100</td>\n",
       "      <td>13.11</td>\n",
       "    </tr>\n",
       "    <tr>\n",
       "      <th>2</th>\n",
       "      <td>Kamaishi</td>\n",
       "      <td>JP</td>\n",
       "      <td>39.27</td>\n",
       "      <td>141.88</td>\n",
       "      <td>1607626191</td>\n",
       "      <td>41.97</td>\n",
       "      <td>74</td>\n",
       "      <td>0</td>\n",
       "      <td>5.75</td>\n",
       "    </tr>\n",
       "    <tr>\n",
       "      <th>3</th>\n",
       "      <td>Bluff</td>\n",
       "      <td>NZ</td>\n",
       "      <td>-46.60</td>\n",
       "      <td>168.33</td>\n",
       "      <td>1607626083</td>\n",
       "      <td>44.01</td>\n",
       "      <td>94</td>\n",
       "      <td>100</td>\n",
       "      <td>12.91</td>\n",
       "    </tr>\n",
       "    <tr>\n",
       "      <th>4</th>\n",
       "      <td>Upernavik</td>\n",
       "      <td>GL</td>\n",
       "      <td>72.79</td>\n",
       "      <td>-56.15</td>\n",
       "      <td>1607626191</td>\n",
       "      <td>24.82</td>\n",
       "      <td>97</td>\n",
       "      <td>100</td>\n",
       "      <td>7.29</td>\n",
       "    </tr>\n",
       "    <tr>\n",
       "      <th>...</th>\n",
       "      <td>...</td>\n",
       "      <td>...</td>\n",
       "      <td>...</td>\n",
       "      <td>...</td>\n",
       "      <td>...</td>\n",
       "      <td>...</td>\n",
       "      <td>...</td>\n",
       "      <td>...</td>\n",
       "      <td>...</td>\n",
       "    </tr>\n",
       "    <tr>\n",
       "      <th>556</th>\n",
       "      <td>Kautokeino</td>\n",
       "      <td>NO</td>\n",
       "      <td>69.01</td>\n",
       "      <td>23.04</td>\n",
       "      <td>1607626280</td>\n",
       "      <td>20.17</td>\n",
       "      <td>97</td>\n",
       "      <td>89</td>\n",
       "      <td>6.93</td>\n",
       "    </tr>\n",
       "    <tr>\n",
       "      <th>557</th>\n",
       "      <td>Nikel</td>\n",
       "      <td>RU</td>\n",
       "      <td>69.41</td>\n",
       "      <td>30.22</td>\n",
       "      <td>1607626280</td>\n",
       "      <td>32.00</td>\n",
       "      <td>98</td>\n",
       "      <td>90</td>\n",
       "      <td>13.87</td>\n",
       "    </tr>\n",
       "    <tr>\n",
       "      <th>558</th>\n",
       "      <td>Road Town</td>\n",
       "      <td>VG</td>\n",
       "      <td>18.42</td>\n",
       "      <td>-64.62</td>\n",
       "      <td>1607626128</td>\n",
       "      <td>84.20</td>\n",
       "      <td>66</td>\n",
       "      <td>20</td>\n",
       "      <td>6.93</td>\n",
       "    </tr>\n",
       "    <tr>\n",
       "      <th>559</th>\n",
       "      <td>Timberlake</td>\n",
       "      <td>US</td>\n",
       "      <td>37.32</td>\n",
       "      <td>-79.26</td>\n",
       "      <td>1607626281</td>\n",
       "      <td>60.01</td>\n",
       "      <td>38</td>\n",
       "      <td>1</td>\n",
       "      <td>4.70</td>\n",
       "    </tr>\n",
       "    <tr>\n",
       "      <th>560</th>\n",
       "      <td>Sanguéya</td>\n",
       "      <td>GN</td>\n",
       "      <td>10.70</td>\n",
       "      <td>-14.37</td>\n",
       "      <td>1607626281</td>\n",
       "      <td>81.07</td>\n",
       "      <td>70</td>\n",
       "      <td>1</td>\n",
       "      <td>7.27</td>\n",
       "    </tr>\n",
       "  </tbody>\n",
       "</table>\n",
       "<p>561 rows × 9 columns</p>\n",
       "</div>"
      ],
      "text/plain": [
       "                City Country    Lat     Lng        Date  Max Temp  Humidity  \\\n",
       "0    Severo-Kuril'sk      RU  50.68  156.12  1607626190     25.81        90   \n",
       "1             Barrow      US  71.29 -156.79  1607626191     -5.57        90   \n",
       "2           Kamaishi      JP  39.27  141.88  1607626191     41.97        74   \n",
       "3              Bluff      NZ -46.60  168.33  1607626083     44.01        94   \n",
       "4          Upernavik      GL  72.79  -56.15  1607626191     24.82        97   \n",
       "..               ...     ...    ...     ...         ...       ...       ...   \n",
       "556       Kautokeino      NO  69.01   23.04  1607626280     20.17        97   \n",
       "557            Nikel      RU  69.41   30.22  1607626280     32.00        98   \n",
       "558        Road Town      VG  18.42  -64.62  1607626128     84.20        66   \n",
       "559       Timberlake      US  37.32  -79.26  1607626281     60.01        38   \n",
       "560         Sanguéya      GN  10.70  -14.37  1607626281     81.07        70   \n",
       "\n",
       "     Cloudiness  Wind Speed  \n",
       "0            88       16.51  \n",
       "1           100       13.11  \n",
       "2             0        5.75  \n",
       "3           100       12.91  \n",
       "4           100        7.29  \n",
       "..          ...         ...  \n",
       "556          89        6.93  \n",
       "557          90       13.87  \n",
       "558          20        6.93  \n",
       "559           1        4.70  \n",
       "560           1        7.27  \n",
       "\n",
       "[561 rows x 9 columns]"
      ]
     },
     "execution_count": 5,
     "metadata": {},
     "output_type": "execute_result"
    }
   ],
   "source": [
    "weather_df"
   ]
  },
  {
   "cell_type": "markdown",
   "metadata": {},
   "source": [
    "## Inspect the data and remove the cities where the humidity > 100%.\n",
    "----\n",
    "Skip this step if there are no cities that have humidity > 100%. "
   ]
  },
  {
   "cell_type": "code",
   "execution_count": 6,
   "metadata": {},
   "outputs": [
    {
     "data": {
      "text/html": [
       "<div>\n",
       "<style scoped>\n",
       "    .dataframe tbody tr th:only-of-type {\n",
       "        vertical-align: middle;\n",
       "    }\n",
       "\n",
       "    .dataframe tbody tr th {\n",
       "        vertical-align: top;\n",
       "    }\n",
       "\n",
       "    .dataframe thead th {\n",
       "        text-align: right;\n",
       "    }\n",
       "</style>\n",
       "<table border=\"1\" class=\"dataframe\">\n",
       "  <thead>\n",
       "    <tr style=\"text-align: right;\">\n",
       "      <th></th>\n",
       "      <th>City</th>\n",
       "      <th>Country</th>\n",
       "      <th>Lat</th>\n",
       "      <th>Lng</th>\n",
       "      <th>Date</th>\n",
       "      <th>Max Temp</th>\n",
       "      <th>Humidity</th>\n",
       "      <th>Cloudiness</th>\n",
       "      <th>Wind Speed</th>\n",
       "    </tr>\n",
       "  </thead>\n",
       "  <tbody>\n",
       "    <tr>\n",
       "      <th>336</th>\n",
       "      <td>Hambantota</td>\n",
       "      <td>LK</td>\n",
       "      <td>6.12</td>\n",
       "      <td>81.12</td>\n",
       "      <td>1607625508</td>\n",
       "      <td>73.40</td>\n",
       "      <td>100</td>\n",
       "      <td>40</td>\n",
       "      <td>4.70</td>\n",
       "    </tr>\n",
       "    <tr>\n",
       "      <th>472</th>\n",
       "      <td>Mae Sai</td>\n",
       "      <td>TH</td>\n",
       "      <td>20.43</td>\n",
       "      <td>99.88</td>\n",
       "      <td>1607626265</td>\n",
       "      <td>60.01</td>\n",
       "      <td>100</td>\n",
       "      <td>14</td>\n",
       "      <td>1.12</td>\n",
       "    </tr>\n",
       "    <tr>\n",
       "      <th>404</th>\n",
       "      <td>Maun</td>\n",
       "      <td>BW</td>\n",
       "      <td>-19.98</td>\n",
       "      <td>23.42</td>\n",
       "      <td>1607626254</td>\n",
       "      <td>80.60</td>\n",
       "      <td>100</td>\n",
       "      <td>20</td>\n",
       "      <td>4.38</td>\n",
       "    </tr>\n",
       "    <tr>\n",
       "      <th>304</th>\n",
       "      <td>Asău</td>\n",
       "      <td>RO</td>\n",
       "      <td>46.43</td>\n",
       "      <td>26.40</td>\n",
       "      <td>1607625704</td>\n",
       "      <td>33.80</td>\n",
       "      <td>100</td>\n",
       "      <td>90</td>\n",
       "      <td>2.24</td>\n",
       "    </tr>\n",
       "    <tr>\n",
       "      <th>422</th>\n",
       "      <td>Carnarvon</td>\n",
       "      <td>AU</td>\n",
       "      <td>-24.87</td>\n",
       "      <td>113.63</td>\n",
       "      <td>1607626257</td>\n",
       "      <td>71.60</td>\n",
       "      <td>100</td>\n",
       "      <td>75</td>\n",
       "      <td>12.75</td>\n",
       "    </tr>\n",
       "    <tr>\n",
       "      <th>...</th>\n",
       "      <td>...</td>\n",
       "      <td>...</td>\n",
       "      <td>...</td>\n",
       "      <td>...</td>\n",
       "      <td>...</td>\n",
       "      <td>...</td>\n",
       "      <td>...</td>\n",
       "      <td>...</td>\n",
       "      <td>...</td>\n",
       "    </tr>\n",
       "    <tr>\n",
       "      <th>410</th>\n",
       "      <td>Las Vegas</td>\n",
       "      <td>US</td>\n",
       "      <td>36.17</td>\n",
       "      <td>-115.14</td>\n",
       "      <td>1607626225</td>\n",
       "      <td>59.00</td>\n",
       "      <td>15</td>\n",
       "      <td>1</td>\n",
       "      <td>3.36</td>\n",
       "    </tr>\n",
       "    <tr>\n",
       "      <th>429</th>\n",
       "      <td>Mount Isa</td>\n",
       "      <td>AU</td>\n",
       "      <td>-20.73</td>\n",
       "      <td>139.50</td>\n",
       "      <td>1607625527</td>\n",
       "      <td>86.00</td>\n",
       "      <td>15</td>\n",
       "      <td>100</td>\n",
       "      <td>13.87</td>\n",
       "    </tr>\n",
       "    <tr>\n",
       "      <th>414</th>\n",
       "      <td>Portales</td>\n",
       "      <td>US</td>\n",
       "      <td>34.19</td>\n",
       "      <td>-103.33</td>\n",
       "      <td>1607626168</td>\n",
       "      <td>66.99</td>\n",
       "      <td>15</td>\n",
       "      <td>20</td>\n",
       "      <td>8.05</td>\n",
       "    </tr>\n",
       "    <tr>\n",
       "      <th>208</th>\n",
       "      <td>San Rafael</td>\n",
       "      <td>AR</td>\n",
       "      <td>-34.62</td>\n",
       "      <td>-68.33</td>\n",
       "      <td>1607625768</td>\n",
       "      <td>99.27</td>\n",
       "      <td>14</td>\n",
       "      <td>8</td>\n",
       "      <td>5.28</td>\n",
       "    </tr>\n",
       "    <tr>\n",
       "      <th>402</th>\n",
       "      <td>Nueve de Julio</td>\n",
       "      <td>AR</td>\n",
       "      <td>-35.44</td>\n",
       "      <td>-60.88</td>\n",
       "      <td>1607626254</td>\n",
       "      <td>105.58</td>\n",
       "      <td>10</td>\n",
       "      <td>0</td>\n",
       "      <td>25.52</td>\n",
       "    </tr>\n",
       "  </tbody>\n",
       "</table>\n",
       "<p>561 rows × 9 columns</p>\n",
       "</div>"
      ],
      "text/plain": [
       "               City Country    Lat     Lng        Date  Max Temp  Humidity  \\\n",
       "336      Hambantota      LK   6.12   81.12  1607625508     73.40       100   \n",
       "472         Mae Sai      TH  20.43   99.88  1607626265     60.01       100   \n",
       "404            Maun      BW -19.98   23.42  1607626254     80.60       100   \n",
       "304            Asău      RO  46.43   26.40  1607625704     33.80       100   \n",
       "422       Carnarvon      AU -24.87  113.63  1607626257     71.60       100   \n",
       "..              ...     ...    ...     ...         ...       ...       ...   \n",
       "410       Las Vegas      US  36.17 -115.14  1607626225     59.00        15   \n",
       "429       Mount Isa      AU -20.73  139.50  1607625527     86.00        15   \n",
       "414        Portales      US  34.19 -103.33  1607626168     66.99        15   \n",
       "208      San Rafael      AR -34.62  -68.33  1607625768     99.27        14   \n",
       "402  Nueve de Julio      AR -35.44  -60.88  1607626254    105.58        10   \n",
       "\n",
       "     Cloudiness  Wind Speed  \n",
       "336          40        4.70  \n",
       "472          14        1.12  \n",
       "404          20        4.38  \n",
       "304          90        2.24  \n",
       "422          75       12.75  \n",
       "..          ...         ...  \n",
       "410           1        3.36  \n",
       "429         100       13.87  \n",
       "414          20        8.05  \n",
       "208           8        5.28  \n",
       "402           0       25.52  \n",
       "\n",
       "[561 rows x 9 columns]"
      ]
     },
     "execution_count": 6,
     "metadata": {},
     "output_type": "execute_result"
    }
   ],
   "source": [
    "weather_df['Humidity'].astype(float)\n",
    "weather_sorted = weather_df.sort_values(by='Humidity', ascending=False)\n",
    "weather_sorted\n",
    "#Sorted shows none are above 100"
   ]
  },
  {
   "cell_type": "code",
   "execution_count": 7,
   "metadata": {},
   "outputs": [],
   "source": [
    "#  Get the indices of cities that have humidity over 100%.\n"
   ]
  },
  {
   "cell_type": "code",
   "execution_count": 8,
   "metadata": {},
   "outputs": [],
   "source": [
    "# Make a new DataFrame equal to the city data to drop all humidity outliers by index.\n",
    "# Passing \"inplace=False\" will make a copy of the city_data DataFrame, which we call \"clean_city_data\".\n"
   ]
  },
  {
   "cell_type": "code",
   "execution_count": null,
   "metadata": {},
   "outputs": [],
   "source": [
    "\n"
   ]
  },
  {
   "cell_type": "markdown",
   "metadata": {},
   "source": [
    "## Plotting the Data\n",
    "* Use proper labeling of the plots using plot titles (including date of analysis) and axes labels.\n",
    "* Save the plotted figures as .pngs."
   ]
  },
  {
   "cell_type": "markdown",
   "metadata": {},
   "source": [
    "## Latitude vs. Temperature Plot"
   ]
  },
  {
   "cell_type": "code",
   "execution_count": 9,
   "metadata": {
    "scrolled": true
   },
   "outputs": [
    {
     "data": {
      "image/png": "[encoded data removed]",
      "text/plain": [
       "<Figure size 432x288 with 1 Axes>"
      ]
     },
     "metadata": {
      "needs_background": "light"
     },
     "output_type": "display_data"
    }
   ],
   "source": [
    "# Create Latitude vs. Temperature Plot scatter plot\n",
    "plt.scatter(weather_df[\"Lat\"], weather_df[\"Max Temp\"], facecolor = \"green\")\n",
    "\n",
    "# Set title\n",
    "plt.title(\"City Latitude vs. Max Temperature (12/10/20)\")\n",
    "\n",
    "# Set x axis label\n",
    "plt.xlabel(\"Laitude\")\n",
    "\n",
    "# Set y axis label\n",
    "plt.ylabel(\"Max Temperature (F)\")\n",
    "\n",
    "# Set grid line\n",
    "plt.grid(linestyle='-', linewidth=1, alpha = 0.5)\n",
    "\n",
    "# Save the plotted figure as .pngs\n",
    "plt.savefig(\"Images/City Latitude vs Max Temperature.png\")"
   ]
  },
  {
   "cell_type": "markdown",
   "metadata": {},
   "source": [
    "## Latitude vs. Humidity Plot"
   ]
  },
  {
   "cell_type": "code",
   "execution_count": 10,
   "metadata": {},
   "outputs": [
    {
     "data": {
      "image/png": "[encoded data removed]",
      "text/plain": [
       "<Figure size 432x288 with 1 Axes>"
      ]
     },
     "metadata": {
      "needs_background": "light"
     },
     "output_type": "display_data"
    }
   ],
   "source": [
    "# Create Latitude vs. Temperature Plot scatter plot\n",
    "plt.scatter(weather_df[\"Lat\"], weather_df[\"Humidity\"], facecolor = \"blue\")\n",
    "\n",
    "\n",
    "plt.title(\"City Latitude vs. Humidity (12/10/20)\")\n",
    "\n",
    "\n",
    "plt.xlabel(\"Laitude\")\n",
    "\n",
    "\n",
    "plt.ylabel(\"Humidity\")\n",
    "\n",
    "\n",
    "plt.grid(linestyle='-', linewidth=1, alpha = 0.5)\n",
    "\n",
    "\n",
    "plt.savefig(\"Images/City Latitude vs Humidity.png\")"
   ]
  },
  {
   "cell_type": "markdown",
   "metadata": {},
   "source": [
    "## Latitude vs. Cloudiness Plot"
   ]
  },
  {
   "cell_type": "code",
   "execution_count": 11,
   "metadata": {},
   "outputs": [
    {
     "data": {
      "image/png": "[encoded data removed]",
      "text/plain": [
       "<Figure size 432x288 with 1 Axes>"
      ]
     },
     "metadata": {
      "needs_background": "light"
     },
     "output_type": "display_data"
    }
   ],
   "source": [
    "# Create Latitude vs. Temperature Plot scatter plot\n",
    "plt.scatter(weather_df[\"Lat\"], weather_df[\"Cloudiness\"], facecolor = \"grey\")\n",
    "\n",
    "\n",
    "plt.title(\"City Latitude vs. Cloudiness (12/10/20)\")\n",
    "\n",
    "\n",
    "plt.xlabel(\"Laitude\")\n",
    "\n",
    "\n",
    "plt.ylabel(\"Cloudiness\")\n",
    "\n",
    "\n",
    "plt.grid(linestyle='-', linewidth=1, alpha = 0.5)\n",
    "\n",
    "\n",
    "plt.savefig(\"Images/City Latitude vs Cloudiness.png\")"
   ]
  },
  {
   "cell_type": "markdown",
   "metadata": {},
   "source": [
    "## Latitude vs. Wind Speed Plot"
   ]
  },
  {
   "cell_type": "code",
   "execution_count": 12,
   "metadata": {},
   "outputs": [
    {
     "data": {
      "image/png": "[encoded data removed]",
      "text/plain": [
       "<Figure size 432x288 with 1 Axes>"
      ]
     },
     "metadata": {
      "needs_background": "light"
     },
     "output_type": "display_data"
    }
   ],
   "source": [
    "# Create Latitude vs. Temperature Plot scatter plot\n",
    "plt.scatter(weather_df[\"Lat\"], weather_df[\"Wind Speed\"], facecolor = \"yellow\")\n",
    "\n",
    "\n",
    "plt.title(\"City Latitude vs. Wind Speed (12/10/20)\")\n",
    "\n",
    "\n",
    "plt.xlabel(\"Laitude\")\n",
    "\n",
    "\n",
    "plt.ylabel(\"Wind Speed\")\n",
    "\n",
    "\n",
    "plt.grid(linestyle='-', linewidth=1, alpha = 0.5)\n",
    "\n",
    "\n",
    "plt.savefig(\"Images/City Latitude vs Wind Speed.png\")"
   ]
  },
  {
   "cell_type": "markdown",
   "metadata": {},
   "source": [
    "## Linear Regression"
   ]
  },
  {
   "cell_type": "code",
   "execution_count": 13,
   "metadata": {},
   "outputs": [],
   "source": [
    "northern_hemi = weather_df.loc[weather_df['Lat'] > 0]\n",
    "southern_hemi = weather_df.loc[weather_df['Lat'] <= 0]"
   ]
  },
  {
   "cell_type": "markdown",
   "metadata": {},
   "source": [
    "####  Northern Hemisphere - Max Temp vs. Latitude Linear Regression"
   ]
  },
  {
   "cell_type": "code",
   "execution_count": 14,
   "metadata": {},
   "outputs": [
    {
     "name": "stdout",
     "output_type": "stream",
     "text": [
      "The r-squared is: 0.7338989269984666\n"
     ]
    },
    {
     "data": {
      "image/png": "[encoded data removed]",
      "text/plain": [
       "<Figure size 432x288 with 1 Axes>"
      ]
     },
     "metadata": {
      "needs_background": "light"
     },
     "output_type": "display_data"
    },
    {
     "data": {
      "text/plain": [
       "<Figure size 432x288 with 0 Axes>"
      ]
     },
     "metadata": {},
     "output_type": "display_data"
    }
   ],
   "source": [
    "x_values = northern_hemi['Max Temp']\n",
    "y_values = northern_hemi['Lat']\n",
    "(slope, intercept, rvalue, pvalue, stderr) = linregress(x_values, y_values)\n",
    "regress_values = x_values * slope + intercept\n",
    "line_eq = \"y = \" + str(round(slope,2)) + \"x + \" + str(round(intercept,2))\n",
    "plt.scatter(x_values,y_values)\n",
    "plt.plot(x_values,regress_values,\"r-\")\n",
    "plt.grid()\n",
    "plt.title('Northern Hemisphere - Max Temp vs. Latitude Linear Regression')\n",
    "plt.annotate(line_eq,(-20,10),fontsize=15,color=\"red\")\n",
    "plt.xlabel('Maximum Temperature (F)')\n",
    "plt.ylabel('Latitude')\n",
    "print(f\"The r-squared is: {rvalue**2}\")\n",
    "plt.show()\n",
    "plt.savefig(\"Images/Northern Hemisphere vs Max Temp LR.png\")"
   ]
  },
  {
   "cell_type": "markdown",
   "metadata": {},
   "source": [
    "####  Southern Hemisphere - Max Temp vs. Latitude Linear Regression"
   ]
  },
  {
   "cell_type": "code",
   "execution_count": 22,
   "metadata": {},
   "outputs": [
    {
     "name": "stdout",
     "output_type": "stream",
     "text": [
      "The r-squared is: 0.3127702308389993\n"
     ]
    },
    {
     "data": {
      "image/png": "[encoded data removed]",
      "text/plain": [
       "<Figure size 432x288 with 1 Axes>"
      ]
     },
     "metadata": {
      "needs_background": "light"
     },
     "output_type": "display_data"
    },
    {
     "data": {
      "text/plain": [
       "<Figure size 432x288 with 0 Axes>"
      ]
     },
     "metadata": {},
     "output_type": "display_data"
    }
   ],
   "source": [
    "x_values = southern_hemi['Max Temp']\n",
    "y_values = southern_hemi['Lat']\n",
    "(slope, intercept, rvalue, pvalue, stderr) = linregress(x_values, y_values)\n",
    "regress_values = x_values * slope + intercept\n",
    "line_eq = \"y = \" + str(round(slope,2)) + \"x + \" + str(round(intercept,2))\n",
    "plt.scatter(x_values,y_values)\n",
    "plt.plot(x_values,regress_values,\"r-\")\n",
    "plt.grid()\n",
    "plt.title('Southern Hemisphere - Max Temp vs. Latitude Linear Regression')\n",
    "plt.annotate(line_eq,(40,-10),fontsize=15,color=\"red\")\n",
    "plt.xlabel('Maximum Temperature (F)')\n",
    "plt.ylabel('Latitude')\n",
    "print(f\"The r-squared is: {rvalue**2}\")\n",
    "plt.show()\n",
    "plt.savefig(\"Images/Southern Hemisphere vs Max Temp LR.png\")"
   ]
  },
  {
   "cell_type": "markdown",
   "metadata": {},
   "source": [
    "####  Northern Hemisphere - Humidity (%) vs. Latitude Linear Regression"
   ]
  },
  {
   "cell_type": "code",
   "execution_count": 23,
   "metadata": {},
   "outputs": [
    {
     "name": "stdout",
     "output_type": "stream",
     "text": [
      "The r-squared is: 0.13469525949087324\n"
     ]
    },
    {
     "data": {
      "image/png": "[encoded data removed]",
      "text/plain": [
       "<Figure size 432x288 with 1 Axes>"
      ]
     },
     "metadata": {
      "needs_background": "light"
     },
     "output_type": "display_data"
    },
    {
     "data": {
      "text/plain": [
       "<Figure size 432x288 with 0 Axes>"
      ]
     },
     "metadata": {},
     "output_type": "display_data"
    }
   ],
   "source": [
    "x_values = northern_hemi['Humidity']\n",
    "y_values = northern_hemi['Lat']\n",
    "(slope, intercept, rvalue, pvalue, stderr) = linregress(x_values, y_values)\n",
    "regress_values = x_values * slope + intercept\n",
    "line_eq = \"y = \" + str(round(slope,2)) + \"x + \" + str(round(intercept,2))\n",
    "plt.scatter(x_values,y_values)\n",
    "plt.plot(x_values,regress_values,\"r-\")\n",
    "plt.grid()\n",
    "plt.title('Northern Hemisphere - Humidity (%) vs. Latitude Linear Regression')\n",
    "plt.annotate(line_eq,(40,50),fontsize=15,color=\"red\")\n",
    "plt.xlabel('Humidity (%)')\n",
    "plt.ylabel('Latitude')\n",
    "print(f\"The r-squared is: {rvalue**2}\")\n",
    "plt.show()\n",
    "plt.savefig(\"Images/Northern Hemisphere vs Humidity LR.png\")"
   ]
  },
  {
   "cell_type": "markdown",
   "metadata": {},
   "source": [
    "####  Southern Hemisphere - Humidity (%) vs. Latitude Linear Regression"
   ]
  },
  {
   "cell_type": "code",
   "execution_count": 25,
   "metadata": {},
   "outputs": [
    {
     "name": "stdout",
     "output_type": "stream",
     "text": [
      "The r-squared is: 0.015417487058093057\n"
     ]
    },
    {
     "data": {
      "image/png": "[encoded data removed]",
      "text/plain": [
       "<Figure size 432x288 with 1 Axes>"
      ]
     },
     "metadata": {
      "needs_background": "light"
     },
     "output_type": "display_data"
    },
    {
     "data": {
      "text/plain": [
       "<Figure size 432x288 with 0 Axes>"
      ]
     },
     "metadata": {},
     "output_type": "display_data"
    }
   ],
   "source": [
    "x_values = southern_hemi['Humidity']\n",
    "y_values = southern_hemi['Lat']\n",
    "(slope, intercept, rvalue, pvalue, stderr) = linregress(x_values, y_values)\n",
    "regress_values = x_values * slope + intercept\n",
    "line_eq = \"y = \" + str(round(slope,2)) + \"x + \" + str(round(intercept,2))\n",
    "plt.scatter(x_values,y_values)\n",
    "plt.plot(x_values,regress_values,\"r-\")\n",
    "plt.grid()\n",
    "plt.title('Southern Hemisphere - Humidity (%) vs. Latitude Linear Regression')\n",
    "plt.annotate(line_eq,(20,-50),fontsize=15,color=\"red\")\n",
    "plt.xlabel('Humidity (%)')\n",
    "plt.ylabel('Latitude')\n",
    "print(f\"The r-squared is: {rvalue**2}\")\n",
    "plt.show()\n",
    "plt.savefig(\"Images/Southern Hemisphere vs Humidity LR.png\")"
   ]
  },
  {
   "cell_type": "markdown",
   "metadata": {},
   "source": [
    "####  Northern Hemisphere - Cloudiness (%) vs. Latitude Linear Regression"
   ]
  },
  {
   "cell_type": "code",
   "execution_count": 26,
   "metadata": {},
   "outputs": [
    {
     "name": "stdout",
     "output_type": "stream",
     "text": [
      "The r-squared is: 0.04706385529879239\n"
     ]
    },
    {
     "data": {
      "image/png": "[encoded data removed]",
      "text/plain": [
       "<Figure size 432x288 with 1 Axes>"
      ]
     },
     "metadata": {
      "needs_background": "light"
     },
     "output_type": "display_data"
    },
    {
     "data": {
      "text/plain": [
       "<Figure size 432x288 with 0 Axes>"
      ]
     },
     "metadata": {},
     "output_type": "display_data"
    }
   ],
   "source": [
    "x_values = northern_hemi['Cloudiness']\n",
    "y_values = northern_hemi['Lat']\n",
    "(slope, intercept, rvalue, pvalue, stderr) = linregress(x_values, y_values)\n",
    "regress_values = x_values * slope + intercept\n",
    "line_eq = \"y = \" + str(round(slope,2)) + \"x + \" + str(round(intercept,2))\n",
    "plt.scatter(x_values,y_values)\n",
    "plt.plot(x_values,regress_values,\"r-\")\n",
    "plt.grid()\n",
    "plt.title('Northern Hemisphere - Cloudiness (%) vs. Latitude Linear Regression')\n",
    "plt.annotate(line_eq,(20,30),fontsize=15,color=\"red\")\n",
    "plt.xlabel('Cloudiness (%)')\n",
    "plt.ylabel('Latitude')\n",
    "print(f\"The r-squared is: {rvalue**2}\")\n",
    "plt.show()\n",
    "plt.savefig(\"Images/Northern Hemisphere vs Cloudiness LR.png\")"
   ]
  },
  {
   "cell_type": "markdown",
   "metadata": {},
   "source": [
    "####  Southern Hemisphere - Cloudiness (%) vs. Latitude Linear Regression"
   ]
  },
  {
   "cell_type": "code",
   "execution_count": 27,
   "metadata": {},
   "outputs": [
    {
     "name": "stdout",
     "output_type": "stream",
     "text": [
      "The r-squared is: 0.05214910699614313\n"
     ]
    },
    {
     "data": {
      "image/png": "[encoded data removed]",
      "text/plain": [
       "<Figure size 432x288 with 1 Axes>"
      ]
     },
     "metadata": {
      "needs_background": "light"
     },
     "output_type": "display_data"
    },
    {
     "data": {
      "text/plain": [
       "<Figure size 432x288 with 0 Axes>"
      ]
     },
     "metadata": {},
     "output_type": "display_data"
    }
   ],
   "source": [
    "x_values = southern_hemi['Cloudiness']\n",
    "y_values = southern_hemi['Lat']\n",
    "(slope, intercept, rvalue, pvalue, stderr) = linregress(x_values, y_values)\n",
    "regress_values = x_values * slope + intercept\n",
    "line_eq = \"y = \" + str(round(slope,2)) + \"x + \" + str(round(intercept,2))\n",
    "plt.scatter(x_values,y_values)\n",
    "plt.plot(x_values,regress_values,\"r-\")\n",
    "plt.grid()\n",
    "plt.title('Southern Hemisphere - Cloudiness (%) vs. Latitude Linear Regression')\n",
    "plt.annotate(line_eq,(20,-30),fontsize=15,color=\"red\")\n",
    "plt.xlabel('Cloudiness (%)')\n",
    "plt.ylabel('Latitude')\n",
    "print(f\"The r-squared is: {rvalue**2}\")\n",
    "plt.show()\n",
    "plt.savefig(\"Images/Southern Hemisphere vs Cloudiness LR.png\")"
   ]
  },
  {
   "cell_type": "markdown",
   "metadata": {},
   "source": [
    "####  Northern Hemisphere - Wind Speed (mph) vs. Latitude Linear Regression"
   ]
  },
  {
   "cell_type": "code",
   "execution_count": 29,
   "metadata": {},
   "outputs": [
    {
     "name": "stdout",
     "output_type": "stream",
     "text": [
      "The r-squared is: 0.042351008271906805\n"
     ]
    },
    {
     "data": {
      "image/png": "[encoded data removed]",
      "text/plain": [
       "<Figure size 432x288 with 1 Axes>"
      ]
     },
     "metadata": {
      "needs_background": "light"
     },
     "output_type": "display_data"
    },
    {
     "data": {
      "text/plain": [
       "<Figure size 432x288 with 0 Axes>"
      ]
     },
     "metadata": {},
     "output_type": "display_data"
    }
   ],
   "source": [
    "x_values = northern_hemi['Wind Speed']\n",
    "y_values = northern_hemi['Lat']\n",
    "(slope, intercept, rvalue, pvalue, stderr) = linregress(x_values, y_values)\n",
    "regress_values = x_values * slope + intercept\n",
    "line_eq = \"y = \" + str(round(slope,2)) + \"x + \" + str(round(intercept,2))\n",
    "plt.scatter(x_values,y_values)\n",
    "plt.plot(x_values,regress_values,\"r-\")\n",
    "plt.grid()\n",
    "plt.title('Northern Hemisphere - Wind Speed (mph) vs. Latitude Linear Regression')\n",
    "plt.annotate(line_eq,(20,40),fontsize=15,color=\"red\")\n",
    "plt.xlabel('Wind Speed')\n",
    "plt.ylabel('Latitude')\n",
    "print(f\"The r-squared is: {rvalue**2}\")\n",
    "plt.show()\n",
    "plt.savefig(\"Images/Northern Hemisphere vs Wind Speed LR.png\")"
   ]
  },
  {
   "cell_type": "markdown",
   "metadata": {},
   "source": [
    "####  Southern Hemisphere - Wind Speed (mph) vs. Latitude Linear Regression"
   ]
  },
  {
   "cell_type": "code",
   "execution_count": 30,
   "metadata": {},
   "outputs": [
    {
     "name": "stdout",
     "output_type": "stream",
     "text": [
      "The r-squared is: 0.07980517781744609\n"
     ]
    },
    {
     "data": {
      "image/png": "[encoded data removed]",
      "text/plain": [
       "<Figure size 432x288 with 1 Axes>"
      ]
     },
     "metadata": {
      "needs_background": "light"
     },
     "output_type": "display_data"
    },
    {
     "data": {
      "text/plain": [
       "<Figure size 432x288 with 0 Axes>"
      ]
     },
     "metadata": {},
     "output_type": "display_data"
    }
   ],
   "source": [
    "x_values = southern_hemi['Wind Speed']\n",
    "y_values = southern_hemi['Lat']\n",
    "(slope, intercept, rvalue, pvalue, stderr) = linregress(x_values, y_values)\n",
    "regress_values = x_values * slope + intercept\n",
    "line_eq = \"y = \" + str(round(slope,2)) + \"x + \" + str(round(intercept,2))\n",
    "plt.scatter(x_values,y_values)\n",
    "plt.plot(x_values,regress_values,\"r-\")\n",
    "plt.grid()\n",
    "plt.title('Southern Hemisphere - Wind Speed (mph) vs. Latitude Linear Regression')\n",
    "plt.annotate(line_eq,(20,-30),fontsize=15,color=\"red\")\n",
    "plt.xlabel('Wind Speed')\n",
    "plt.ylabel('Latitude')\n",
    "print(f\"The r-squared is: {rvalue**2}\")\n",
    "plt.show()\n",
    "plt.savefig(\"Images/Southern Hemisphere vs Wind Speed LR.png\")"
   ]
  },
  {
   "cell_type": "code",
   "execution_count": null,
   "metadata": {},
   "outputs": [],
   "source": []
  },
  {
   "cell_type": "code",
   "execution_count": null,
   "metadata": {},
   "outputs": [],
   "source": []
  }
 ],
 "metadata": {
  "anaconda-cloud": {},
  "kernel_info": {
   "name": "python3"
  },
  "kernelspec": {
   "display_name": "Python 3",
   "language": "python",
   "name": "python3"
  },
  "language_info": {
   "codemirror_mode": {
    "name": "ipython",
    "version": 3
   },
   "file_extension": ".py",
   "mimetype": "text/x-python",
   "name": "python",
   "nbconvert_exporter": "python",
   "pygments_lexer": "ipython3",
   "version": "3.8.3"
  },
  "latex_envs": {
   "LaTeX_envs_menu_present": true,
   "autoclose": false,
   "autocomplete": true,
   "bibliofile": "biblio.bib",
   "cite_by": "apalike",
   "current_citInitial": 1,
   "eqLabelWithNumbers": true,
   "eqNumInitial": 1,
   "hotkeys": {
    "equation": "Ctrl-E",
    "itemize": "Ctrl-I"
   },
   "labels_anchors": false,
   "latex_user_defs": false,
   "report_style_numbering": false,
   "user_envs_cfg": false
  },
  "nteract": {
   "version": "0.12.3"
  }
 },
 "nbformat": 4,
 "nbformat_minor": 2
}
