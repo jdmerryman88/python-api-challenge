{
 "cells": [
  {
   "cell_type": "markdown",
   "metadata": {},
   "source": [
    "# WeatherPy\n",
    "----\n",
    "\n",
    "#### Note\n",
    "* Instructions have been included for each segment. You do not have to follow them exactly, but they are included to help you think through the steps."
   ]
  },
  {
   "cell_type": "code",
   "execution_count": 1,
   "metadata": {
    "scrolled": true
   },
   "outputs": [],
   "source": [
    "# Dependencies and Setup\n",
    "import matplotlib.pyplot as plt\n",
    "import pandas as pd\n",
    "import numpy as np\n",
    "import requests\n",
    "import time\n",
    "from scipy.stats import linregress\n",
    "\n",
    "# Import API key\n",
    "from api_keys import weather_api_key\n",
    "\n",
    "# Incorporated citipy to determine city based on latitude and longitude\n",
    "from citipy import citipy\n",
    "\n",
    "# Output File (CSV)\n",
    "output_data_file = \"output_data/cities.csv\"\n",
    "\n",
    "# Range of latitudes and longitudes\n",
    "lat_range = (-90, 90)\n",
    "lng_range = (-180, 180)"
   ]
  },
  {
   "cell_type": "markdown",
   "metadata": {},
   "source": [
    "## Generate Cities List"
   ]
  },
  {
   "cell_type": "code",
   "execution_count": 2,
   "metadata": {},
   "outputs": [
    {
     "data": {
      "text/plain": [
       "618"
      ]
     },
     "execution_count": 2,
     "metadata": {},
     "output_type": "execute_result"
    }
   ],
   "source": [
    "# List for holding lat_lngs and cities\n",
    "lat_lngs = []\n",
    "cities = []\n",
    "\n",
    "# Create a set of random lat and lng combinations\n",
    "lats = np.random.uniform(lat_range[0], lat_range[1], size=1500)\n",
    "lngs = np.random.uniform(lng_range[0], lng_range[1], size=1500)\n",
    "lat_lngs = zip(lats, lngs)\n",
    "\n",
    "# Identify nearest city for each lat, lng combination\n",
    "for lat_lng in lat_lngs:\n",
    "    city = citipy.nearest_city(lat_lng[0], lat_lng[1]).city_name\n",
    "    \n",
    "    \n",
    "    # If the city is unique, then add it to a our cities list\n",
    "    if city not in cities:\n",
    "        cities.append(city)\n",
    "\n",
    "# Print the city count to confirm sufficient count\n",
    "len(cities)\n"
   ]
  },
  {
   "cell_type": "markdown",
   "metadata": {},
   "source": [
    "### Perform API Calls\n",
    "* Perform a weather check on each city using a series of successive API calls.\n",
    "* Include a print log of each city as it'sbeing processed (with the city number and city name).\n"
   ]
  },
  {
   "cell_type": "code",
   "execution_count": 3,
   "metadata": {
    "scrolled": true
   },
   "outputs": [
    {
     "name": "stdout",
     "output_type": "stream",
     "text": [
      "City not found. Next city...\n",
      "Processing city number 1 : villafranca de los barros\n",
      "Processing city number 2 : souillac\n",
      "Processing city number 3 : salalah\n",
      "Processing city number 4 : saint george\n",
      "Processing city number 5 : ternate\n",
      "Processing city number 6 : barrow\n",
      "Processing city number 7 : lebu\n",
      "City not found. Next city...\n",
      "Processing city number 9 : jamestown\n",
      "Processing city number 10 : hithadhoo\n",
      "Processing city number 11 : hilo\n",
      "Processing city number 12 : ushuaia\n",
      "Processing city number 13 : scarborough\n",
      "Processing city number 14 : tasiilaq\n",
      "Processing city number 15 : busselton\n",
      "City not found. Next city...\n",
      "Processing city number 17 : pitkyaranta\n",
      "Processing city number 18 : pochutla\n",
      "Processing city number 19 : yellowknife\n",
      "Processing city number 20 : ribeira grande\n",
      "Processing city number 21 : kaitangata\n",
      "Processing city number 22 : rikitea\n",
      "Processing city number 23 : qaanaaq\n",
      "Processing city number 24 : butaritari\n",
      "Processing city number 25 : sept-iles\n",
      "Processing city number 26 : vaini\n",
      "Processing city number 27 : oum hadjer\n",
      "Processing city number 28 : villa carlos paz\n",
      "Processing city number 29 : avera\n",
      "Processing city number 30 : albany\n",
      "Processing city number 31 : dikson\n",
      "Processing city number 32 : bagdarin\n",
      "Processing city number 33 : kholodnyy\n",
      "Processing city number 34 : herat\n",
      "Processing city number 35 : hobart\n",
      "Processing city number 36 : ballina\n",
      "Processing city number 37 : atuona\n",
      "Processing city number 38 : baykit\n",
      "Processing city number 39 : lakes entrance\n",
      "Processing city number 40 : westport\n",
      "Processing city number 41 : puerto ayora\n",
      "Processing city number 42 : mezen\n",
      "Processing city number 43 : arrecife\n",
      "Processing city number 44 : longyearbyen\n",
      "Processing city number 45 : olafsvik\n",
      "Processing city number 46 : port alfred\n",
      "Processing city number 47 : ribas do rio pardo\n",
      "City not found. Next city...\n",
      "Processing city number 49 : mount isa\n",
      "Processing city number 50 : thompson\n",
      "Processing city number 51 : bredasdorp\n",
      "Processing city number 52 : dhidhdhoo\n",
      "Processing city number 53 : punta arenas\n",
      "Processing city number 54 : provideniya\n",
      "Processing city number 55 : evensk\n",
      "Processing city number 56 : mataura\n",
      "Processing city number 57 : sisimiut\n",
      "Processing city number 58 : hilchenbach\n",
      "Processing city number 59 : san policarpo\n",
      "Processing city number 60 : mar del plata\n",
      "Processing city number 61 : klaksvik\n",
      "Processing city number 62 : castro\n",
      "Processing city number 63 : saskylakh\n",
      "Processing city number 64 : cape town\n",
      "Processing city number 65 : nikolskoye\n",
      "Processing city number 66 : madras\n",
      "Processing city number 67 : qurayyat\n",
      "Processing city number 68 : genhe\n",
      "Processing city number 69 : lavrentiya\n",
      "Processing city number 70 : imeni vorovskogo\n",
      "Processing city number 71 : arraial do cabo\n",
      "Processing city number 72 : san felipe\n",
      "City not found. Next city...\n",
      "Processing city number 74 : bluff\n",
      "Processing city number 75 : longjiang\n",
      "Processing city number 76 : kavieng\n",
      "Processing city number 77 : kodiak\n",
      "Processing city number 78 : togur\n",
      "Processing city number 79 : batticaloa\n",
      "Processing city number 80 : bengkulu\n",
      "Processing city number 81 : norman wells\n",
      "Processing city number 82 : chadan\n",
      "City not found. Next city...\n",
      "Processing city number 84 : ekhabi\n",
      "Processing city number 85 : joigny\n",
      "Processing city number 86 : yinchuan\n",
      "Processing city number 87 : tautira\n",
      "City not found. Next city...\n",
      "Processing city number 89 : lompoc\n",
      "Processing city number 90 : avarua\n",
      "Processing city number 91 : broken hill\n",
      "Processing city number 92 : kahului\n",
      "Processing city number 93 : eyl\n",
      "Processing city number 94 : saint-philippe\n",
      "Processing city number 95 : chuy\n",
      "Processing city number 96 : pokrovo-prigorodnoye\n",
      "Processing city number 97 : kabakovo\n",
      "Processing city number 98 : banda aceh\n",
      "Processing city number 99 : guerrero negro\n",
      "Processing city number 100 : inhambane\n",
      "Processing city number 101 : taber\n",
      "Processing city number 102 : esperance\n",
      "Processing city number 103 : jardim\n",
      "Processing city number 104 : severo-kurilsk\n",
      "Processing city number 105 : la palma\n",
      "Processing city number 106 : najran\n",
      "Processing city number 107 : luganville\n",
      "Processing city number 108 : bilma\n",
      "City not found. Next city...\n",
      "Processing city number 110 : la libertad\n",
      "Processing city number 111 : fortuna\n",
      "Processing city number 112 : tumut\n",
      "Processing city number 113 : batagay\n",
      "Processing city number 114 : adrar\n",
      "Processing city number 115 : santa rosa\n",
      "City not found. Next city...\n",
      "City not found. Next city...\n",
      "Processing city number 118 : port elizabeth\n",
      "Processing city number 119 : carnarvon\n",
      "City not found. Next city...\n",
      "Processing city number 121 : new norfolk\n",
      "Processing city number 122 : kurumkan\n",
      "Processing city number 123 : comodoro rivadavia\n",
      "Processing city number 124 : vakhtan\n",
      "Processing city number 125 : corowa\n",
      "Processing city number 126 : walvis bay\n",
      "Processing city number 127 : faanui\n",
      "Processing city number 128 : ulladulla\n",
      "Processing city number 129 : manacapuru\n",
      "Processing city number 130 : aranos\n",
      "Processing city number 131 : kysyl-syr\n",
      "Processing city number 132 : ponta do sol\n",
      "Processing city number 133 : aklavik\n",
      "Processing city number 134 : takoradi\n",
      "Processing city number 135 : kapaa\n",
      "Processing city number 136 : cabo san lucas\n",
      "Processing city number 137 : bethel\n",
      "Processing city number 138 : faya\n",
      "Processing city number 139 : ostrovnoy\n",
      "Processing city number 140 : escalerillas\n",
      "Processing city number 141 : tuktoyaktuk\n",
      "Processing city number 142 : martapura\n",
      "City not found. Next city...\n",
      "Processing city number 144 : moindou\n",
      "Processing city number 145 : constitucion\n",
      "Processing city number 146 : san patricio\n",
      "Processing city number 147 : adrian\n",
      "Processing city number 148 : east london\n",
      "Processing city number 149 : lagoa\n",
      "City not found. Next city...\n",
      "City not found. Next city...\n",
      "Processing city number 152 : kholtoson\n",
      "Processing city number 153 : jaciara\n",
      "Processing city number 154 : wagar\n",
      "Processing city number 155 : richards bay\n",
      "Processing city number 156 : vila\n",
      "Processing city number 157 : srednekolymsk\n",
      "Processing city number 158 : daphne\n",
      "Processing city number 159 : thohoyandou\n",
      "Processing city number 160 : porto novo\n",
      "Processing city number 161 : balotra\n",
      "Processing city number 162 : airai\n",
      "Processing city number 163 : horana\n",
      "City not found. Next city...\n",
      "City not found. Next city...\n",
      "Processing city number 166 : nishihara\n",
      "Processing city number 167 : havre-saint-pierre\n",
      "Processing city number 168 : mountain home\n",
      "Processing city number 169 : kieta\n",
      "Processing city number 170 : beauvais\n",
      "Processing city number 171 : shingu\n",
      "Processing city number 172 : olinda\n",
      "Processing city number 173 : san ramon de la nueva oran\n",
      "Processing city number 174 : alice springs\n",
      "Processing city number 175 : belmonte\n",
      "Processing city number 176 : luanda\n",
      "Processing city number 177 : rio grande\n",
      "Processing city number 178 : taguing\n",
      "Processing city number 179 : tamale\n",
      "City not found. Next city...\n",
      "Processing city number 181 : rawson\n",
      "Processing city number 182 : kumluca\n",
      "Processing city number 183 : shitkino\n",
      "Processing city number 184 : la romana\n",
      "Processing city number 185 : chiang kham\n",
      "Processing city number 186 : vostok\n",
      "Processing city number 187 : rocha\n",
      "Processing city number 188 : sao filipe\n",
      "Processing city number 189 : kvarkeno\n",
      "Processing city number 190 : oktyabrskiy\n",
      "Processing city number 191 : zhigansk\n",
      "Processing city number 192 : georgetown\n",
      "Processing city number 193 : asau\n",
      "Processing city number 194 : koutiala\n",
      "Processing city number 195 : panzhihua\n",
      "Processing city number 196 : clyde river\n",
      "Processing city number 197 : samarai\n",
      "Processing city number 198 : touros\n",
      "Processing city number 199 : costinesti\n",
      "Processing city number 200 : hovd\n",
      "Processing city number 201 : mokrousovo\n",
      "Processing city number 202 : kimbe\n",
      "Processing city number 203 : pangody\n",
      "Processing city number 204 : moranbah\n",
      "Processing city number 205 : mudanjiang\n",
      "Processing city number 206 : pevek\n",
      "Processing city number 207 : paveh\n",
      "Processing city number 208 : fairbanks\n",
      "Processing city number 209 : bara\n",
      "Processing city number 210 : coquimbo\n",
      "City not found. Next city...\n",
      "Processing city number 212 : lazaro cardenas\n",
      "Processing city number 213 : talnakh\n",
      "Processing city number 214 : college\n",
      "Processing city number 215 : mwinilunga\n",
      "Processing city number 216 : nantucket\n",
      "Processing city number 217 : victoria\n",
      "Processing city number 218 : iquique\n",
      "Processing city number 219 : teahupoo\n"
     ]
    },
    {
     "name": "stdout",
     "output_type": "stream",
     "text": [
      "Processing city number 220 : antofagasta\n",
      "City not found. Next city...\n",
      "Processing city number 222 : vanavara\n",
      "Processing city number 223 : ilhabela\n",
      "Processing city number 224 : miyang\n",
      "Processing city number 225 : portland\n",
      "Processing city number 226 : hamilton\n",
      "Processing city number 227 : mungwi\n",
      "Processing city number 228 : bambanglipuro\n",
      "Processing city number 229 : katherine\n",
      "Processing city number 230 : miandrivazo\n",
      "Processing city number 231 : iguguno\n",
      "Processing city number 232 : torbay\n",
      "Processing city number 233 : zlynka\n",
      "Processing city number 234 : khatanga\n",
      "Processing city number 235 : kalemie\n",
      "Processing city number 236 : bilibino\n",
      "Processing city number 237 : hermanus\n",
      "Processing city number 238 : khor\n",
      "Processing city number 239 : esmeraldas\n",
      "Processing city number 240 : riyadh\n",
      "Processing city number 241 : upernavik\n",
      "Processing city number 242 : marrakesh\n",
      "Processing city number 243 : mareeba\n",
      "Processing city number 244 : ilulissat\n",
      "City not found. Next city...\n",
      "Processing city number 246 : terrace\n",
      "Processing city number 247 : port lincoln\n",
      "Processing city number 248 : paciran\n",
      "Processing city number 249 : havelock\n",
      "Processing city number 250 : kpandu\n",
      "City not found. Next city...\n",
      "Processing city number 252 : chokurdakh\n",
      "Processing city number 253 : charters towers\n",
      "Processing city number 254 : razdolinsk\n",
      "Processing city number 255 : brae\n",
      "Processing city number 256 : champerico\n",
      "Processing city number 257 : karatau\n",
      "Processing city number 258 : luderitz\n",
      "Processing city number 259 : tukrah\n",
      "Processing city number 260 : iqaluit\n",
      "Processing city number 261 : puerto cabezas\n",
      "Processing city number 262 : redding\n",
      "Processing city number 263 : mandalgovi\n",
      "Processing city number 264 : yulara\n",
      "Processing city number 265 : beloha\n",
      "City not found. Next city...\n",
      "City not found. Next city...\n",
      "Processing city number 268 : hermosillo\n",
      "Processing city number 269 : padang\n",
      "Processing city number 270 : saldanha\n",
      "Processing city number 271 : namibe\n",
      "Processing city number 272 : maarianhamina\n",
      "Processing city number 273 : palmer\n",
      "City not found. Next city...\n",
      "Processing city number 275 : waddan\n",
      "Processing city number 276 : pangnirtung\n",
      "Processing city number 277 : vanimo\n",
      "Processing city number 278 : kiunga\n",
      "Processing city number 279 : joshimath\n",
      "Processing city number 280 : tiksi\n",
      "Processing city number 281 : vila franca do campo\n",
      "Processing city number 282 : porosozero\n",
      "Processing city number 283 : lorengau\n",
      "Processing city number 284 : puerto madero\n",
      "City not found. Next city...\n",
      "Processing city number 286 : igrim\n",
      "Processing city number 287 : aviles\n",
      "Processing city number 288 : mahebourg\n",
      "Processing city number 289 : nome\n",
      "Processing city number 290 : fort-shevchenko\n",
      "Processing city number 291 : ayorou\n",
      "Processing city number 292 : tuatapere\n",
      "Processing city number 293 : cocentaina\n",
      "Processing city number 294 : kismayo\n",
      "Processing city number 295 : tura\n",
      "City not found. Next city...\n",
      "Processing city number 297 : laguna\n",
      "Processing city number 298 : juegang\n",
      "Processing city number 299 : chapais\n",
      "Processing city number 300 : dongfeng\n",
      "Processing city number 301 : peniche\n",
      "Processing city number 302 : follonica\n",
      "Processing city number 303 : sitka\n",
      "Processing city number 304 : shenjiamen\n",
      "Processing city number 305 : lantana\n",
      "Processing city number 306 : naze\n",
      "Processing city number 307 : benidorm\n",
      "Processing city number 308 : cangzhou\n",
      "Processing city number 309 : quchan\n",
      "Processing city number 310 : fuling\n",
      "City not found. Next city...\n",
      "Processing city number 312 : boali\n",
      "Processing city number 313 : cejkovice\n",
      "Processing city number 314 : bere\n",
      "Processing city number 315 : sibolga\n",
      "Processing city number 316 : cessnock\n",
      "Processing city number 317 : alofi\n",
      "Processing city number 318 : kondinskoye\n",
      "Processing city number 319 : leningradskiy\n",
      "Processing city number 320 : yatou\n",
      "Processing city number 321 : cherskiy\n",
      "Processing city number 322 : saint-joseph\n",
      "Processing city number 323 : kolokani\n",
      "Processing city number 324 : ahuimanu\n",
      "Processing city number 325 : christchurch\n",
      "Processing city number 326 : zastron\n",
      "Processing city number 327 : vao\n",
      "Processing city number 328 : port hardy\n",
      "Processing city number 329 : hervey bay\n",
      "Processing city number 330 : aykhal\n",
      "Processing city number 331 : komsomolskiy\n",
      "Processing city number 332 : grindavik\n",
      "Processing city number 333 : tecoanapa\n",
      "Processing city number 334 : kailua\n",
      "Processing city number 335 : sao joao da barra\n",
      "Processing city number 336 : ouargaye\n",
      "Processing city number 337 : benguela\n",
      "Processing city number 338 : tornio\n",
      "Processing city number 339 : jalpan\n",
      "Processing city number 340 : cheran\n",
      "Processing city number 341 : kargala\n",
      "Processing city number 342 : troitsko-pechorsk\n",
      "Processing city number 343 : araouane\n",
      "Processing city number 344 : madera\n",
      "Processing city number 345 : bongor\n",
      "Processing city number 346 : ust-nera\n",
      "Processing city number 347 : tual\n",
      "Processing city number 348 : bonthe\n",
      "Processing city number 349 : the valley\n",
      "Processing city number 350 : bokovskaya\n",
      "Processing city number 351 : cravo norte\n",
      "City not found. Next city...\n",
      "Processing city number 353 : yaan\n",
      "Processing city number 354 : xinqing\n",
      "Processing city number 355 : mikhaylovskoye\n",
      "Processing city number 356 : port-gentil\n",
      "Processing city number 357 : pehowa\n",
      "Processing city number 358 : darayya\n",
      "Processing city number 359 : talmenka\n",
      "Processing city number 360 : qaqortoq\n",
      "Processing city number 361 : ukiah\n",
      "City not found. Next city...\n",
      "Processing city number 363 : opera\n",
      "City not found. Next city...\n",
      "Processing city number 365 : makamba\n",
      "City not found. Next city...\n",
      "Processing city number 367 : neiafu\n",
      "Processing city number 368 : camapua\n",
      "Processing city number 369 : deputatskiy\n",
      "Processing city number 370 : maxixe\n",
      "Processing city number 371 : galle\n",
      "Processing city number 372 : kununurra\n",
      "Processing city number 373 : creel\n",
      "Processing city number 374 : hami\n",
      "City not found. Next city...\n",
      "Processing city number 376 : port blair\n",
      "Processing city number 377 : tierra colorada\n",
      "Processing city number 378 : dhali\n",
      "Processing city number 379 : fallon\n",
      "Processing city number 380 : ginir\n",
      "Processing city number 381 : waitara\n",
      "Processing city number 382 : nelson bay\n",
      "Processing city number 383 : opuwo\n",
      "Processing city number 384 : guatire\n",
      "Processing city number 385 : praya\n",
      "Processing city number 386 : lalmohan\n",
      "Processing city number 387 : coihaique\n",
      "Processing city number 388 : matias romero\n",
      "City not found. Next city...\n",
      "Processing city number 390 : katsuura\n",
      "Processing city number 391 : tigil\n",
      "City not found. Next city...\n",
      "Processing city number 393 : maymyo\n",
      "Processing city number 394 : macamic\n",
      "Processing city number 395 : muncar\n",
      "Processing city number 396 : solnechnyy\n",
      "City not found. Next city...\n",
      "Processing city number 398 : forestville\n",
      "Processing city number 399 : bambous virieux\n",
      "Processing city number 400 : ulaangom\n",
      "Processing city number 401 : vardo\n",
      "Processing city number 402 : karlskoga\n",
      "Processing city number 403 : kirakira\n",
      "Processing city number 404 : catuday\n",
      "Processing city number 405 : san rafael del sur\n",
      "Processing city number 406 : mehamn\n",
      "Processing city number 407 : sinnamary\n",
      "Processing city number 408 : berberati\n",
      "Processing city number 409 : poum\n",
      "Processing city number 410 : katsuyama\n",
      "Processing city number 411 : port hedland\n",
      "Processing city number 412 : marsa matruh\n",
      "City not found. Next city...\n",
      "City not found. Next city...\n",
      "Processing city number 415 : isla mujeres\n",
      "Processing city number 416 : garowe\n",
      "Processing city number 417 : yumen\n",
      "Processing city number 418 : bubaque\n",
      "Processing city number 419 : mikuni\n",
      "Processing city number 420 : uhlove\n",
      "Processing city number 421 : marsh harbour\n",
      "Processing city number 422 : prado\n",
      "Processing city number 423 : saint-augustin\n",
      "Processing city number 424 : kavaratti\n",
      "Processing city number 425 : hanyang\n",
      "Processing city number 426 : flin flon\n",
      "Processing city number 427 : bakal\n",
      "Processing city number 428 : tondano\n",
      "Processing city number 429 : dudinka\n",
      "Processing city number 430 : fayaoue\n",
      "Processing city number 431 : kinel-cherkassy\n",
      "Processing city number 432 : labuhan\n",
      "Processing city number 433 : dunedin\n",
      "Processing city number 434 : tomatlan\n",
      "Processing city number 435 : san quintin\n",
      "Processing city number 436 : kuala terengganu\n",
      "City not found. Next city...\n",
      "Processing city number 438 : buraydah\n",
      "Processing city number 439 : luba\n",
      "Processing city number 440 : bonfim\n"
     ]
    },
    {
     "name": "stdout",
     "output_type": "stream",
     "text": [
      "Processing city number 441 : anadyr\n",
      "Processing city number 442 : ghanzi\n",
      "Processing city number 443 : hualmay\n",
      "Processing city number 444 : payyannur\n",
      "Processing city number 445 : cidreira\n",
      "Processing city number 446 : biak\n",
      "Processing city number 447 : krasnoborsk\n",
      "City not found. Next city...\n",
      "Processing city number 449 : black forest\n",
      "City not found. Next city...\n",
      "Processing city number 451 : namatanai\n",
      "Processing city number 452 : kapustin yar\n",
      "Processing city number 453 : blagoyevo\n",
      "Processing city number 454 : umm lajj\n",
      "Processing city number 455 : nizwa\n",
      "Processing city number 456 : yerbogachen\n",
      "Processing city number 457 : geraldton\n",
      "Processing city number 458 : olga\n",
      "Processing city number 459 : axim\n",
      "Processing city number 460 : seoul\n",
      "Processing city number 461 : innisfail\n",
      "Processing city number 462 : lamu\n",
      "City not found. Next city...\n",
      "Processing city number 464 : husavik\n",
      "Processing city number 465 : bulaevo\n",
      "Processing city number 466 : gwadar\n",
      "Processing city number 467 : narsaq\n",
      "Processing city number 468 : ambilobe\n",
      "Processing city number 469 : bella union\n",
      "Processing city number 470 : zeya\n",
      "Processing city number 471 : ust-abakan\n",
      "Processing city number 472 : abonnema\n",
      "Processing city number 473 : cabedelo\n",
      "Processing city number 474 : atar\n",
      "City not found. Next city...\n",
      "Processing city number 476 : hambantota\n",
      "Processing city number 477 : gravdal\n",
      "Processing city number 478 : nouadhibou\n",
      "Processing city number 479 : chino valley\n",
      "Processing city number 480 : guilin\n",
      "Processing city number 481 : lovozero\n",
      "Processing city number 482 : tessalit\n",
      "Processing city number 483 : raton\n",
      "Processing city number 484 : portales\n",
      "Processing city number 485 : smithers\n",
      "City not found. Next city...\n",
      "Processing city number 487 : manoel urbano\n",
      "Processing city number 488 : surt\n",
      "Processing city number 489 : sao jose da coroa grande\n",
      "Processing city number 490 : sangmelima\n",
      "Processing city number 491 : sargur\n",
      "Processing city number 492 : shimoda\n",
      "Processing city number 493 : sorland\n",
      "Processing city number 494 : alta\n",
      "Processing city number 495 : ous\n",
      "Processing city number 496 : egvekinot\n",
      "Processing city number 497 : kita\n",
      "Processing city number 498 : tilichiki\n",
      "Processing city number 499 : tabuk\n",
      "Processing city number 500 : miri\n",
      "Processing city number 501 : coahuayana\n",
      "Processing city number 502 : dingle\n",
      "Processing city number 503 : birao\n",
      "City not found. Next city...\n",
      "City not found. Next city...\n",
      "Processing city number 506 : cacoal\n",
      "Processing city number 507 : nabire\n",
      "Processing city number 508 : aljezur\n",
      "Processing city number 509 : kurilsk\n",
      "City not found. Next city...\n",
      "Processing city number 511 : chara\n",
      "Processing city number 512 : cayenne\n",
      "Processing city number 513 : krasnovishersk\n",
      "Processing city number 514 : havoysund\n",
      "Processing city number 515 : petropavlovsk-kamchatskiy\n",
      "Processing city number 516 : visnes\n",
      "Processing city number 517 : luxor\n",
      "Processing city number 518 : derzhavinsk\n",
      "Processing city number 519 : vaitape\n",
      "Processing city number 520 : zaysan\n",
      "Processing city number 521 : novoagansk\n",
      "Processing city number 522 : goderich\n",
      "Processing city number 523 : barmer\n",
      "Processing city number 524 : khasan\n",
      "City not found. Next city...\n",
      "Processing city number 526 : northam\n",
      "Processing city number 527 : kudahuvadhoo\n",
      "Processing city number 528 : kupang\n",
      "Processing city number 529 : isiro\n",
      "Processing city number 530 : ankazoabo\n",
      "Processing city number 531 : lernakert\n",
      "Processing city number 532 : auki\n",
      "City not found. Next city...\n",
      "Processing city number 534 : pisco\n",
      "Processing city number 535 : oranjemund\n",
      "City not found. Next city...\n",
      "Processing city number 537 : pundaguitan\n",
      "Processing city number 538 : ust-maya\n",
      "Processing city number 539 : kruisfontein\n",
      "Processing city number 540 : gizo\n",
      "City not found. Next city...\n",
      "Processing city number 542 : bodmin\n",
      "Processing city number 543 : frunze\n",
      "Processing city number 544 : jennings\n",
      "City not found. Next city...\n",
      "Processing city number 546 : lanzhou\n",
      "Processing city number 547 : hofn\n",
      "Processing city number 548 : izhmorskiy\n",
      "Processing city number 549 : deskati\n",
      "Processing city number 550 : quatre cocos\n",
      "Processing city number 551 : sinazongwe\n",
      "Processing city number 552 : batagay-alyta\n",
      "Processing city number 553 : taoudenni\n",
      "Processing city number 554 : ayagoz\n",
      "Processing city number 555 : arvika\n",
      "Processing city number 556 : inuvik\n",
      "Processing city number 557 : ancud\n",
      "Processing city number 558 : arlit\n",
      "Processing city number 559 : puerto ayacucho\n",
      "Processing city number 560 : jiexiu\n",
      "City not found. Next city...\n",
      "Processing city number 562 : otane\n",
      "Processing city number 563 : maniitsoq\n",
      "Processing city number 564 : turayf\n",
      "Processing city number 565 : malibu\n",
      "Processing city number 566 : flinders\n",
      "Processing city number 567 : abu kamal\n",
      "Processing city number 568 : luwuk\n",
      "Processing city number 569 : iramuco\n",
      "Processing city number 570 : zaozerne\n",
      "City not found. Next city...\n",
      "Processing city number 572 : omboue\n",
      "Processing city number 573 : mayo\n",
      "City not found. Next city...\n",
      "Processing city number 575 : bud\n",
      "Processing city number 576 : rio gallegos\n",
      "Processing city number 577 : jiaonan\n",
      "Processing city number 578 : octeville\n",
      "Processing city number 579 : ondangwa\n",
      "Processing city number 580 : iralaya\n",
      "Processing city number 581 : medicine hat\n",
      "Processing city number 582 : grand-lahou\n",
      "City not found. Next city...\n",
      "Processing city number 584 : kutum\n",
      "Processing city number 585 : coruripe\n",
      "Processing city number 586 : kashi\n",
      "Processing city number 587 : moose factory\n",
      "Processing city number 588 : alto araguaia\n",
      "Processing city number 589 : aksarka\n",
      "Processing city number 590 : xichang\n",
      "Processing city number 591 : macusani\n",
      "Processing city number 592 : san cristobal\n",
      "Processing city number 593 : imbituba\n",
      "Processing city number 594 : iranshahr\n",
      "Processing city number 595 : trairi\n",
      "Processing city number 596 : eirunepe\n",
      "Processing city number 597 : kingsville\n",
      "Processing city number 598 : barahona\n",
      "Processing city number 599 : batemans bay\n",
      "Processing city number 600 : warmbad\n",
      "Processing city number 601 : paramonga\n",
      "City not found. Next city...\n",
      "Processing city number 603 : manchester\n",
      "City not found. Next city...\n",
      "Processing city number 605 : vestmanna\n",
      "Processing city number 606 : kungalv\n",
      "Processing city number 607 : maksatikha\n",
      "Processing city number 608 : alyangula\n",
      "Processing city number 609 : ust-ishim\n",
      "Processing city number 610 : san luis\n",
      "Processing city number 611 : esso\n",
      "Processing city number 612 : veraval\n",
      "Processing city number 613 : tucumcari\n",
      "Processing city number 614 : hasaki\n",
      "City not found. Next city...\n",
      "Processing city number 616 : kyzyl-suu\n",
      "Processing city number 617 : anchorage\n",
      "City Data Complete\n"
     ]
    }
   ],
   "source": [
    "url = \"http://api.openweathermap.org/data/2.5/weather?\"\n",
    "units = \"imperial\"\n",
    "query_url = f\"{url}appid={weather_api_key}&units={units}&q=\"\n",
    "\n",
    "city_name = []\n",
    "country = []\n",
    "latitude = []\n",
    "longitude = []\n",
    "weather_date = []\n",
    "temp = []\n",
    "humidity = []\n",
    "cloudiness = []\n",
    "wind_speed = []\n",
    "\n",
    "\n",
    "# For each cities in cities list, get data\n",
    "for city in range(len(cities)):\n",
    "    try:\n",
    "        response = requests.get(query_url + cities[city]).json()\n",
    "        city_name.append(response[\"name\"])\n",
    "        cloudiness.append(response[\"clouds\"][\"all\"])\n",
    "        country.append(response[\"sys\"][\"country\"])\n",
    "        weather_date.append(response[\"dt\"])\n",
    "        humidity.append(response[\"main\"][\"humidity\"])\n",
    "        latitude.append(response[\"coord\"][\"lat\"])\n",
    "        longitude.append(response[\"coord\"][\"lon\"])\n",
    "        temp.append(response['main']['temp_max'])\n",
    "        wind_speed.append(response[\"wind\"][\"speed\"])\n",
    "        \n",
    "    \n",
    "            \n",
    "        print(f\"Processing city number {city} : {cities[city]}\") \n",
    "  \n",
    "    except(KeyError, IndexError):\n",
    "        print(\"City not found. Next city...\")\n",
    "\n",
    "\n",
    "print(\"City Data Complete\")\n"
   ]
  },
  {
   "cell_type": "markdown",
   "metadata": {},
   "source": [
    "### Convert Raw Data to DataFrame\n",
    "* Export the city data into a .csv.\n",
    "* Display the DataFrame"
   ]
  },
  {
   "cell_type": "code",
   "execution_count": 24,
   "metadata": {},
   "outputs": [],
   "source": [
    "weather_df = pd.DataFrame({'City' : city_name,\n",
    "                          'Country' : country ,\n",
    "                          'Lat' : latitude , \n",
    "                          'Lng' : longitude ,\n",
    "                          'Date' : weather_date ,\n",
    "                          'Max Temp' : temp ,\n",
    "                          'Humidity' : humidity ,\n",
    "                          'Cloudiness' : cloudiness ,\n",
    "                          'Wind Speed' : wind_speed })\n",
    "weather_df.to_csv(\"../output_data/cities.csv\", index = False)"
   ]
  },
  {
   "cell_type": "code",
   "execution_count": 25,
   "metadata": {},
   "outputs": [
    {
     "data": {
      "text/html": [
       "<div>\n",
       "<style scoped>\n",
       "    .dataframe tbody tr th:only-of-type {\n",
       "        vertical-align: middle;\n",
       "    }\n",
       "\n",
       "    .dataframe tbody tr th {\n",
       "        vertical-align: top;\n",
       "    }\n",
       "\n",
       "    .dataframe thead th {\n",
       "        text-align: right;\n",
       "    }\n",
       "</style>\n",
       "<table border=\"1\" class=\"dataframe\">\n",
       "  <thead>\n",
       "    <tr style=\"text-align: right;\">\n",
       "      <th></th>\n",
       "      <th>City</th>\n",
       "      <th>Country</th>\n",
       "      <th>Lat</th>\n",
       "      <th>Lng</th>\n",
       "      <th>Date</th>\n",
       "      <th>Max Temp</th>\n",
       "      <th>Humidity</th>\n",
       "      <th>Cloudiness</th>\n",
       "      <th>Wind Speed</th>\n",
       "    </tr>\n",
       "  </thead>\n",
       "  <tbody>\n",
       "    <tr>\n",
       "      <th>0</th>\n",
       "      <td>Villafranca de los Barros</td>\n",
       "      <td>ES</td>\n",
       "      <td>38.56</td>\n",
       "      <td>-6.34</td>\n",
       "      <td>1608158858</td>\n",
       "      <td>51.01</td>\n",
       "      <td>96</td>\n",
       "      <td>85</td>\n",
       "      <td>1.01</td>\n",
       "    </tr>\n",
       "    <tr>\n",
       "      <th>1</th>\n",
       "      <td>Souillac</td>\n",
       "      <td>MU</td>\n",
       "      <td>-20.52</td>\n",
       "      <td>57.52</td>\n",
       "      <td>1608158847</td>\n",
       "      <td>77.00</td>\n",
       "      <td>88</td>\n",
       "      <td>40</td>\n",
       "      <td>11.41</td>\n",
       "    </tr>\n",
       "    <tr>\n",
       "      <th>2</th>\n",
       "      <td>Salalah</td>\n",
       "      <td>OM</td>\n",
       "      <td>17.02</td>\n",
       "      <td>54.09</td>\n",
       "      <td>1608158859</td>\n",
       "      <td>69.80</td>\n",
       "      <td>77</td>\n",
       "      <td>20</td>\n",
       "      <td>2.24</td>\n",
       "    </tr>\n",
       "    <tr>\n",
       "      <th>3</th>\n",
       "      <td>Saint George</td>\n",
       "      <td>US</td>\n",
       "      <td>37.10</td>\n",
       "      <td>-113.58</td>\n",
       "      <td>1608158859</td>\n",
       "      <td>52.00</td>\n",
       "      <td>31</td>\n",
       "      <td>1</td>\n",
       "      <td>3.36</td>\n",
       "    </tr>\n",
       "    <tr>\n",
       "      <th>4</th>\n",
       "      <td>Ternate</td>\n",
       "      <td>ID</td>\n",
       "      <td>0.80</td>\n",
       "      <td>127.40</td>\n",
       "      <td>1608158859</td>\n",
       "      <td>82.38</td>\n",
       "      <td>77</td>\n",
       "      <td>100</td>\n",
       "      <td>13.09</td>\n",
       "    </tr>\n",
       "    <tr>\n",
       "      <th>...</th>\n",
       "      <td>...</td>\n",
       "      <td>...</td>\n",
       "      <td>...</td>\n",
       "      <td>...</td>\n",
       "      <td>...</td>\n",
       "      <td>...</td>\n",
       "      <td>...</td>\n",
       "      <td>...</td>\n",
       "      <td>...</td>\n",
       "    </tr>\n",
       "    <tr>\n",
       "      <th>555</th>\n",
       "      <td>Verāval</td>\n",
       "      <td>IN</td>\n",
       "      <td>20.90</td>\n",
       "      <td>70.37</td>\n",
       "      <td>1608158942</td>\n",
       "      <td>66.83</td>\n",
       "      <td>58</td>\n",
       "      <td>0</td>\n",
       "      <td>14.83</td>\n",
       "    </tr>\n",
       "    <tr>\n",
       "      <th>556</th>\n",
       "      <td>Tucumcari</td>\n",
       "      <td>US</td>\n",
       "      <td>35.17</td>\n",
       "      <td>-103.72</td>\n",
       "      <td>1608158943</td>\n",
       "      <td>51.80</td>\n",
       "      <td>23</td>\n",
       "      <td>1</td>\n",
       "      <td>6.93</td>\n",
       "    </tr>\n",
       "    <tr>\n",
       "      <th>557</th>\n",
       "      <td>Hasaki</td>\n",
       "      <td>JP</td>\n",
       "      <td>35.73</td>\n",
       "      <td>140.83</td>\n",
       "      <td>1608158943</td>\n",
       "      <td>24.80</td>\n",
       "      <td>85</td>\n",
       "      <td>20</td>\n",
       "      <td>4.70</td>\n",
       "    </tr>\n",
       "    <tr>\n",
       "      <th>558</th>\n",
       "      <td>Kyzyl-Suu</td>\n",
       "      <td>KG</td>\n",
       "      <td>42.34</td>\n",
       "      <td>78.01</td>\n",
       "      <td>1608158943</td>\n",
       "      <td>17.76</td>\n",
       "      <td>77</td>\n",
       "      <td>58</td>\n",
       "      <td>7.78</td>\n",
       "    </tr>\n",
       "    <tr>\n",
       "      <th>559</th>\n",
       "      <td>Anchorage</td>\n",
       "      <td>US</td>\n",
       "      <td>61.22</td>\n",
       "      <td>-149.90</td>\n",
       "      <td>1608158855</td>\n",
       "      <td>27.00</td>\n",
       "      <td>86</td>\n",
       "      <td>90</td>\n",
       "      <td>5.82</td>\n",
       "    </tr>\n",
       "  </tbody>\n",
       "</table>\n",
       "<p>560 rows × 9 columns</p>\n",
       "</div>"
      ],
      "text/plain": [
       "                          City Country    Lat     Lng        Date  Max Temp  \\\n",
       "0    Villafranca de los Barros      ES  38.56   -6.34  1608158858     51.01   \n",
       "1                     Souillac      MU -20.52   57.52  1608158847     77.00   \n",
       "2                      Salalah      OM  17.02   54.09  1608158859     69.80   \n",
       "3                 Saint George      US  37.10 -113.58  1608158859     52.00   \n",
       "4                      Ternate      ID   0.80  127.40  1608158859     82.38   \n",
       "..                         ...     ...    ...     ...         ...       ...   \n",
       "555                    Verāval      IN  20.90   70.37  1608158942     66.83   \n",
       "556                  Tucumcari      US  35.17 -103.72  1608158943     51.80   \n",
       "557                     Hasaki      JP  35.73  140.83  1608158943     24.80   \n",
       "558                  Kyzyl-Suu      KG  42.34   78.01  1608158943     17.76   \n",
       "559                  Anchorage      US  61.22 -149.90  1608158855     27.00   \n",
       "\n",
       "     Humidity  Cloudiness  Wind Speed  \n",
       "0          96          85        1.01  \n",
       "1          88          40       11.41  \n",
       "2          77          20        2.24  \n",
       "3          31           1        3.36  \n",
       "4          77         100       13.09  \n",
       "..        ...         ...         ...  \n",
       "555        58           0       14.83  \n",
       "556        23           1        6.93  \n",
       "557        85          20        4.70  \n",
       "558        77          58        7.78  \n",
       "559        86          90        5.82  \n",
       "\n",
       "[560 rows x 9 columns]"
      ]
     },
     "execution_count": 25,
     "metadata": {},
     "output_type": "execute_result"
    }
   ],
   "source": [
    "weather_df"
   ]
  },
  {
   "cell_type": "markdown",
   "metadata": {},
   "source": [
    "## Inspect the data and remove the cities where the humidity > 100%.\n",
    "----\n",
    "Skip this step if there are no cities that have humidity > 100%. "
   ]
  },
  {
   "cell_type": "code",
   "execution_count": 26,
   "metadata": {},
   "outputs": [
    {
     "data": {
      "text/html": [
       "<div>\n",
       "<style scoped>\n",
       "    .dataframe tbody tr th:only-of-type {\n",
       "        vertical-align: middle;\n",
       "    }\n",
       "\n",
       "    .dataframe tbody tr th {\n",
       "        vertical-align: top;\n",
       "    }\n",
       "\n",
       "    .dataframe thead th {\n",
       "        text-align: right;\n",
       "    }\n",
       "</style>\n",
       "<table border=\"1\" class=\"dataframe\">\n",
       "  <thead>\n",
       "    <tr style=\"text-align: right;\">\n",
       "      <th></th>\n",
       "      <th>City</th>\n",
       "      <th>Country</th>\n",
       "      <th>Lat</th>\n",
       "      <th>Lng</th>\n",
       "      <th>Date</th>\n",
       "      <th>Max Temp</th>\n",
       "      <th>Humidity</th>\n",
       "      <th>Cloudiness</th>\n",
       "      <th>Wind Speed</th>\n",
       "    </tr>\n",
       "  </thead>\n",
       "  <tbody>\n",
       "    <tr>\n",
       "      <th>366</th>\n",
       "      <td>Vardø</td>\n",
       "      <td>NO</td>\n",
       "      <td>70.37</td>\n",
       "      <td>31.11</td>\n",
       "      <td>1608158913</td>\n",
       "      <td>23.00</td>\n",
       "      <td>100</td>\n",
       "      <td>75</td>\n",
       "      <td>11.41</td>\n",
       "    </tr>\n",
       "    <tr>\n",
       "      <th>149</th>\n",
       "      <td>Horana</td>\n",
       "      <td>LK</td>\n",
       "      <td>6.72</td>\n",
       "      <td>80.06</td>\n",
       "      <td>1608158880</td>\n",
       "      <td>75.20</td>\n",
       "      <td>100</td>\n",
       "      <td>40</td>\n",
       "      <td>3.36</td>\n",
       "    </tr>\n",
       "    <tr>\n",
       "      <th>66</th>\n",
       "      <td>Imeni Vorovskogo</td>\n",
       "      <td>RU</td>\n",
       "      <td>55.72</td>\n",
       "      <td>38.34</td>\n",
       "      <td>1608158868</td>\n",
       "      <td>28.40</td>\n",
       "      <td>100</td>\n",
       "      <td>90</td>\n",
       "      <td>6.71</td>\n",
       "    </tr>\n",
       "    <tr>\n",
       "      <th>457</th>\n",
       "      <td>Marabu</td>\n",
       "      <td>MY</td>\n",
       "      <td>4.41</td>\n",
       "      <td>114.01</td>\n",
       "      <td>1608158927</td>\n",
       "      <td>75.20</td>\n",
       "      <td>100</td>\n",
       "      <td>40</td>\n",
       "      <td>2.24</td>\n",
       "    </tr>\n",
       "    <tr>\n",
       "      <th>463</th>\n",
       "      <td>Aljezur</td>\n",
       "      <td>PT</td>\n",
       "      <td>37.32</td>\n",
       "      <td>-8.80</td>\n",
       "      <td>1608158928</td>\n",
       "      <td>51.01</td>\n",
       "      <td>100</td>\n",
       "      <td>20</td>\n",
       "      <td>1.01</td>\n",
       "    </tr>\n",
       "    <tr>\n",
       "      <th>...</th>\n",
       "      <td>...</td>\n",
       "      <td>...</td>\n",
       "      <td>...</td>\n",
       "      <td>...</td>\n",
       "      <td>...</td>\n",
       "      <td>...</td>\n",
       "      <td>...</td>\n",
       "      <td>...</td>\n",
       "      <td>...</td>\n",
       "    </tr>\n",
       "    <tr>\n",
       "      <th>437</th>\n",
       "      <td>Chino Valley</td>\n",
       "      <td>US</td>\n",
       "      <td>34.76</td>\n",
       "      <td>-112.45</td>\n",
       "      <td>1608158760</td>\n",
       "      <td>55.00</td>\n",
       "      <td>17</td>\n",
       "      <td>1</td>\n",
       "      <td>9.17</td>\n",
       "    </tr>\n",
       "    <tr>\n",
       "      <th>442</th>\n",
       "      <td>Portales</td>\n",
       "      <td>US</td>\n",
       "      <td>34.19</td>\n",
       "      <td>-103.33</td>\n",
       "      <td>1608158925</td>\n",
       "      <td>51.80</td>\n",
       "      <td>17</td>\n",
       "      <td>1</td>\n",
       "      <td>3.94</td>\n",
       "    </tr>\n",
       "    <tr>\n",
       "      <th>112</th>\n",
       "      <td>Comodoro Rivadavia</td>\n",
       "      <td>AR</td>\n",
       "      <td>-45.87</td>\n",
       "      <td>-67.50</td>\n",
       "      <td>1608158875</td>\n",
       "      <td>82.40</td>\n",
       "      <td>17</td>\n",
       "      <td>0</td>\n",
       "      <td>18.34</td>\n",
       "    </tr>\n",
       "    <tr>\n",
       "      <th>245</th>\n",
       "      <td>Hermosillo</td>\n",
       "      <td>MX</td>\n",
       "      <td>29.07</td>\n",
       "      <td>-110.97</td>\n",
       "      <td>1608158895</td>\n",
       "      <td>75.99</td>\n",
       "      <td>15</td>\n",
       "      <td>0</td>\n",
       "      <td>4.00</td>\n",
       "    </tr>\n",
       "    <tr>\n",
       "      <th>98</th>\n",
       "      <td>La Palma</td>\n",
       "      <td>US</td>\n",
       "      <td>33.85</td>\n",
       "      <td>-118.05</td>\n",
       "      <td>1608158872</td>\n",
       "      <td>75.20</td>\n",
       "      <td>13</td>\n",
       "      <td>1</td>\n",
       "      <td>3.36</td>\n",
       "    </tr>\n",
       "  </tbody>\n",
       "</table>\n",
       "<p>560 rows × 9 columns</p>\n",
       "</div>"
      ],
      "text/plain": [
       "                   City Country    Lat     Lng        Date  Max Temp  \\\n",
       "366               Vardø      NO  70.37   31.11  1608158913     23.00   \n",
       "149              Horana      LK   6.72   80.06  1608158880     75.20   \n",
       "66     Imeni Vorovskogo      RU  55.72   38.34  1608158868     28.40   \n",
       "457              Marabu      MY   4.41  114.01  1608158927     75.20   \n",
       "463             Aljezur      PT  37.32   -8.80  1608158928     51.01   \n",
       "..                  ...     ...    ...     ...         ...       ...   \n",
       "437        Chino Valley      US  34.76 -112.45  1608158760     55.00   \n",
       "442            Portales      US  34.19 -103.33  1608158925     51.80   \n",
       "112  Comodoro Rivadavia      AR -45.87  -67.50  1608158875     82.40   \n",
       "245          Hermosillo      MX  29.07 -110.97  1608158895     75.99   \n",
       "98             La Palma      US  33.85 -118.05  1608158872     75.20   \n",
       "\n",
       "     Humidity  Cloudiness  Wind Speed  \n",
       "366       100          75       11.41  \n",
       "149       100          40        3.36  \n",
       "66        100          90        6.71  \n",
       "457       100          40        2.24  \n",
       "463       100          20        1.01  \n",
       "..        ...         ...         ...  \n",
       "437        17           1        9.17  \n",
       "442        17           1        3.94  \n",
       "112        17           0       18.34  \n",
       "245        15           0        4.00  \n",
       "98         13           1        3.36  \n",
       "\n",
       "[560 rows x 9 columns]"
      ]
     },
     "execution_count": 26,
     "metadata": {},
     "output_type": "execute_result"
    }
   ],
   "source": [
    "weather_df['Humidity'].astype(float)\n",
    "weather_sorted = weather_df.sort_values(by='Humidity', ascending=False)\n",
    "weather_sorted\n",
    "#Sorted shows none are above 100 in this example. However, function added if data is remeasured and increases above 100%"
   ]
  },
  {
   "cell_type": "code",
   "execution_count": 27,
   "metadata": {},
   "outputs": [],
   "source": [
    "#  Get the indices of cities that have humidity over 100%.\n"
   ]
  },
  {
   "cell_type": "code",
   "execution_count": 28,
   "metadata": {},
   "outputs": [
    {
     "data": {
      "text/html": [
       "<div>\n",
       "<style scoped>\n",
       "    .dataframe tbody tr th:only-of-type {\n",
       "        vertical-align: middle;\n",
       "    }\n",
       "\n",
       "    .dataframe tbody tr th {\n",
       "        vertical-align: top;\n",
       "    }\n",
       "\n",
       "    .dataframe thead th {\n",
       "        text-align: right;\n",
       "    }\n",
       "</style>\n",
       "<table border=\"1\" class=\"dataframe\">\n",
       "  <thead>\n",
       "    <tr style=\"text-align: right;\">\n",
       "      <th></th>\n",
       "      <th>City</th>\n",
       "      <th>Country</th>\n",
       "      <th>Lat</th>\n",
       "      <th>Lng</th>\n",
       "      <th>Date</th>\n",
       "      <th>Max Temp</th>\n",
       "      <th>Humidity</th>\n",
       "      <th>Cloudiness</th>\n",
       "      <th>Wind Speed</th>\n",
       "    </tr>\n",
       "  </thead>\n",
       "  <tbody>\n",
       "    <tr>\n",
       "      <th>0</th>\n",
       "      <td>Villafranca de los Barros</td>\n",
       "      <td>ES</td>\n",
       "      <td>38.56</td>\n",
       "      <td>-6.34</td>\n",
       "      <td>1608158858</td>\n",
       "      <td>51.01</td>\n",
       "      <td>96</td>\n",
       "      <td>85</td>\n",
       "      <td>1.01</td>\n",
       "    </tr>\n",
       "    <tr>\n",
       "      <th>1</th>\n",
       "      <td>Souillac</td>\n",
       "      <td>MU</td>\n",
       "      <td>-20.52</td>\n",
       "      <td>57.52</td>\n",
       "      <td>1608158847</td>\n",
       "      <td>77.00</td>\n",
       "      <td>88</td>\n",
       "      <td>40</td>\n",
       "      <td>11.41</td>\n",
       "    </tr>\n",
       "    <tr>\n",
       "      <th>2</th>\n",
       "      <td>Salalah</td>\n",
       "      <td>OM</td>\n",
       "      <td>17.02</td>\n",
       "      <td>54.09</td>\n",
       "      <td>1608158859</td>\n",
       "      <td>69.80</td>\n",
       "      <td>77</td>\n",
       "      <td>20</td>\n",
       "      <td>2.24</td>\n",
       "    </tr>\n",
       "    <tr>\n",
       "      <th>3</th>\n",
       "      <td>Saint George</td>\n",
       "      <td>US</td>\n",
       "      <td>37.10</td>\n",
       "      <td>-113.58</td>\n",
       "      <td>1608158859</td>\n",
       "      <td>52.00</td>\n",
       "      <td>31</td>\n",
       "      <td>1</td>\n",
       "      <td>3.36</td>\n",
       "    </tr>\n",
       "    <tr>\n",
       "      <th>4</th>\n",
       "      <td>Ternate</td>\n",
       "      <td>ID</td>\n",
       "      <td>0.80</td>\n",
       "      <td>127.40</td>\n",
       "      <td>1608158859</td>\n",
       "      <td>82.38</td>\n",
       "      <td>77</td>\n",
       "      <td>100</td>\n",
       "      <td>13.09</td>\n",
       "    </tr>\n",
       "    <tr>\n",
       "      <th>...</th>\n",
       "      <td>...</td>\n",
       "      <td>...</td>\n",
       "      <td>...</td>\n",
       "      <td>...</td>\n",
       "      <td>...</td>\n",
       "      <td>...</td>\n",
       "      <td>...</td>\n",
       "      <td>...</td>\n",
       "      <td>...</td>\n",
       "    </tr>\n",
       "    <tr>\n",
       "      <th>555</th>\n",
       "      <td>Verāval</td>\n",
       "      <td>IN</td>\n",
       "      <td>20.90</td>\n",
       "      <td>70.37</td>\n",
       "      <td>1608158942</td>\n",
       "      <td>66.83</td>\n",
       "      <td>58</td>\n",
       "      <td>0</td>\n",
       "      <td>14.83</td>\n",
       "    </tr>\n",
       "    <tr>\n",
       "      <th>556</th>\n",
       "      <td>Tucumcari</td>\n",
       "      <td>US</td>\n",
       "      <td>35.17</td>\n",
       "      <td>-103.72</td>\n",
       "      <td>1608158943</td>\n",
       "      <td>51.80</td>\n",
       "      <td>23</td>\n",
       "      <td>1</td>\n",
       "      <td>6.93</td>\n",
       "    </tr>\n",
       "    <tr>\n",
       "      <th>557</th>\n",
       "      <td>Hasaki</td>\n",
       "      <td>JP</td>\n",
       "      <td>35.73</td>\n",
       "      <td>140.83</td>\n",
       "      <td>1608158943</td>\n",
       "      <td>24.80</td>\n",
       "      <td>85</td>\n",
       "      <td>20</td>\n",
       "      <td>4.70</td>\n",
       "    </tr>\n",
       "    <tr>\n",
       "      <th>558</th>\n",
       "      <td>Kyzyl-Suu</td>\n",
       "      <td>KG</td>\n",
       "      <td>42.34</td>\n",
       "      <td>78.01</td>\n",
       "      <td>1608158943</td>\n",
       "      <td>17.76</td>\n",
       "      <td>77</td>\n",
       "      <td>58</td>\n",
       "      <td>7.78</td>\n",
       "    </tr>\n",
       "    <tr>\n",
       "      <th>559</th>\n",
       "      <td>Anchorage</td>\n",
       "      <td>US</td>\n",
       "      <td>61.22</td>\n",
       "      <td>-149.90</td>\n",
       "      <td>1608158855</td>\n",
       "      <td>27.00</td>\n",
       "      <td>86</td>\n",
       "      <td>90</td>\n",
       "      <td>5.82</td>\n",
       "    </tr>\n",
       "  </tbody>\n",
       "</table>\n",
       "<p>560 rows × 9 columns</p>\n",
       "</div>"
      ],
      "text/plain": [
       "                          City Country    Lat     Lng        Date  Max Temp  \\\n",
       "0    Villafranca de los Barros      ES  38.56   -6.34  1608158858     51.01   \n",
       "1                     Souillac      MU -20.52   57.52  1608158847     77.00   \n",
       "2                      Salalah      OM  17.02   54.09  1608158859     69.80   \n",
       "3                 Saint George      US  37.10 -113.58  1608158859     52.00   \n",
       "4                      Ternate      ID   0.80  127.40  1608158859     82.38   \n",
       "..                         ...     ...    ...     ...         ...       ...   \n",
       "555                    Verāval      IN  20.90   70.37  1608158942     66.83   \n",
       "556                  Tucumcari      US  35.17 -103.72  1608158943     51.80   \n",
       "557                     Hasaki      JP  35.73  140.83  1608158943     24.80   \n",
       "558                  Kyzyl-Suu      KG  42.34   78.01  1608158943     17.76   \n",
       "559                  Anchorage      US  61.22 -149.90  1608158855     27.00   \n",
       "\n",
       "     Humidity  Cloudiness  Wind Speed  \n",
       "0          96          85        1.01  \n",
       "1          88          40       11.41  \n",
       "2          77          20        2.24  \n",
       "3          31           1        3.36  \n",
       "4          77         100       13.09  \n",
       "..        ...         ...         ...  \n",
       "555        58           0       14.83  \n",
       "556        23           1        6.93  \n",
       "557        85          20        4.70  \n",
       "558        77          58        7.78  \n",
       "559        86          90        5.82  \n",
       "\n",
       "[560 rows x 9 columns]"
      ]
     },
     "execution_count": 28,
     "metadata": {},
     "output_type": "execute_result"
    }
   ],
   "source": [
    "# Make a new DataFrame equal to the city data to drop all humidity outliers by index.\n",
    "# Passing \"inplace=False\" will make a copy of the city_data DataFrame, which we call \"clean_city_data\".\n",
    "clean_city_data = weather_df[weather_df.Humidity <= 100]\n",
    "clean_city_data"
   ]
  },
  {
   "cell_type": "code",
   "execution_count": 29,
   "metadata": {},
   "outputs": [],
   "source": [
    "#Renames clean_city_data to weather_df to be passed into plots below\n",
    "weather_df = clean_city_data\n"
   ]
  },
  {
   "cell_type": "markdown",
   "metadata": {},
   "source": [
    "## Plotting the Data\n",
    "* Use proper labeling of the plots using plot titles (including date of analysis) and axes labels.\n",
    "* Save the plotted figures as .pngs."
   ]
  },
  {
   "cell_type": "markdown",
   "metadata": {},
   "source": [
    "## Latitude vs. Temperature Plot"
   ]
  },
  {
   "cell_type": "code",
   "execution_count": 30,
   "metadata": {
    "scrolled": true
   },
   "outputs": [
    {
     "data": {
      "image/png": "[encoded data removed]",
      "text/plain": [
       "<Figure size 432x288 with 1 Axes>"
      ]
     },
     "metadata": {
      "needs_background": "light"
     },
     "output_type": "display_data"
    },
    {
     "name": "stdout",
     "output_type": "stream",
     "text": [
      "This plot shows the comparison of temperature and latitude. As the latitude moves further away from 0 the temperature decrease, because you are also moving further away from the equator\n"
     ]
    }
   ],
   "source": [
    "# Create Latitude vs. Temperature Plot scatter plot\n",
    "plt.scatter(weather_df[\"Lat\"], weather_df[\"Max Temp\"], facecolor = \"green\")\n",
    "\n",
    "# Set title\n",
    "plt.title(\"City Latitude vs. Max Temperature (12/10/20)\")\n",
    "\n",
    "# Set x axis label\n",
    "plt.xlabel(\"Latitude\")\n",
    "\n",
    "# Set y axis label\n",
    "plt.ylabel(\"Max Temperature (F)\")\n",
    "\n",
    "# Set grid line\n",
    "plt.grid(linestyle='-', linewidth=1, alpha = 0.5)\n",
    "\n",
    "# Save the plotted figure as .pngs\n",
    "plt.savefig(\"Images/City Latitude vs Max Temperature.png\")\n",
    "\n",
    "plt.show()\n",
    "print ('This plot shows the comparison of temperature and latitude. As the latitude moves further away from 0 the temperature decrease, because you are also moving further away from the equator')"
   ]
  },
  {
   "cell_type": "markdown",
   "metadata": {},
   "source": [
    "## Latitude vs. Humidity Plot"
   ]
  },
  {
   "cell_type": "code",
   "execution_count": 31,
   "metadata": {},
   "outputs": [
    {
     "data": {
      "image/png": "[encoded data removed]",
      "text/plain": [
       "<Figure size 432x288 with 1 Axes>"
      ]
     },
     "metadata": {
      "needs_background": "light"
     },
     "output_type": "display_data"
    },
    {
     "name": "stdout",
     "output_type": "stream",
     "text": [
      "The comparison of humidity and latitude does not show a trend in data. Although humidity tends to be focused higher around latitude 0 (the equator)\n"
     ]
    }
   ],
   "source": [
    "# Create Latitude vs. Temperature Plot scatter plot\n",
    "plt.scatter(weather_df[\"Lat\"], weather_df[\"Humidity\"], facecolor = \"blue\")\n",
    "\n",
    "\n",
    "plt.title(\"City Latitude vs. Humidity (12/10/20)\")\n",
    "\n",
    "\n",
    "plt.xlabel(\"Latitude\")\n",
    "\n",
    "\n",
    "plt.ylabel(\"Humidity\")\n",
    "\n",
    "\n",
    "plt.grid(linestyle='-', linewidth=1, alpha = 0.5)\n",
    "\n",
    "\n",
    "plt.savefig(\"Images/City Latitude vs Humidity.png\")\n",
    "\n",
    "plt.show()\n",
    "\n",
    "print(\"The comparison of humidity and latitude does not show a trend in data. Although humidity tends to be focused higher around latitude 0 (the equator)\")"
   ]
  },
  {
   "cell_type": "markdown",
   "metadata": {},
   "source": [
    "## Latitude vs. Cloudiness Plot"
   ]
  },
  {
   "cell_type": "code",
   "execution_count": 32,
   "metadata": {},
   "outputs": [
    {
     "data": {
      "image/png": "[encoded data removed]",
      "text/plain": [
       "<Figure size 432x288 with 1 Axes>"
      ]
     },
     "metadata": {
      "needs_background": "light"
     },
     "output_type": "display_data"
    },
    {
     "name": "stdout",
     "output_type": "stream",
     "text": [
      "Cloudiness shows no correllation with latitude and seems to be evenly dispersed over all latitudes\n"
     ]
    }
   ],
   "source": [
    "# Create Latitude vs. Temperature Plot scatter plot\n",
    "plt.scatter(weather_df[\"Lat\"], weather_df[\"Cloudiness\"], facecolor = \"grey\")\n",
    "\n",
    "\n",
    "plt.title(\"City Latitude vs. Cloudiness (12/10/20)\")\n",
    "\n",
    "\n",
    "plt.xlabel(\"Latitude\")\n",
    "\n",
    "\n",
    "plt.ylabel(\"Cloudiness\")\n",
    "\n",
    "\n",
    "plt.grid(linestyle='-', linewidth=1, alpha = 0.5)\n",
    "\n",
    "\n",
    "plt.savefig(\"Images/City Latitude vs Cloudiness.png\")\n",
    "\n",
    "plt.show()\n",
    "\n",
    "print('Cloudiness shows no correllation with latitude and seems to be evenly dispersed over all latitudes')"
   ]
  },
  {
   "cell_type": "markdown",
   "metadata": {},
   "source": [
    "## Latitude vs. Wind Speed Plot"
   ]
  },
  {
   "cell_type": "code",
   "execution_count": 33,
   "metadata": {},
   "outputs": [
    {
     "data": {
      "image/png": "[encoded data removed]",
      "text/plain": [
       "<Figure size 432x288 with 1 Axes>"
      ]
     },
     "metadata": {
      "needs_background": "light"
     },
     "output_type": "display_data"
    },
    {
     "name": "stdout",
     "output_type": "stream",
     "text": [
      "When comparing wind speed with latitude it can be seen that wind spends generally increases as latitude moves away from 0 (the equatore)\n"
     ]
    }
   ],
   "source": [
    "# Create Latitude vs. Temperature Plot scatter plot\n",
    "plt.scatter(weather_df[\"Lat\"], weather_df[\"Wind Speed\"], facecolor = \"yellow\")\n",
    "\n",
    "\n",
    "plt.title(\"City Latitude vs. Wind Speed (12/10/20)\")\n",
    "\n",
    "\n",
    "plt.xlabel(\"Latitude\")\n",
    "\n",
    "\n",
    "plt.ylabel(\"Wind Speed\")\n",
    "\n",
    "\n",
    "plt.grid(linestyle='-', linewidth=1, alpha = 0.5)\n",
    "\n",
    "\n",
    "plt.savefig(\"Images/City Latitude vs Wind Speed.png\")\n",
    "\n",
    "plt.show()\n",
    "\n",
    "print('When comparing wind speed with latitude it can be seen that wind spends generally increases as latitude moves away from 0 (the equatore)')"
   ]
  },
  {
   "cell_type": "markdown",
   "metadata": {},
   "source": [
    "## Linear Regression"
   ]
  },
  {
   "cell_type": "code",
   "execution_count": 34,
   "metadata": {},
   "outputs": [],
   "source": [
    "northern_hemi = weather_df.loc[weather_df['Lat'] >= 0]\n",
    "southern_hemi = weather_df.loc[weather_df['Lat'] < 0]"
   ]
  },
  {
   "cell_type": "markdown",
   "metadata": {},
   "source": [
    "####  Northern Hemisphere - Max Temp vs. Latitude Linear Regression"
   ]
  },
  {
   "cell_type": "code",
   "execution_count": 35,
   "metadata": {},
   "outputs": [
    {
     "name": "stdout",
     "output_type": "stream",
     "text": [
      "The r-squared is: 0.7090317742938278\n"
     ]
    },
    {
     "data": {
      "image/png": "[encoded data removed]",
      "text/plain": [
       "<Figure size 432x288 with 1 Axes>"
      ]
     },
     "metadata": {
      "needs_background": "light"
     },
     "output_type": "display_data"
    },
    {
     "name": "stdout",
     "output_type": "stream",
     "text": [
      "In the Northern Hemisphere as latitude increases the maximum temperature decreases. The r value is close to 1 for this data shows there is good correlation between latitude and maximum temperature.\n"
     ]
    },
    {
     "data": {
      "text/plain": [
       "<Figure size 432x288 with 0 Axes>"
      ]
     },
     "metadata": {},
     "output_type": "display_data"
    }
   ],
   "source": [
    "x_values = northern_hemi['Max Temp']\n",
    "y_values = northern_hemi['Lat']\n",
    "(slope, intercept, rvalue, pvalue, stderr) = linregress(x_values, y_values)\n",
    "regress_values = x_values * slope + intercept\n",
    "line_eq = \"y = \" + str(round(slope,2)) + \"x + \" + str(round(intercept,2))\n",
    "plt.scatter(x_values,y_values)\n",
    "plt.plot(x_values,regress_values,\"r-\")\n",
    "plt.grid()\n",
    "plt.title('Northern Hemisphere - Max Temp vs. Latitude Linear Regression')\n",
    "plt.annotate(line_eq,(-20,10),fontsize=15,color=\"red\")\n",
    "plt.xlabel('Maximum Temperature (F)')\n",
    "plt.ylabel('Latitude')\n",
    "print(f\"The r-squared is: {rvalue**2}\")\n",
    "plt.show()\n",
    "plt.savefig(\"Images/Northern Hemisphere vs Max Temp LR.png\")\n",
    "\n",
    "print('In the Northern Hemisphere as latitude increases the maximum temperature decreases. The r value is close to 1 for this data shows there is good correlation between latitude and maximum temperature.')\n"
   ]
  },
  {
   "cell_type": "markdown",
   "metadata": {},
   "source": [
    "####  Southern Hemisphere - Max Temp vs. Latitude Linear Regression"
   ]
  },
  {
   "cell_type": "code",
   "execution_count": 36,
   "metadata": {},
   "outputs": [
    {
     "name": "stdout",
     "output_type": "stream",
     "text": [
      "The r-squared is: 0.3241787077477794\n"
     ]
    },
    {
     "data": {
      "image/png": "[encoded data removed]",
      "text/plain": [
       "<Figure size 432x288 with 1 Axes>"
      ]
     },
     "metadata": {
      "needs_background": "light"
     },
     "output_type": "display_data"
    },
    {
     "name": "stdout",
     "output_type": "stream",
     "text": [
      "In the southern hemisphere the opposite relationship is true and as latitude decreases the temperature also decreases. However, the r value for this data is not as close to 1 indicating the correlation between latitude and temperature is not as great in the southern hemisphere.\n"
     ]
    },
    {
     "data": {
      "text/plain": [
       "<Figure size 432x288 with 0 Axes>"
      ]
     },
     "metadata": {},
     "output_type": "display_data"
    }
   ],
   "source": [
    "x_values = southern_hemi['Max Temp']\n",
    "y_values = southern_hemi['Lat']\n",
    "(slope, intercept, rvalue, pvalue, stderr) = linregress(x_values, y_values)\n",
    "regress_values = x_values * slope + intercept\n",
    "line_eq = \"y = \" + str(round(slope,2)) + \"x + \" + str(round(intercept,2))\n",
    "plt.scatter(x_values,y_values)\n",
    "plt.plot(x_values,regress_values,\"r-\")\n",
    "plt.grid()\n",
    "plt.title('Southern Hemisphere - Max Temp vs. Latitude Linear Regression')\n",
    "plt.annotate(line_eq,(40,-10),fontsize=15,color=\"red\")\n",
    "plt.xlabel('Maximum Temperature (F)')\n",
    "plt.ylabel('Latitude')\n",
    "print(f\"The r-squared is: {rvalue**2}\")\n",
    "plt.show()\n",
    "plt.savefig(\"Images/Southern Hemisphere vs Max Temp LR.png\")\n",
    "\n",
    "print('In the southern hemisphere the opposite relationship is true and as latitude decreases the temperature also decreases. However, the r value for this data is not as close to 1 indicating the correlation between latitude and temperature is not as great in the southern hemisphere.')"
   ]
  },
  {
   "cell_type": "markdown",
   "metadata": {},
   "source": [
    "####  Northern Hemisphere - Humidity (%) vs. Latitude Linear Regression"
   ]
  },
  {
   "cell_type": "code",
   "execution_count": 37,
   "metadata": {},
   "outputs": [
    {
     "name": "stdout",
     "output_type": "stream",
     "text": [
      "The r-squared is: 0.0973572408157887\n"
     ]
    },
    {
     "data": {
      "image/png": "[encoded data removed]",
      "text/plain": [
       "<Figure size 432x288 with 1 Axes>"
      ]
     },
     "metadata": {
      "needs_background": "light"
     },
     "output_type": "display_data"
    },
    {
     "name": "stdout",
     "output_type": "stream",
     "text": [
      "For humidity compared to latitude the r value is almost 0 meaning there is little correlation between latitude and humidity.\n"
     ]
    },
    {
     "data": {
      "text/plain": [
       "<Figure size 432x288 with 0 Axes>"
      ]
     },
     "metadata": {},
     "output_type": "display_data"
    }
   ],
   "source": [
    "x_values = northern_hemi['Humidity']\n",
    "y_values = northern_hemi['Lat']\n",
    "(slope, intercept, rvalue, pvalue, stderr) = linregress(x_values, y_values)\n",
    "regress_values = x_values * slope + intercept\n",
    "line_eq = \"y = \" + str(round(slope,2)) + \"x + \" + str(round(intercept,2))\n",
    "plt.scatter(x_values,y_values)\n",
    "plt.plot(x_values,regress_values,\"r-\")\n",
    "plt.grid()\n",
    "plt.title('Northern Hemisphere - Humidity (%) vs. Latitude Linear Regression')\n",
    "plt.annotate(line_eq,(40,50),fontsize=15,color=\"red\")\n",
    "plt.xlabel('Humidity (%)')\n",
    "plt.ylabel('Latitude')\n",
    "print(f\"The r-squared is: {rvalue**2}\")\n",
    "plt.show()\n",
    "plt.savefig(\"Images/Northern Hemisphere vs Humidity LR.png\")\n",
    "\n",
    "print('For humidity compared to latitude the r value is almost 0 meaning there is little correlation between latitude and humidity.')"
   ]
  },
  {
   "cell_type": "markdown",
   "metadata": {},
   "source": [
    "####  Southern Hemisphere - Humidity (%) vs. Latitude Linear Regression"
   ]
  },
  {
   "cell_type": "code",
   "execution_count": 38,
   "metadata": {},
   "outputs": [
    {
     "name": "stdout",
     "output_type": "stream",
     "text": [
      "The r-squared is: 0.08783516484237577\n"
     ]
    },
    {
     "data": {
      "image/png": "[encoded data removed]",
      "text/plain": [
       "<Figure size 432x288 with 1 Axes>"
      ]
     },
     "metadata": {
      "needs_background": "light"
     },
     "output_type": "display_data"
    },
    {
     "name": "stdout",
     "output_type": "stream",
     "text": [
      "For humidity compared to latitude the r value is almost 0 meaning there is little correlation between latitude and humidity. This observation is true in the southern hemipshere as well.\n"
     ]
    },
    {
     "data": {
      "text/plain": [
       "<Figure size 432x288 with 0 Axes>"
      ]
     },
     "metadata": {},
     "output_type": "display_data"
    }
   ],
   "source": [
    "x_values = southern_hemi['Humidity']\n",
    "y_values = southern_hemi['Lat']\n",
    "(slope, intercept, rvalue, pvalue, stderr) = linregress(x_values, y_values)\n",
    "regress_values = x_values * slope + intercept\n",
    "line_eq = \"y = \" + str(round(slope,2)) + \"x + \" + str(round(intercept,2))\n",
    "plt.scatter(x_values,y_values)\n",
    "plt.plot(x_values,regress_values,\"r-\")\n",
    "plt.grid()\n",
    "plt.title('Southern Hemisphere - Humidity (%) vs. Latitude Linear Regression')\n",
    "plt.annotate(line_eq,(20,-50),fontsize=15,color=\"red\")\n",
    "plt.xlabel('Humidity (%)')\n",
    "plt.ylabel('Latitude')\n",
    "print(f\"The r-squared is: {rvalue**2}\")\n",
    "plt.show()\n",
    "plt.savefig(\"Images/Southern Hemisphere vs Humidity LR.png\")\n",
    "\n",
    "print('For humidity compared to latitude the r value is almost 0 meaning there is little correlation between latitude and humidity. This observation is true in the southern hemipshere as well.')"
   ]
  },
  {
   "cell_type": "markdown",
   "metadata": {},
   "source": [
    "####  Northern Hemisphere - Cloudiness (%) vs. Latitude Linear Regression"
   ]
  },
  {
   "cell_type": "code",
   "execution_count": 39,
   "metadata": {},
   "outputs": [
    {
     "name": "stdout",
     "output_type": "stream",
     "text": [
      "The r-squared is: 0.1052987421140151\n"
     ]
    },
    {
     "data": {
      "image/png": "[encoded data removed]",
      "text/plain": [
       "<Figure size 432x288 with 1 Axes>"
      ]
     },
     "metadata": {
      "needs_background": "light"
     },
     "output_type": "display_data"
    },
    {
     "name": "stdout",
     "output_type": "stream",
     "text": [
      "The r value for cloudiness vs latitude in the nothern hemisphere is almost 0. Indicating there is no correllation in this data.\n"
     ]
    },
    {
     "data": {
      "text/plain": [
       "<Figure size 432x288 with 0 Axes>"
      ]
     },
     "metadata": {},
     "output_type": "display_data"
    }
   ],
   "source": [
    "x_values = northern_hemi['Cloudiness']\n",
    "y_values = northern_hemi['Lat']\n",
    "(slope, intercept, rvalue, pvalue, stderr) = linregress(x_values, y_values)\n",
    "regress_values = x_values * slope + intercept\n",
    "line_eq = \"y = \" + str(round(slope,2)) + \"x + \" + str(round(intercept,2))\n",
    "plt.scatter(x_values,y_values)\n",
    "plt.plot(x_values,regress_values,\"r-\")\n",
    "plt.grid()\n",
    "plt.title('Northern Hemisphere - Cloudiness (%) vs. Latitude Linear Regression')\n",
    "plt.annotate(line_eq,(20,30),fontsize=15,color=\"red\")\n",
    "plt.xlabel('Cloudiness (%)')\n",
    "plt.ylabel('Latitude')\n",
    "print(f\"The r-squared is: {rvalue**2}\")\n",
    "plt.show()\n",
    "plt.savefig(\"Images/Northern Hemisphere vs Cloudiness LR.png\")\n",
    "\n",
    "print('The r value for cloudiness vs latitude in the nothern hemisphere is almost 0. Indicating there is no correllation in this data.')"
   ]
  },
  {
   "cell_type": "markdown",
   "metadata": {},
   "source": [
    "####  Southern Hemisphere - Cloudiness (%) vs. Latitude Linear Regression"
   ]
  },
  {
   "cell_type": "code",
   "execution_count": 40,
   "metadata": {},
   "outputs": [
    {
     "name": "stdout",
     "output_type": "stream",
     "text": [
      "The r-squared is: 0.07113318544117819\n"
     ]
    },
    {
     "data": {
      "image/png": "[encoded data removed]",
      "text/plain": [
       "<Figure size 432x288 with 1 Axes>"
      ]
     },
     "metadata": {
      "needs_background": "light"
     },
     "output_type": "display_data"
    },
    {
     "name": "stdout",
     "output_type": "stream",
     "text": [
      "The r value for cloudiness vs latitude in the southern hemisphere is almost 0. Indicating there is no correllation in this data.\n"
     ]
    },
    {
     "data": {
      "text/plain": [
       "<Figure size 432x288 with 0 Axes>"
      ]
     },
     "metadata": {},
     "output_type": "display_data"
    }
   ],
   "source": [
    "x_values = southern_hemi['Cloudiness']\n",
    "y_values = southern_hemi['Lat']\n",
    "(slope, intercept, rvalue, pvalue, stderr) = linregress(x_values, y_values)\n",
    "regress_values = x_values * slope + intercept\n",
    "line_eq = \"y = \" + str(round(slope,2)) + \"x + \" + str(round(intercept,2))\n",
    "plt.scatter(x_values,y_values)\n",
    "plt.plot(x_values,regress_values,\"r-\")\n",
    "plt.grid()\n",
    "plt.title('Southern Hemisphere - Cloudiness (%) vs. Latitude Linear Regression')\n",
    "plt.annotate(line_eq,(20,-30),fontsize=15,color=\"red\")\n",
    "plt.xlabel('Cloudiness (%)')\n",
    "plt.ylabel('Latitude')\n",
    "print(f\"The r-squared is: {rvalue**2}\")\n",
    "plt.show()\n",
    "plt.savefig(\"Images/Southern Hemisphere vs Cloudiness LR.png\")\n",
    "\n",
    "print('The r value for cloudiness vs latitude in the southern hemisphere is almost 0. Indicating there is no correllation in this data.')"
   ]
  },
  {
   "cell_type": "markdown",
   "metadata": {},
   "source": [
    "####  Northern Hemisphere - Wind Speed (mph) vs. Latitude Linear Regression"
   ]
  },
  {
   "cell_type": "code",
   "execution_count": 41,
   "metadata": {},
   "outputs": [
    {
     "name": "stdout",
     "output_type": "stream",
     "text": [
      "The r-squared is: 0.025698064521118124\n"
     ]
    },
    {
     "data": {
      "image/png": "[encoded data removed]",
      "text/plain": [
       "<Figure size 432x288 with 1 Axes>"
      ]
     },
     "metadata": {
      "needs_background": "light"
     },
     "output_type": "display_data"
    },
    {
     "name": "stdout",
     "output_type": "stream",
     "text": [
      "The r value for wind speed vs latitude in the northern hemisphere is almost 0. Indicating there is no correllation in this data.\n"
     ]
    },
    {
     "data": {
      "text/plain": [
       "<Figure size 432x288 with 0 Axes>"
      ]
     },
     "metadata": {},
     "output_type": "display_data"
    }
   ],
   "source": [
    "x_values = northern_hemi['Wind Speed']\n",
    "y_values = northern_hemi['Lat']\n",
    "(slope, intercept, rvalue, pvalue, stderr) = linregress(x_values, y_values)\n",
    "regress_values = x_values * slope + intercept\n",
    "line_eq = \"y = \" + str(round(slope,2)) + \"x + \" + str(round(intercept,2))\n",
    "plt.scatter(x_values,y_values)\n",
    "plt.plot(x_values,regress_values,\"r-\")\n",
    "plt.grid()\n",
    "plt.title('Northern Hemisphere - Wind Speed (mph) vs. Latitude Linear Regression')\n",
    "plt.annotate(line_eq,(20,40),fontsize=15,color=\"red\")\n",
    "plt.xlabel('Wind Speed')\n",
    "plt.ylabel('Latitude')\n",
    "print(f\"The r-squared is: {rvalue**2}\")\n",
    "plt.show()\n",
    "plt.savefig(\"Images/Northern Hemisphere vs Wind Speed LR.png\")\n",
    "\n",
    "print('The r value for wind speed vs latitude in the northern hemisphere is almost 0. Indicating there is no correllation in this data.')"
   ]
  },
  {
   "cell_type": "markdown",
   "metadata": {},
   "source": [
    "####  Southern Hemisphere - Wind Speed (mph) vs. Latitude Linear Regression"
   ]
  },
  {
   "cell_type": "code",
   "execution_count": 42,
   "metadata": {},
   "outputs": [
    {
     "name": "stdout",
     "output_type": "stream",
     "text": [
      "The r-squared is: 0.08017874192697452\n"
     ]
    },
    {
     "data": {
      "image/png": "[encoded data removed]",
      "text/plain": [
       "<Figure size 432x288 with 1 Axes>"
      ]
     },
     "metadata": {
      "needs_background": "light"
     },
     "output_type": "display_data"
    },
    {
     "name": "stdout",
     "output_type": "stream",
     "text": [
      "The r value for wind speed vs latitude in the southern hemisphere is almost 0. Indicating there is no correllation in this data.\n"
     ]
    },
    {
     "data": {
      "text/plain": [
       "<Figure size 432x288 with 0 Axes>"
      ]
     },
     "metadata": {},
     "output_type": "display_data"
    }
   ],
   "source": [
    "x_values = southern_hemi['Wind Speed']\n",
    "y_values = southern_hemi['Lat']\n",
    "(slope, intercept, rvalue, pvalue, stderr) = linregress(x_values, y_values)\n",
    "regress_values = x_values * slope + intercept\n",
    "line_eq = \"y = \" + str(round(slope,2)) + \"x + \" + str(round(intercept,2))\n",
    "plt.scatter(x_values,y_values)\n",
    "plt.plot(x_values,regress_values,\"r-\")\n",
    "plt.grid()\n",
    "plt.title('Southern Hemisphere - Wind Speed (mph) vs. Latitude Linear Regression')\n",
    "plt.annotate(line_eq,(20,-30),fontsize=15,color=\"red\")\n",
    "plt.xlabel('Wind Speed')\n",
    "plt.ylabel('Latitude')\n",
    "print(f\"The r-squared is: {rvalue**2}\")\n",
    "plt.show()\n",
    "plt.savefig(\"Images/Southern Hemisphere vs Wind Speed LR.png\")\n",
    "\n",
    "print('The r value for wind speed vs latitude in the southern hemisphere is almost 0. Indicating there is no correllation in this data.')"
   ]
  },
  {
   "cell_type": "code",
   "execution_count": 43,
   "metadata": {},
   "outputs": [],
   "source": [
    "# Observations\n",
    "# 1. Maximum temperature will increase as you move further away from 0 Latitude (the equator)\n",
    "# 2. Humidity is highest and most concentrated at higher values closer to 0 latitude.\n",
    "# 3. Wind speeds tend to increase as you move further away from 0 latitude. However, there is not a strong correlation between latitude and wind speed."
   ]
  },
  {
   "cell_type": "code",
   "execution_count": null,
   "metadata": {},
   "outputs": [],
   "source": []
  },
  {
   "cell_type": "code",
   "execution_count": null,
   "metadata": {},
   "outputs": [],
   "source": []
  },
  {
   "cell_type": "code",
   "execution_count": null,
   "metadata": {},
   "outputs": [],
   "source": []
  }
 ],
 "metadata": {
  "anaconda-cloud": {},
  "kernel_info": {
   "name": "python3"
  },
  "kernelspec": {
   "display_name": "Python 3",
   "language": "python",
   "name": "python3"
  },
  "language_info": {
   "codemirror_mode": {
    "name": "ipython",
    "version": 3
   },
   "file_extension": ".py",
   "mimetype": "text/x-python",
   "name": "python",
   "nbconvert_exporter": "python",
   "pygments_lexer": "ipython3",
   "version": "3.8.3"
  },
  "latex_envs": {
   "LaTeX_envs_menu_present": true,
   "autoclose": false,
   "autocomplete": true,
   "bibliofile": "biblio.bib",
   "cite_by": "apalike",
   "current_citInitial": 1,
   "eqLabelWithNumbers": true,
   "eqNumInitial": 1,
   "hotkeys": {
    "equation": "Ctrl-E",
    "itemize": "Ctrl-I"
   },
   "labels_anchors": false,
   "latex_user_defs": false,
   "report_style_numbering": false,
   "user_envs_cfg": false
  },
  "nteract": {
   "version": "0.12.3"
  }
 },
 "nbformat": 4,
 "nbformat_minor": 2
}
